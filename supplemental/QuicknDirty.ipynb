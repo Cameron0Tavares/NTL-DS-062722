{
 "cells": [
  {
   "cell_type": "code",
   "execution_count": 1,
   "id": "893b0bdc",
   "metadata": {
    "ExecuteTime": {
     "end_time": "2022-08-12T14:08:07.394694Z",
     "start_time": "2022-08-12T14:08:05.140697Z"
    }
   },
   "outputs": [],
   "source": [
    "import pandas as pd\n",
    "import numpy as np\n",
    "from pandas_profiling import ProfileReport\n",
    "from sklearn.linear_model import Ridge, LinearRegression\n",
    "from sklearn.model_selection import train_test_split, KFold\n",
    "from sklearn.metrics import mean_squared_error"
   ]
  },
  {
   "cell_type": "markdown",
   "id": "bb5e7fb7",
   "metadata": {},
   "source": [
    "First, a [new tool](https://pandas-profiling.ydata.ai/docs/master/pages/getting_started/overview.html)"
   ]
  },
  {
   "cell_type": "code",
   "execution_count": 2,
   "id": "5977eb98",
   "metadata": {
    "ExecuteTime": {
     "end_time": "2022-08-12T14:08:07.397894Z",
     "start_time": "2022-08-12T14:08:07.396516Z"
    }
   },
   "outputs": [],
   "source": [
    "# You'll thank me later\n",
    "\n",
    "# pip install pandas-profiling==3.2.0\n",
    "\n",
    "#might through an error abou markupsafe, need to downgrade\n",
    "# pip install markupsafe==2.0.1"
   ]
  },
  {
   "cell_type": "markdown",
   "id": "5bfcacf1",
   "metadata": {},
   "source": [
    "Let's do a quick and dirty eval.\n",
    "\n",
    "Steps.\n",
    "\n",
    "1. Data check\n",
    "    - Type\n",
    "    - Describe\n",
    "    - Info\n",
    "\n",
    "\n",
    "2. Data Quality\n",
    "    - Nulls\n",
    "    - Duplicates\n",
    "    - Incorrect types\n",
    "  \n",
    "  \n",
    "3. TTS\n",
    "\n",
    "4. StandardScaler\n",
    "\n",
    "5. OHE\n",
    "\n",
    "6. Dummy\n",
    "\n",
    "7. FSM"
   ]
  },
  {
   "cell_type": "code",
   "execution_count": 3,
   "id": "375bc08c",
   "metadata": {
    "ExecuteTime": {
     "end_time": "2022-08-12T14:08:07.409265Z",
     "start_time": "2022-08-12T14:08:07.398914Z"
    }
   },
   "outputs": [],
   "source": [
    "df = pd.read_csv('./data/imports-85.csv')"
   ]
  },
  {
   "cell_type": "code",
   "execution_count": 4,
   "id": "ef9e1f98",
   "metadata": {
    "ExecuteTime": {
     "end_time": "2022-08-12T14:08:07.429046Z",
     "start_time": "2022-08-12T14:08:07.410285Z"
    }
   },
   "outputs": [
    {
     "data": {
      "text/html": [
       "<div>\n",
       "<style scoped>\n",
       "    .dataframe tbody tr th:only-of-type {\n",
       "        vertical-align: middle;\n",
       "    }\n",
       "\n",
       "    .dataframe tbody tr th {\n",
       "        vertical-align: top;\n",
       "    }\n",
       "\n",
       "    .dataframe thead th {\n",
       "        text-align: right;\n",
       "    }\n",
       "</style>\n",
       "<table border=\"1\" class=\"dataframe\">\n",
       "  <thead>\n",
       "    <tr style=\"text-align: right;\">\n",
       "      <th></th>\n",
       "      <th>make</th>\n",
       "      <th>fuel</th>\n",
       "      <th>aspiration</th>\n",
       "      <th>doors</th>\n",
       "      <th>style</th>\n",
       "      <th>drive</th>\n",
       "      <th>engine</th>\n",
       "      <th>wheelbase</th>\n",
       "      <th>length</th>\n",
       "      <th>width</th>\n",
       "      <th>...</th>\n",
       "      <th>size</th>\n",
       "      <th>fuelsystem</th>\n",
       "      <th>bore</th>\n",
       "      <th>stroke</th>\n",
       "      <th>compratio</th>\n",
       "      <th>horsepower</th>\n",
       "      <th>peakrpm</th>\n",
       "      <th>citympg</th>\n",
       "      <th>himpg</th>\n",
       "      <th>price</th>\n",
       "    </tr>\n",
       "  </thead>\n",
       "  <tbody>\n",
       "    <tr>\n",
       "      <th>0</th>\n",
       "      <td>alfa-romero</td>\n",
       "      <td>gas</td>\n",
       "      <td>std</td>\n",
       "      <td>two</td>\n",
       "      <td>convertible</td>\n",
       "      <td>rwd</td>\n",
       "      <td>front</td>\n",
       "      <td>88.6</td>\n",
       "      <td>168.8</td>\n",
       "      <td>64.1</td>\n",
       "      <td>...</td>\n",
       "      <td>130</td>\n",
       "      <td>mpfi</td>\n",
       "      <td>3.47</td>\n",
       "      <td>2.68</td>\n",
       "      <td>9.0</td>\n",
       "      <td>111</td>\n",
       "      <td>5000</td>\n",
       "      <td>21</td>\n",
       "      <td>27</td>\n",
       "      <td>13495</td>\n",
       "    </tr>\n",
       "    <tr>\n",
       "      <th>1</th>\n",
       "      <td>alfa-romero</td>\n",
       "      <td>gas</td>\n",
       "      <td>std</td>\n",
       "      <td>two</td>\n",
       "      <td>convertible</td>\n",
       "      <td>rwd</td>\n",
       "      <td>front</td>\n",
       "      <td>88.6</td>\n",
       "      <td>168.8</td>\n",
       "      <td>64.1</td>\n",
       "      <td>...</td>\n",
       "      <td>130</td>\n",
       "      <td>mpfi</td>\n",
       "      <td>3.47</td>\n",
       "      <td>2.68</td>\n",
       "      <td>9.0</td>\n",
       "      <td>111</td>\n",
       "      <td>5000</td>\n",
       "      <td>21</td>\n",
       "      <td>27</td>\n",
       "      <td>16500</td>\n",
       "    </tr>\n",
       "    <tr>\n",
       "      <th>2</th>\n",
       "      <td>alfa-romero</td>\n",
       "      <td>gas</td>\n",
       "      <td>std</td>\n",
       "      <td>two</td>\n",
       "      <td>hatchback</td>\n",
       "      <td>rwd</td>\n",
       "      <td>front</td>\n",
       "      <td>94.5</td>\n",
       "      <td>171.2</td>\n",
       "      <td>65.5</td>\n",
       "      <td>...</td>\n",
       "      <td>152</td>\n",
       "      <td>mpfi</td>\n",
       "      <td>2.68</td>\n",
       "      <td>3.47</td>\n",
       "      <td>9.0</td>\n",
       "      <td>154</td>\n",
       "      <td>5000</td>\n",
       "      <td>19</td>\n",
       "      <td>26</td>\n",
       "      <td>16500</td>\n",
       "    </tr>\n",
       "    <tr>\n",
       "      <th>3</th>\n",
       "      <td>audi</td>\n",
       "      <td>gas</td>\n",
       "      <td>std</td>\n",
       "      <td>four</td>\n",
       "      <td>sedan</td>\n",
       "      <td>fwd</td>\n",
       "      <td>front</td>\n",
       "      <td>99.8</td>\n",
       "      <td>176.6</td>\n",
       "      <td>66.2</td>\n",
       "      <td>...</td>\n",
       "      <td>109</td>\n",
       "      <td>mpfi</td>\n",
       "      <td>3.19</td>\n",
       "      <td>3.4</td>\n",
       "      <td>10.0</td>\n",
       "      <td>102</td>\n",
       "      <td>5500</td>\n",
       "      <td>24</td>\n",
       "      <td>30</td>\n",
       "      <td>13950</td>\n",
       "    </tr>\n",
       "    <tr>\n",
       "      <th>4</th>\n",
       "      <td>audi</td>\n",
       "      <td>gas</td>\n",
       "      <td>std</td>\n",
       "      <td>four</td>\n",
       "      <td>sedan</td>\n",
       "      <td>4wd</td>\n",
       "      <td>front</td>\n",
       "      <td>99.4</td>\n",
       "      <td>176.6</td>\n",
       "      <td>66.4</td>\n",
       "      <td>...</td>\n",
       "      <td>136</td>\n",
       "      <td>mpfi</td>\n",
       "      <td>3.19</td>\n",
       "      <td>3.4</td>\n",
       "      <td>8.0</td>\n",
       "      <td>115</td>\n",
       "      <td>5500</td>\n",
       "      <td>18</td>\n",
       "      <td>22</td>\n",
       "      <td>17450</td>\n",
       "    </tr>\n",
       "  </tbody>\n",
       "</table>\n",
       "<p>5 rows × 24 columns</p>\n",
       "</div>"
      ],
      "text/plain": [
       "          make fuel aspiration doors        style drive engine  wheelbase  \\\n",
       "0  alfa-romero  gas        std   two  convertible   rwd  front       88.6   \n",
       "1  alfa-romero  gas        std   two  convertible   rwd  front       88.6   \n",
       "2  alfa-romero  gas        std   two    hatchback   rwd  front       94.5   \n",
       "3         audi  gas        std  four        sedan   fwd  front       99.8   \n",
       "4         audi  gas        std  four        sedan   4wd  front       99.4   \n",
       "\n",
       "   length  width  ...  size  fuelsystem  bore stroke  compratio horsepower  \\\n",
       "0   168.8   64.1  ...   130        mpfi  3.47   2.68        9.0        111   \n",
       "1   168.8   64.1  ...   130        mpfi  3.47   2.68        9.0        111   \n",
       "2   171.2   65.5  ...   152        mpfi  2.68   3.47        9.0        154   \n",
       "3   176.6   66.2  ...   109        mpfi  3.19    3.4       10.0        102   \n",
       "4   176.6   66.4  ...   136        mpfi  3.19    3.4        8.0        115   \n",
       "\n",
       "  peakrpm citympg  himpg  price  \n",
       "0    5000      21     27  13495  \n",
       "1    5000      21     27  16500  \n",
       "2    5000      19     26  16500  \n",
       "3    5500      24     30  13950  \n",
       "4    5500      18     22  17450  \n",
       "\n",
       "[5 rows x 24 columns]"
      ]
     },
     "execution_count": 4,
     "metadata": {},
     "output_type": "execute_result"
    }
   ],
   "source": [
    "df.head()"
   ]
  },
  {
   "cell_type": "code",
   "execution_count": 5,
   "id": "ccb5bfee",
   "metadata": {
    "ExecuteTime": {
     "end_time": "2022-08-12T14:08:07.431943Z",
     "start_time": "2022-08-12T14:08:07.430393Z"
    }
   },
   "outputs": [],
   "source": [
    "# profile = ProfileReport(df, title=\"cars\")"
   ]
  },
  {
   "cell_type": "code",
   "execution_count": 6,
   "id": "2e165a36",
   "metadata": {
    "ExecuteTime": {
     "end_time": "2022-08-12T14:08:07.434303Z",
     "start_time": "2022-08-12T14:08:07.432938Z"
    },
    "scrolled": true
   },
   "outputs": [],
   "source": [
    "# profile.to_notebook_iframe()"
   ]
  },
  {
   "cell_type": "code",
   "execution_count": 7,
   "id": "a4054a61",
   "metadata": {
    "ExecuteTime": {
     "end_time": "2022-08-12T14:08:07.454269Z",
     "start_time": "2022-08-12T14:08:07.442137Z"
    }
   },
   "outputs": [
    {
     "name": "stdout",
     "output_type": "stream",
     "text": [
      "<class 'pandas.core.frame.DataFrame'>\n",
      "RangeIndex: 205 entries, 0 to 204\n",
      "Data columns (total 24 columns):\n",
      " #   Column      Non-Null Count  Dtype  \n",
      "---  ------      --------------  -----  \n",
      " 0   make        205 non-null    object \n",
      " 1   fuel        205 non-null    object \n",
      " 2   aspiration  205 non-null    object \n",
      " 3   doors       205 non-null    object \n",
      " 4   style       205 non-null    object \n",
      " 5   drive       205 non-null    object \n",
      " 6   engine      205 non-null    object \n",
      " 7   wheelbase   205 non-null    float64\n",
      " 8   length      205 non-null    float64\n",
      " 9   width       205 non-null    float64\n",
      " 10  height      205 non-null    float64\n",
      " 11  weight      205 non-null    int64  \n",
      " 12  type        205 non-null    object \n",
      " 13  cylinders   205 non-null    object \n",
      " 14  size        205 non-null    int64  \n",
      " 15  fuelsystem  205 non-null    object \n",
      " 16  bore        205 non-null    object \n",
      " 17  stroke      205 non-null    object \n",
      " 18  compratio   205 non-null    float64\n",
      " 19  horsepower  205 non-null    object \n",
      " 20  peakrpm     205 non-null    object \n",
      " 21  citympg     205 non-null    int64  \n",
      " 22  himpg       205 non-null    int64  \n",
      " 23  price       205 non-null    object \n",
      "dtypes: float64(5), int64(4), object(15)\n",
      "memory usage: 38.6+ KB\n"
     ]
    }
   ],
   "source": [
    "df.info()"
   ]
  },
  {
   "cell_type": "code",
   "execution_count": 8,
   "id": "940c9ff3",
   "metadata": {
    "ExecuteTime": {
     "end_time": "2022-08-12T14:08:07.459287Z",
     "start_time": "2022-08-12T14:08:07.455835Z"
    }
   },
   "outputs": [
    {
     "data": {
      "text/plain": [
       "make          0\n",
       "fuel          0\n",
       "aspiration    0\n",
       "doors         0\n",
       "style         0\n",
       "drive         0\n",
       "engine        0\n",
       "wheelbase     0\n",
       "length        0\n",
       "width         0\n",
       "height        0\n",
       "weight        0\n",
       "type          0\n",
       "cylinders     0\n",
       "size          0\n",
       "fuelsystem    0\n",
       "bore          0\n",
       "stroke        0\n",
       "compratio     0\n",
       "horsepower    0\n",
       "peakrpm       0\n",
       "citympg       0\n",
       "himpg         0\n",
       "price         0\n",
       "dtype: int64"
      ]
     },
     "execution_count": 8,
     "metadata": {},
     "output_type": "execute_result"
    }
   ],
   "source": [
    "df.isnull().sum()"
   ]
  },
  {
   "cell_type": "code",
   "execution_count": 9,
   "id": "f57a49f5",
   "metadata": {
    "ExecuteTime": {
     "end_time": "2022-08-12T14:08:07.467046Z",
     "start_time": "2022-08-12T14:08:07.460310Z"
    }
   },
   "outputs": [],
   "source": [
    "df = df.applymap(lambda x: np.nan if x == '?' else x)"
   ]
  },
  {
   "cell_type": "code",
   "execution_count": 10,
   "id": "cb622f0b",
   "metadata": {
    "ExecuteTime": {
     "end_time": "2022-08-12T14:08:07.471740Z",
     "start_time": "2022-08-12T14:08:07.468275Z"
    },
    "scrolled": true
   },
   "outputs": [
    {
     "data": {
      "text/plain": [
       "make          0\n",
       "fuel          0\n",
       "aspiration    0\n",
       "doors         2\n",
       "style         0\n",
       "drive         0\n",
       "engine        0\n",
       "wheelbase     0\n",
       "length        0\n",
       "width         0\n",
       "height        0\n",
       "weight        0\n",
       "type          0\n",
       "cylinders     0\n",
       "size          0\n",
       "fuelsystem    0\n",
       "bore          4\n",
       "stroke        4\n",
       "compratio     0\n",
       "horsepower    2\n",
       "peakrpm       2\n",
       "citympg       0\n",
       "himpg         0\n",
       "price         4\n",
       "dtype: int64"
      ]
     },
     "execution_count": 10,
     "metadata": {},
     "output_type": "execute_result"
    }
   ],
   "source": [
    "df.isnull().sum()"
   ]
  },
  {
   "cell_type": "code",
   "execution_count": 11,
   "id": "927848a6",
   "metadata": {
    "ExecuteTime": {
     "end_time": "2022-08-12T14:08:07.476733Z",
     "start_time": "2022-08-12T14:08:07.472691Z"
    }
   },
   "outputs": [],
   "source": [
    "df.dropna(inplace=True)"
   ]
  },
  {
   "cell_type": "code",
   "execution_count": 12,
   "id": "1775a765",
   "metadata": {
    "ExecuteTime": {
     "end_time": "2022-08-12T14:08:07.483352Z",
     "start_time": "2022-08-12T14:08:07.477731Z"
    },
    "scrolled": true
   },
   "outputs": [
    {
     "name": "stdout",
     "output_type": "stream",
     "text": [
      "<class 'pandas.core.frame.DataFrame'>\n",
      "Int64Index: 193 entries, 0 to 204\n",
      "Data columns (total 24 columns):\n",
      " #   Column      Non-Null Count  Dtype  \n",
      "---  ------      --------------  -----  \n",
      " 0   make        193 non-null    object \n",
      " 1   fuel        193 non-null    object \n",
      " 2   aspiration  193 non-null    object \n",
      " 3   doors       193 non-null    object \n",
      " 4   style       193 non-null    object \n",
      " 5   drive       193 non-null    object \n",
      " 6   engine      193 non-null    object \n",
      " 7   wheelbase   193 non-null    float64\n",
      " 8   length      193 non-null    float64\n",
      " 9   width       193 non-null    float64\n",
      " 10  height      193 non-null    float64\n",
      " 11  weight      193 non-null    int64  \n",
      " 12  type        193 non-null    object \n",
      " 13  cylinders   193 non-null    object \n",
      " 14  size        193 non-null    int64  \n",
      " 15  fuelsystem  193 non-null    object \n",
      " 16  bore        193 non-null    object \n",
      " 17  stroke      193 non-null    object \n",
      " 18  compratio   193 non-null    float64\n",
      " 19  horsepower  193 non-null    object \n",
      " 20  peakrpm     193 non-null    object \n",
      " 21  citympg     193 non-null    int64  \n",
      " 22  himpg       193 non-null    int64  \n",
      " 23  price       193 non-null    object \n",
      "dtypes: float64(5), int64(4), object(15)\n",
      "memory usage: 37.7+ KB\n"
     ]
    }
   ],
   "source": [
    "df.info()"
   ]
  },
  {
   "cell_type": "code",
   "execution_count": 13,
   "id": "8d121654",
   "metadata": {
    "ExecuteTime": {
     "end_time": "2022-08-12T14:08:07.486918Z",
     "start_time": "2022-08-12T14:08:07.484932Z"
    }
   },
   "outputs": [],
   "source": [
    "cylmap = {\n",
    "    'four': 4,\n",
    "    'six': 6,\n",
    "    'five': 5,\n",
    "    'eight': 8,\n",
    "    'three': 3,\n",
    "    'twelve': 12\n",
    "}"
   ]
  },
  {
   "cell_type": "code",
   "execution_count": 14,
   "id": "e5f1a284",
   "metadata": {
    "ExecuteTime": {
     "end_time": "2022-08-12T14:08:07.492277Z",
     "start_time": "2022-08-12T14:08:07.488109Z"
    }
   },
   "outputs": [
    {
     "data": {
      "text/plain": [
       "4     153\n",
       "6      24\n",
       "5      10\n",
       "8       4\n",
       "12      1\n",
       "3       1\n",
       "Name: cylinders, dtype: int64"
      ]
     },
     "execution_count": 14,
     "metadata": {},
     "output_type": "execute_result"
    }
   ],
   "source": [
    "df.cylinders.replace(cylmap).value_counts()"
   ]
  },
  {
   "cell_type": "code",
   "execution_count": 15,
   "id": "a573bd5e",
   "metadata": {
    "ExecuteTime": {
     "end_time": "2022-08-12T14:08:07.496564Z",
     "start_time": "2022-08-12T14:08:07.493288Z"
    }
   },
   "outputs": [],
   "source": [
    "df.cylinders = df.cylinders.replace(cylmap)"
   ]
  },
  {
   "cell_type": "code",
   "execution_count": 16,
   "id": "8e5e00d9",
   "metadata": {
    "ExecuteTime": {
     "end_time": "2022-08-12T14:08:07.500861Z",
     "start_time": "2022-08-12T14:08:07.497856Z"
    }
   },
   "outputs": [],
   "source": [
    "df.horsepower = df.horsepower.astype(int)"
   ]
  },
  {
   "cell_type": "code",
   "execution_count": 17,
   "id": "8a78311a",
   "metadata": {
    "ExecuteTime": {
     "end_time": "2022-08-12T14:08:07.504796Z",
     "start_time": "2022-08-12T14:08:07.502625Z"
    },
    "scrolled": true
   },
   "outputs": [],
   "source": [
    "df.peakrpm = df.peakrpm.astype(int)"
   ]
  },
  {
   "cell_type": "code",
   "execution_count": 18,
   "id": "70288bb0",
   "metadata": {
    "ExecuteTime": {
     "end_time": "2022-08-12T14:08:07.508972Z",
     "start_time": "2022-08-12T14:08:07.505955Z"
    }
   },
   "outputs": [
    {
     "data": {
      "text/plain": [
       "four    112\n",
       "two      81\n",
       "Name: doors, dtype: int64"
      ]
     },
     "execution_count": 18,
     "metadata": {},
     "output_type": "execute_result"
    }
   ],
   "source": [
    "df.doors.value_counts()"
   ]
  },
  {
   "cell_type": "code",
   "execution_count": 19,
   "id": "5d78f3b4",
   "metadata": {
    "ExecuteTime": {
     "end_time": "2022-08-12T14:08:07.514216Z",
     "start_time": "2022-08-12T14:08:07.509965Z"
    }
   },
   "outputs": [
    {
     "data": {
      "text/plain": [
       "4    112\n",
       "2     81\n",
       "Name: doors, dtype: int64"
      ]
     },
     "execution_count": 19,
     "metadata": {},
     "output_type": "execute_result"
    }
   ],
   "source": [
    "df.doors = df.doors.apply(lambda x: 2 if x == 'two' else 4)\n",
    "df.doors.value_counts()"
   ]
  },
  {
   "cell_type": "code",
   "execution_count": 21,
   "id": "943171ea",
   "metadata": {
    "ExecuteTime": {
     "end_time": "2022-08-12T14:09:04.550952Z",
     "start_time": "2022-08-12T14:09:04.536844Z"
    }
   },
   "outputs": [
    {
     "data": {
      "text/plain": [
       "['make',\n",
       " 'fuel',\n",
       " 'aspiration',\n",
       " 'style',\n",
       " 'drive',\n",
       " 'engine',\n",
       " 'type',\n",
       " 'fuelsystem',\n",
       " 'bore',\n",
       " 'stroke',\n",
       " 'price']"
      ]
     },
     "execution_count": 21,
     "metadata": {},
     "output_type": "execute_result"
    }
   ],
   "source": [
    "[col for col in df if df[col].dtypes == 'object']"
   ]
  },
  {
   "cell_type": "code",
   "execution_count": 23,
   "id": "3d1a37ed",
   "metadata": {
    "ExecuteTime": {
     "end_time": "2022-08-12T14:15:06.325645Z",
     "start_time": "2022-08-12T14:15:06.277473Z"
    }
   },
   "outputs": [
    {
     "ename": "NameError",
     "evalue": "name 'objectcollist' is not defined",
     "output_type": "error",
     "traceback": [
      "\u001b[0;31m---------------------------------------------------------------------------\u001b[0m",
      "\u001b[0;31mNameError\u001b[0m                                 Traceback (most recent call last)",
      "\u001b[0;32m<ipython-input-23-886ef4439eb0>\u001b[0m in \u001b[0;36m<module>\u001b[0;34m\u001b[0m\n\u001b[0;32m----> 1\u001b[0;31m \u001b[0;32mfor\u001b[0m \u001b[0mcol\u001b[0m \u001b[0;32min\u001b[0m \u001b[0mobjectcollist\u001b[0m\u001b[0;34m:\u001b[0m \u001b[0mohe\u001b[0m\u001b[0;34m.\u001b[0m\u001b[0mfit\u001b[0m\u001b[0;34m(\u001b[0m\u001b[0mX_train\u001b[0m\u001b[0;34m.\u001b[0m\u001b[0mcol\u001b[0m\u001b[0;34m)\u001b[0m\u001b[0;34m\u001b[0m\u001b[0;34m\u001b[0m\u001b[0m\n\u001b[0m",
      "\u001b[0;31mNameError\u001b[0m: name 'objectcollist' is not defined"
     ]
    }
   ],
   "source": [
    "for col in objectcollist: ohe.fit(X_train.col)"
   ]
  },
  {
   "cell_type": "code",
   "execution_count": null,
   "id": "630784b8",
   "metadata": {},
   "outputs": [],
   "source": []
  }
 ],
 "metadata": {
  "kernelspec": {
   "display_name": "Python (learn-env)",
   "language": "python",
   "name": "learn-env"
  },
  "language_info": {
   "codemirror_mode": {
    "name": "ipython",
    "version": 3
   },
   "file_extension": ".py",
   "mimetype": "text/x-python",
   "name": "python",
   "nbconvert_exporter": "python",
   "pygments_lexer": "ipython3",
   "version": "3.8.5"
  },
  "toc": {
   "base_numbering": 1,
   "nav_menu": {},
   "number_sections": true,
   "sideBar": true,
   "skip_h1_title": false,
   "title_cell": "Table of Contents",
   "title_sidebar": "Contents",
   "toc_cell": false,
   "toc_position": {},
   "toc_section_display": true,
   "toc_window_display": false
  },
  "varInspector": {
   "cols": {
    "lenName": 16,
    "lenType": 16,
    "lenVar": 40
   },
   "kernels_config": {
    "python": {
     "delete_cmd_postfix": "",
     "delete_cmd_prefix": "del ",
     "library": "var_list.py",
     "varRefreshCmd": "print(var_dic_list())"
    },
    "r": {
     "delete_cmd_postfix": ") ",
     "delete_cmd_prefix": "rm(",
     "library": "var_list.r",
     "varRefreshCmd": "cat(var_dic_list()) "
    }
   },
   "types_to_exclude": [
    "module",
    "function",
    "builtin_function_or_method",
    "instance",
    "_Feature"
   ],
   "window_display": false
  }
 },
 "nbformat": 4,
 "nbformat_minor": 5
}
