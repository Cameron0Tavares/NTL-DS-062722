{
 "cells": [
  {
   "cell_type": "markdown",
   "id": "57ea451a",
   "metadata": {},
   "source": [
    "### Extra special command line stuffs"
   ]
  },
  {
   "cell_type": "code",
   "execution_count": 1,
   "id": "776e427d",
   "metadata": {
    "code_folding": []
   },
   "outputs": [],
   "source": [
    "# !pip3 install ipywidgets\n",
    "# !pip3 install jupyternotify\n",
    "# !pip3 install jupyterthemes\n",
    "# !pip3 install autopep8\n",
    "# !pip3 install -U jupyter\n",
    "# !pip install jupyter_contrib_nbextensions && jupyter contrib nbextension install --user\n",
    "\n",
    "# !jupyter nbextension enable --py widgetsnbextension\n",
    "# !jupyter contrib nbextension install --sys-prefix\n",
    "\n",
    "# !jt -t chesterish -f fira -fs 10 -nf ptsans -nfs 11 -N -kl -cursw 2 -cursc r -cellw 95% -T \n"
   ]
  },
  {
   "cell_type": "markdown",
   "id": "12f75d50",
   "metadata": {},
   "source": [
    "### Regular python program stuff"
   ]
  },
  {
   "cell_type": "code",
   "execution_count": 1,
   "id": "03e833f0",
   "metadata": {
    "ExecuteTime": {
     "end_time": "2022-08-09T17:34:58.587401Z",
     "start_time": "2022-08-09T17:34:56.719513Z"
    }
   },
   "outputs": [],
   "source": [
    "# standard funtime\n",
    "import numpy as np\n",
    "import pandas as pd\n",
    "import seaborn as sns\n",
    "from sklearn.linear_model import LinearRegression\n",
    "import matplotlib.pyplot as plt\n",
    "import matplotlib.style\n",
    "\n",
    "\n",
    "# special funtime\n",
    "import ipywidgets as widgets\n",
    "from ipywidgets import interact, interact_manual\n",
    "from IPython.core import interactiveshell as InteractiveShell\n",
    "import jupyternotify\n",
    "\n",
    "matplotlib.style.use('dark_background')"
   ]
  },
  {
   "cell_type": "code",
   "execution_count": null,
   "id": "79129ce3",
   "metadata": {},
   "outputs": [],
   "source": [
    "from sklearn.linear_model import LinearRegression\n",
    "from sklearn.model_selection import train_test_split, cross_validate, KFold\n",
    "from sklearn.preprocessing import StandardScaler, OneHotEncoder\n",
    "from sklearn.metrics import mean_squared_error, make_scorer"
   ]
  },
  {
   "cell_type": "code",
   "execution_count": 2,
   "id": "2e7ceb22",
   "metadata": {
    "ExecuteTime": {
     "end_time": "2022-08-09T17:34:58.621129Z",
     "start_time": "2022-08-09T17:34:58.588659Z"
    }
   },
   "outputs": [
    {
     "data": {
      "application/javascript": [
       "if (!(\"Notification\" in window)) {\n",
       "    alert(\"This browser does not support desktop notifications, so the %%notify magic will not work.\");\n",
       "} else if (Notification.permission !== 'granted' && Notification.permission !== 'denied') {\n",
       "    Notification.requestPermission(function (permission) {\n",
       "        if(!('permission' in Notification)) {\n",
       "            Notification.permission = permission;\n",
       "        }\n",
       "    })\n",
       "}\n"
      ],
      "text/plain": [
       "<IPython.core.display.Javascript object>"
      ]
     },
     "metadata": {},
     "output_type": "display_data"
    },
    {
     "data": {
      "application/javascript": [
       "if (!(\"Notification\" in window)) {\n",
       "    alert(\"This browser does not support desktop notifications, so the %%notify magic will not work.\");\n",
       "} else if (Notification.permission !== 'granted' && Notification.permission !== 'denied') {\n",
       "    Notification.requestPermission(function (permission) {\n",
       "        if(!('permission' in Notification)) {\n",
       "            Notification.permission = permission;\n",
       "        }\n",
       "    })\n",
       "}\n"
      ],
      "text/plain": [
       "<IPython.core.display.Javascript object>"
      ]
     },
     "metadata": {},
     "output_type": "display_data"
    }
   ],
   "source": [
    "%load_ext autoreload\n",
    "%autoreload 2\n",
    "%matplotlib inline\n",
    "%config IPCompleter.greedy = True\n",
    "%reload_ext jupyternotify\n",
    "pd.options.display.max_columns = None\n",
    "pd.options.display.max_rows = 200\n",
    "sns.set_palette(\"bright\")\n",
    "sns.set(style=\"darkgrid\")\n",
    "sns.set(rc={'figure.figsize':(30,30)})\n",
    "InteractiveShell.ast_node_interactivity = \"all\"\n",
    "ip = get_ipython()\n",
    "ip.register_magics(jupyternotify.JupyterNotifyMagics)\n",
    "%autonotify -a 120\n"
   ]
  },
  {
   "cell_type": "code",
   "execution_count": null,
   "id": "b134c43c",
   "metadata": {},
   "outputs": [],
   "source": [
    "# the train-test split\n",
    "\n",
    "X_train, X_test, y_train, y_test = train_test_split(\n",
    "    'stuff',\n",
    "    'things'\n",
    ")"
   ]
  },
  {
   "cell_type": "code",
   "execution_count": null,
   "id": "8afe71b3",
   "metadata": {},
   "outputs": [],
   "source": [
    "cross_validate(estimator=LinearRegression(),\n",
    "                X=X_train2,\n",
    "                y=y_train2,\n",
    "                scoring=mse,\n",
    "                return_estimator=True)"
   ]
  },
  {
   "cell_type": "code",
   "execution_count": null,
   "id": "97e10003",
   "metadata": {},
   "outputs": [],
   "source": [
    "# a basic plot... thing\n",
    "\n",
    "fig, ax = plt.subplots()\n",
    "\n",
    "X = np.linspace(0, 310, 600)\n",
    "y = lr2.coef_ * X + lr2.intercept_\n",
    "\n",
    "ax.scatter(df['pred'], df['target'])\n",
    "ax.plot(X, y)\n",
    "ax.set_title(f\"\"\"The best-fit line when scaling after splitting is\n",
    "    {round(lr2.coef_[0])}X + {round(lr2.intercept_)}\"\"\");"
   ]
  },
  {
   "cell_type": "code",
   "execution_count": null,
   "id": "5a72ff1b",
   "metadata": {},
   "outputs": [],
   "source": [
    "def log_interpret(coef_):\n",
    "    return np.exp(coef_) / (1 + np.exp(coef_))"
   ]
  },
  {
   "cell_type": "code",
   "execution_count": null,
   "id": "b24a93fd",
   "metadata": {},
   "outputs": [],
   "source": []
  }
 ],
 "metadata": {
  "kernelspec": {
   "display_name": "Python (learn-env)",
   "language": "python",
   "name": "learn-env"
  },
  "language_info": {
   "codemirror_mode": {
    "name": "ipython",
    "version": 3
   },
   "file_extension": ".py",
   "mimetype": "text/x-python",
   "name": "python",
   "nbconvert_exporter": "python",
   "pygments_lexer": "ipython3",
   "version": "3.8.5"
  },
  "toc": {
   "base_numbering": 1,
   "nav_menu": {},
   "number_sections": true,
   "sideBar": true,
   "skip_h1_title": false,
   "title_cell": "Table of Contents",
   "title_sidebar": "Contents",
   "toc_cell": false,
   "toc_position": {},
   "toc_section_display": true,
   "toc_window_display": false
  }
 },
 "nbformat": 4,
 "nbformat_minor": 5
}
