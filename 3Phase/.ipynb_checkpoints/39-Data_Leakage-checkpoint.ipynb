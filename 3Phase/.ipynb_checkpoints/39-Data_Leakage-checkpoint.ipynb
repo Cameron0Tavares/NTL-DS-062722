{
 "cells": [
  {
   "cell_type": "markdown",
   "metadata": {
    "heading_collapsed": true
   },
   "source": [
    "# Data Leakage"
   ]
  },
  {
   "cell_type": "code",
   "execution_count": 1,
   "metadata": {
    "ExecuteTime": {
     "end_time": "2022-08-10T19:16:43.428397Z",
     "start_time": "2022-08-10T19:16:42.497759Z"
    },
    "hidden": true
   },
   "outputs": [],
   "source": [
    "import numpy as np\n",
    "import pandas as pd\n",
    "from matplotlib import pyplot as plt\n",
    "from sklearn.datasets import load_diabetes\n",
    "from sklearn.linear_model import LinearRegression\n",
    "from sklearn.model_selection import train_test_split, cross_validate, KFold\n",
    "from sklearn.preprocessing import StandardScaler, OneHotEncoder\n",
    "from sklearn.metrics import mean_squared_error, make_scorer\n",
    "\n",
    "import matplotlib.style as style\n",
    "style.use('dark_background')"
   ]
  },
  {
   "cell_type": "markdown",
   "metadata": {
    "heading_collapsed": true,
    "hidden": true
   },
   "source": [
    "## Learning Goals"
   ]
  },
  {
   "cell_type": "markdown",
   "metadata": {
    "hidden": true
   },
   "source": [
    "- avoid letting information about test sets get into the training of models\n",
    "- use best practices for building non-leaky workflows\n",
    "- repair leaky workflows"
   ]
  },
  {
   "cell_type": "markdown",
   "metadata": {
    "heading_collapsed": true,
    "hidden": true
   },
   "source": [
    "## Introduction"
   ]
  },
  {
   "cell_type": "markdown",
   "metadata": {
    "hidden": true
   },
   "source": [
    "We have encountered the idea of splitting our data into two, *training* our model on one bit and then *testing* it on the other.\n",
    "\n",
    "The goal is to have an unbiased assessment of our model, and so we want to make sure that nothing about our test data sneaks into the training run of the model."
   ]
  },
  {
   "cell_type": "markdown",
   "metadata": {
    "heading_collapsed": true,
    "hidden": true
   },
   "source": [
    "## A Mistake"
   ]
  },
  {
   "cell_type": "markdown",
   "metadata": {
    "hidden": true
   },
   "source": [
    "Now consider the following workflow:"
   ]
  },
  {
   "cell_type": "code",
   "execution_count": 2,
   "metadata": {
    "ExecuteTime": {
     "end_time": "2022-08-10T19:16:43.447983Z",
     "start_time": "2022-08-10T19:16:43.429582Z"
    },
    "hidden": true
   },
   "outputs": [
    {
     "name": "stdout",
     "output_type": "stream",
     "text": [
      ".. _diabetes_dataset:\n",
      "\n",
      "Diabetes dataset\n",
      "----------------\n",
      "\n",
      "Ten baseline variables, age, sex, body mass index, average blood\n",
      "pressure, and six blood serum measurements were obtained for each of n =\n",
      "442 diabetes patients, as well as the response of interest, a\n",
      "quantitative measure of disease progression one year after baseline.\n",
      "\n",
      "**Data Set Characteristics:**\n",
      "\n",
      "  :Number of Instances: 442\n",
      "\n",
      "  :Number of Attributes: First 10 columns are numeric predictive values\n",
      "\n",
      "  :Target: Column 11 is a quantitative measure of disease progression one year after baseline\n",
      "\n",
      "  :Attribute Information:\n",
      "      - age     age in years\n",
      "      - sex\n",
      "      - bmi     body mass index\n",
      "      - bp      average blood pressure\n",
      "      - s1      tc, T-Cells (a type of white blood cells)\n",
      "      - s2      ldl, low-density lipoproteins\n",
      "      - s3      hdl, high-density lipoproteins\n",
      "      - s4      tch, thyroid stimulating hormone\n",
      "      - s5      ltg, lamotrigine\n",
      "      - s6      glu, blood sugar level\n",
      "\n",
      "Note: Each of these 10 feature variables have been mean centered and scaled by the standard deviation times `n_samples` (i.e. the sum of squares of each column totals 1).\n",
      "\n",
      "Source URL:\n",
      "https://www4.stat.ncsu.edu/~boos/var.select/diabetes.html\n",
      "\n",
      "For more information see:\n",
      "Bradley Efron, Trevor Hastie, Iain Johnstone and Robert Tibshirani (2004) \"Least Angle Regression,\" Annals of Statistics (with discussion), 407-499.\n",
      "(https://web.stanford.edu/~hastie/Papers/LARS/LeastAngle_2002.pdf)\n"
     ]
    },
    {
     "data": {
      "text/html": [
       "<div>\n",
       "<style scoped>\n",
       "    .dataframe tbody tr th:only-of-type {\n",
       "        vertical-align: middle;\n",
       "    }\n",
       "\n",
       "    .dataframe tbody tr th {\n",
       "        vertical-align: top;\n",
       "    }\n",
       "\n",
       "    .dataframe thead th {\n",
       "        text-align: right;\n",
       "    }\n",
       "</style>\n",
       "<table border=\"1\" class=\"dataframe\">\n",
       "  <thead>\n",
       "    <tr style=\"text-align: right;\">\n",
       "      <th></th>\n",
       "      <th>age</th>\n",
       "      <th>sex</th>\n",
       "      <th>bmi</th>\n",
       "      <th>bp</th>\n",
       "      <th>s1</th>\n",
       "      <th>s2</th>\n",
       "      <th>s3</th>\n",
       "      <th>s4</th>\n",
       "      <th>s5</th>\n",
       "      <th>s6</th>\n",
       "      <th>target</th>\n",
       "    </tr>\n",
       "  </thead>\n",
       "  <tbody>\n",
       "    <tr>\n",
       "      <th>437</th>\n",
       "      <td>0.041708</td>\n",
       "      <td>0.050680</td>\n",
       "      <td>0.019662</td>\n",
       "      <td>0.059744</td>\n",
       "      <td>-0.005697</td>\n",
       "      <td>-0.002566</td>\n",
       "      <td>-0.028674</td>\n",
       "      <td>-0.002592</td>\n",
       "      <td>0.031193</td>\n",
       "      <td>0.007207</td>\n",
       "      <td>178.0</td>\n",
       "    </tr>\n",
       "    <tr>\n",
       "      <th>438</th>\n",
       "      <td>-0.005515</td>\n",
       "      <td>0.050680</td>\n",
       "      <td>-0.015906</td>\n",
       "      <td>-0.067642</td>\n",
       "      <td>0.049341</td>\n",
       "      <td>0.079165</td>\n",
       "      <td>-0.028674</td>\n",
       "      <td>0.034309</td>\n",
       "      <td>-0.018118</td>\n",
       "      <td>0.044485</td>\n",
       "      <td>104.0</td>\n",
       "    </tr>\n",
       "    <tr>\n",
       "      <th>439</th>\n",
       "      <td>0.041708</td>\n",
       "      <td>0.050680</td>\n",
       "      <td>-0.015906</td>\n",
       "      <td>0.017282</td>\n",
       "      <td>-0.037344</td>\n",
       "      <td>-0.013840</td>\n",
       "      <td>-0.024993</td>\n",
       "      <td>-0.011080</td>\n",
       "      <td>-0.046879</td>\n",
       "      <td>0.015491</td>\n",
       "      <td>132.0</td>\n",
       "    </tr>\n",
       "    <tr>\n",
       "      <th>440</th>\n",
       "      <td>-0.045472</td>\n",
       "      <td>-0.044642</td>\n",
       "      <td>0.039062</td>\n",
       "      <td>0.001215</td>\n",
       "      <td>0.016318</td>\n",
       "      <td>0.015283</td>\n",
       "      <td>-0.028674</td>\n",
       "      <td>0.026560</td>\n",
       "      <td>0.044528</td>\n",
       "      <td>-0.025930</td>\n",
       "      <td>220.0</td>\n",
       "    </tr>\n",
       "    <tr>\n",
       "      <th>441</th>\n",
       "      <td>-0.045472</td>\n",
       "      <td>-0.044642</td>\n",
       "      <td>-0.073030</td>\n",
       "      <td>-0.081414</td>\n",
       "      <td>0.083740</td>\n",
       "      <td>0.027809</td>\n",
       "      <td>0.173816</td>\n",
       "      <td>-0.039493</td>\n",
       "      <td>-0.004220</td>\n",
       "      <td>0.003064</td>\n",
       "      <td>57.0</td>\n",
       "    </tr>\n",
       "  </tbody>\n",
       "</table>\n",
       "</div>"
      ],
      "text/plain": [
       "          age       sex       bmi        bp        s1        s2        s3  \\\n",
       "437  0.041708  0.050680  0.019662  0.059744 -0.005697 -0.002566 -0.028674   \n",
       "438 -0.005515  0.050680 -0.015906 -0.067642  0.049341  0.079165 -0.028674   \n",
       "439  0.041708  0.050680 -0.015906  0.017282 -0.037344 -0.013840 -0.024993   \n",
       "440 -0.045472 -0.044642  0.039062  0.001215  0.016318  0.015283 -0.028674   \n",
       "441 -0.045472 -0.044642 -0.073030 -0.081414  0.083740  0.027809  0.173816   \n",
       "\n",
       "           s4        s5        s6  target  \n",
       "437 -0.002592  0.031193  0.007207   178.0  \n",
       "438  0.034309 -0.018118  0.044485   104.0  \n",
       "439 -0.011080 -0.046879  0.015491   132.0  \n",
       "440  0.026560  0.044528 -0.025930   220.0  \n",
       "441 -0.039493 -0.004220  0.003064    57.0  "
      ]
     },
     "execution_count": 2,
     "metadata": {},
     "output_type": "execute_result"
    }
   ],
   "source": [
    "data = load_diabetes()\n",
    "\n",
    "print(data.DESCR)\n",
    "\n",
    "df = pd.concat([pd.DataFrame(data.data, columns=data.feature_names),\n",
    "               pd.Series(data.target, name='target')], axis=1)\n",
    "\n",
    "df.tail()"
   ]
  },
  {
   "cell_type": "code",
   "execution_count": 3,
   "metadata": {
    "ExecuteTime": {
     "end_time": "2022-08-10T19:16:43.459954Z",
     "start_time": "2022-08-10T19:16:43.450473Z"
    },
    "hidden": true
   },
   "outputs": [],
   "source": [
    "X, y = load_diabetes(return_X_y=True)"
   ]
  },
  {
   "cell_type": "markdown",
   "metadata": {
    "hidden": true
   },
   "source": [
    "Scale and run a regression\n"
   ]
  },
  {
   "cell_type": "code",
   "execution_count": 4,
   "metadata": {
    "ExecuteTime": {
     "end_time": "2022-08-10T19:16:43.466783Z",
     "start_time": "2022-08-10T19:16:43.461393Z"
    },
    "hidden": true
   },
   "outputs": [
    {
     "name": "stdout",
     "output_type": "stream",
     "text": [
      "[  2.27107279 -11.5103763   25.30316447  18.14921047 -43.68812386\n",
      "  24.17505729   5.56228784  12.81809837  33.09612684   1.25207795] 151.66516982689885\n"
     ]
    }
   ],
   "source": [
    "# Wrong Code\n",
    "\n",
    "ss = StandardScaler()\n",
    "X_sc = ss.fit_transform(X)\n",
    "\n",
    "X_train, X_test, y_train, y_test = train_test_split(X_sc, y, random_state=42)\n",
    "\n",
    "lr = LinearRegression()\n",
    "lr.fit(X_train, y_train)\n",
    "print(lr.coef_, lr.intercept_)"
   ]
  },
  {
   "cell_type": "markdown",
   "metadata": {
    "hidden": true
   },
   "source": [
    "Well we fit the model only to our training data. Looks like we've done everything right, right?\n",
    "\n",
    "It's important to understand that the answer here is a resounding \"NO\". It's true that we didn't directly fit our model to our test data. But the trouble is that we fit our scaler **to the whole dataset**. That is, records in the test data are contributing to calculations of column means and standard deviations, and so, surreptitiously, information about our test set is sneaking into the training run of the model after all!\n",
    "\n",
    "To correct our mistake, we'll make sure to perform our train-test split **first**:"
   ]
  },
  {
   "cell_type": "code",
   "execution_count": 5,
   "metadata": {
    "ExecuteTime": {
     "end_time": "2022-08-10T19:16:43.473708Z",
     "start_time": "2022-08-10T19:16:43.467982Z"
    },
    "hidden": true
   },
   "outputs": [
    {
     "name": "stdout",
     "output_type": "stream",
     "text": [
      "[  2.21493322 -11.51452473  25.07685109  18.24943843 -44.14403151\n",
      "  24.5135485    5.4971345   13.00640779  33.3797142    1.24791796] 154.34441087613294\n"
     ]
    }
   ],
   "source": [
    "# Right Code\n",
    "X_train2, X_test2, y_train2, y_test2 = train_test_split(X, y, random_state=42)\n",
    "\n",
    "ss2 = StandardScaler()\n",
    "X_train2_sc = ss2.fit_transform(X_train2)\n",
    "X_test2_sc = ss2.transform(X_test2)\n",
    "\n",
    "lr2 = LinearRegression()\n",
    "lr2.fit(X_train2_sc, y_train2)\n",
    "print(lr2.coef_, lr2.intercept_)"
   ]
  },
  {
   "cell_type": "code",
   "execution_count": 6,
   "metadata": {
    "ExecuteTime": {
     "end_time": "2022-08-10T19:16:43.476617Z",
     "start_time": "2022-08-10T19:16:43.474837Z"
    }
   },
   "outputs": [
    {
     "name": "stdout",
     "output_type": "stream",
     "text": [
      "<class 'numpy.ndarray'>\n"
     ]
    }
   ],
   "source": [
    "print(type(X_train2))"
   ]
  },
  {
   "cell_type": "markdown",
   "metadata": {
    "hidden": true
   },
   "source": [
    "Note that our model coefficients are slightly different from what they were before."
   ]
  },
  {
   "cell_type": "markdown",
   "metadata": {
    "heading_collapsed": true,
    "hidden": true
   },
   "source": [
    "### Error Comparison\n",
    "\n",
    "It's worth pointing out that, **for linear models**, there is **no** difference in modeling error:"
   ]
  },
  {
   "cell_type": "code",
   "execution_count": 7,
   "metadata": {
    "ExecuteTime": {
     "end_time": "2022-08-10T19:16:43.481649Z",
     "start_time": "2022-08-10T19:16:43.477702Z"
    },
    "hidden": true
   },
   "outputs": [
    {
     "name": "stdout",
     "output_type": "stream",
     "text": [
      "Our test RMSE for this model is 53.37.\n"
     ]
    }
   ],
   "source": [
    "y_test_hat = lr.predict(X_test)\n",
    "mse = mean_squared_error(y_test, y_test_hat)\n",
    "print(f\"Our test RMSE for this model is {round(np.sqrt(mse), 2)}.\")"
   ]
  },
  {
   "cell_type": "code",
   "execution_count": 8,
   "metadata": {
    "ExecuteTime": {
     "end_time": "2022-08-10T19:16:43.488414Z",
     "start_time": "2022-08-10T19:16:43.485819Z"
    },
    "hidden": true
   },
   "outputs": [
    {
     "name": "stdout",
     "output_type": "stream",
     "text": [
      "Our test RMSE for this model is 53.37.\n"
     ]
    }
   ],
   "source": [
    "y_test2_hat = lr2.predict(X_test2_sc)\n",
    "mse = mean_squared_error(y_test2, y_test2_hat)\n",
    "print(f\"Our test RMSE for this model is {round(np.sqrt(mse), 2)}.\")"
   ]
  },
  {
   "cell_type": "markdown",
   "metadata": {
    "hidden": true
   },
   "source": [
    "This will **not** be true for other sorts of models that use different loss functions."
   ]
  },
  {
   "cell_type": "markdown",
   "metadata": {
    "heading_collapsed": true,
    "hidden": true
   },
   "source": [
    "## Preprocessing"
   ]
  },
  {
   "cell_type": "markdown",
   "metadata": {
    "hidden": true
   },
   "source": [
    "In general all preprocessing steps are subject to the same dangers here. Consider the preprocessing step of one-hot-encoding:"
   ]
  },
  {
   "cell_type": "code",
   "execution_count": 9,
   "metadata": {
    "ExecuteTime": {
     "end_time": "2022-08-10T19:16:43.496056Z",
     "start_time": "2022-08-10T19:16:43.491843Z"
    },
    "hidden": true
   },
   "outputs": [],
   "source": [
    "gun_poll = pd.read_csv('data/guns-polls.csv')"
   ]
  },
  {
   "cell_type": "code",
   "execution_count": 10,
   "metadata": {
    "ExecuteTime": {
     "end_time": "2022-08-10T19:16:43.503542Z",
     "start_time": "2022-08-10T19:16:43.497097Z"
    },
    "hidden": true
   },
   "outputs": [
    {
     "data": {
      "text/html": [
       "<div>\n",
       "<style scoped>\n",
       "    .dataframe tbody tr th:only-of-type {\n",
       "        vertical-align: middle;\n",
       "    }\n",
       "\n",
       "    .dataframe tbody tr th {\n",
       "        vertical-align: top;\n",
       "    }\n",
       "\n",
       "    .dataframe thead th {\n",
       "        text-align: right;\n",
       "    }\n",
       "</style>\n",
       "<table border=\"1\" class=\"dataframe\">\n",
       "  <thead>\n",
       "    <tr style=\"text-align: right;\">\n",
       "      <th></th>\n",
       "      <th>Question</th>\n",
       "      <th>Start</th>\n",
       "      <th>End</th>\n",
       "      <th>Pollster</th>\n",
       "      <th>Population</th>\n",
       "      <th>Support</th>\n",
       "      <th>Republican Support</th>\n",
       "      <th>Democratic Support</th>\n",
       "      <th>URL</th>\n",
       "    </tr>\n",
       "  </thead>\n",
       "  <tbody>\n",
       "    <tr>\n",
       "      <th>52</th>\n",
       "      <td>stricter-gun-laws</td>\n",
       "      <td>2/16/18</td>\n",
       "      <td>2/19/18</td>\n",
       "      <td>Quinnipiac</td>\n",
       "      <td>Registered Voters</td>\n",
       "      <td>66</td>\n",
       "      <td>34</td>\n",
       "      <td>86</td>\n",
       "      <td>https://poll.qu.edu/images/polling/us/us022020...</td>\n",
       "    </tr>\n",
       "    <tr>\n",
       "      <th>53</th>\n",
       "      <td>stricter-gun-laws</td>\n",
       "      <td>2/22/18</td>\n",
       "      <td>2/26/18</td>\n",
       "      <td>Morning Consult</td>\n",
       "      <td>Registered Voters</td>\n",
       "      <td>68</td>\n",
       "      <td>53</td>\n",
       "      <td>89</td>\n",
       "      <td>https://morningconsult.com/wp-content/uploads/...</td>\n",
       "    </tr>\n",
       "    <tr>\n",
       "      <th>54</th>\n",
       "      <td>stricter-gun-laws</td>\n",
       "      <td>3/3/18</td>\n",
       "      <td>3/5/18</td>\n",
       "      <td>Quinnipiac</td>\n",
       "      <td>Registered Voters</td>\n",
       "      <td>63</td>\n",
       "      <td>39</td>\n",
       "      <td>88</td>\n",
       "      <td>https://poll.qu.edu/national/release-detail?Re...</td>\n",
       "    </tr>\n",
       "    <tr>\n",
       "      <th>55</th>\n",
       "      <td>stricter-gun-laws</td>\n",
       "      <td>3/4/18</td>\n",
       "      <td>3/6/18</td>\n",
       "      <td>YouGov</td>\n",
       "      <td>Registered Voters</td>\n",
       "      <td>61</td>\n",
       "      <td>42</td>\n",
       "      <td>82</td>\n",
       "      <td>https://d25d2506sfb94s.cloudfront.net/cumulus_...</td>\n",
       "    </tr>\n",
       "    <tr>\n",
       "      <th>56</th>\n",
       "      <td>stricter-gun-laws</td>\n",
       "      <td>3/1/18</td>\n",
       "      <td>3/5/18</td>\n",
       "      <td>Morning Consult</td>\n",
       "      <td>Registered Voters</td>\n",
       "      <td>69</td>\n",
       "      <td>57</td>\n",
       "      <td>85</td>\n",
       "      <td>https://morningconsult.com/wp-content/uploads/...</td>\n",
       "    </tr>\n",
       "  </tbody>\n",
       "</table>\n",
       "</div>"
      ],
      "text/plain": [
       "             Question    Start      End         Pollster         Population  \\\n",
       "52  stricter-gun-laws  2/16/18  2/19/18       Quinnipiac  Registered Voters   \n",
       "53  stricter-gun-laws  2/22/18  2/26/18  Morning Consult  Registered Voters   \n",
       "54  stricter-gun-laws   3/3/18   3/5/18       Quinnipiac  Registered Voters   \n",
       "55  stricter-gun-laws   3/4/18   3/6/18           YouGov  Registered Voters   \n",
       "56  stricter-gun-laws   3/1/18   3/5/18  Morning Consult  Registered Voters   \n",
       "\n",
       "    Support  Republican Support  Democratic Support  \\\n",
       "52       66                  34                  86   \n",
       "53       68                  53                  89   \n",
       "54       63                  39                  88   \n",
       "55       61                  42                  82   \n",
       "56       69                  57                  85   \n",
       "\n",
       "                                                  URL  \n",
       "52  https://poll.qu.edu/images/polling/us/us022020...  \n",
       "53  https://morningconsult.com/wp-content/uploads/...  \n",
       "54  https://poll.qu.edu/national/release-detail?Re...  \n",
       "55  https://d25d2506sfb94s.cloudfront.net/cumulus_...  \n",
       "56  https://morningconsult.com/wp-content/uploads/...  "
      ]
     },
     "execution_count": 10,
     "metadata": {},
     "output_type": "execute_result"
    }
   ],
   "source": [
    "gun_poll.tail()"
   ]
  },
  {
   "cell_type": "code",
   "execution_count": 11,
   "metadata": {
    "ExecuteTime": {
     "end_time": "2022-08-10T19:16:43.508997Z",
     "start_time": "2022-08-10T19:16:43.505232Z"
    },
    "hidden": true
   },
   "outputs": [
    {
     "data": {
      "text/plain": [
       "YouGov                 12\n",
       "Morning Consult        11\n",
       "Quinnipiac              8\n",
       "NPR/Ipsos               7\n",
       "CNN/SSRS                5\n",
       "CBS News                4\n",
       "Rasmussen               2\n",
       "Suffolk                 2\n",
       "SurveyMonkey            1\n",
       "Marist                  1\n",
       "YouGov/Huffpost         1\n",
       "Harris Interactive      1\n",
       "Harvard/Harris          1\n",
       "ABC/Washington Post     1\n",
       "Name: Pollster, dtype: int64"
      ]
     },
     "execution_count": 11,
     "metadata": {},
     "output_type": "execute_result"
    }
   ],
   "source": [
    "gun_poll['Pollster'].value_counts()"
   ]
  },
  {
   "cell_type": "markdown",
   "metadata": {
    "hidden": true
   },
   "source": [
    "Now if I were to fit a one-hot encoder to the whole `Pollster` column here, the encoder would learn all the categories. But I need to prepare myself for the real-world possibility that unfamiliar categories may show up in future records. Let's explore this."
   ]
  },
  {
   "cell_type": "code",
   "execution_count": 12,
   "metadata": {
    "ExecuteTime": {
     "end_time": "2022-08-10T19:16:43.512562Z",
     "start_time": "2022-08-10T19:16:43.510058Z"
    },
    "hidden": true
   },
   "outputs": [],
   "source": [
    "# First I'll do a split\n",
    "X_train, X_test = train_test_split(gun_poll, random_state=42)"
   ]
  },
  {
   "cell_type": "markdown",
   "metadata": {
    "hidden": true
   },
   "source": [
    "Let's suppose now that I fit a `OneHotEncoder` to the `Pollster` column in my training data."
   ]
  },
  {
   "cell_type": "markdown",
   "metadata": {
    "hidden": true
   },
   "source": [
    "#### Exercise"
   ]
  },
  {
   "cell_type": "markdown",
   "metadata": {
    "hidden": true
   },
   "source": [
    "Fit an encoder to the `Pollster` column of the training data and then check to see which categories are represented."
   ]
  },
  {
   "cell_type": "code",
   "execution_count": 13,
   "metadata": {
    "ExecuteTime": {
     "end_time": "2022-08-10T19:16:43.517300Z",
     "start_time": "2022-08-10T19:16:43.513646Z"
    },
    "hidden": true
   },
   "outputs": [
    {
     "data": {
      "text/plain": [
       "array(['x0_ABC/Washington Post', 'x0_CBS News', 'x0_CNN/SSRS',\n",
       "       'x0_Marist', 'x0_Morning Consult', 'x0_NPR/Ipsos', 'x0_Quinnipiac',\n",
       "       'x0_Rasmussen', 'x0_Suffolk', 'x0_YouGov', 'x0_YouGov/Huffpost'],\n",
       "      dtype=object)"
      ]
     },
     "execution_count": 13,
     "metadata": {},
     "output_type": "execute_result"
    }
   ],
   "source": [
    "# Code\n",
    "to_be_dummied = X_train[['Pollster']]\n",
    "\n",
    "ohe = OneHotEncoder()\n",
    "ohe.fit(to_be_dummied)\n",
    "\n",
    "ohe.get_feature_names()"
   ]
  },
  {
   "cell_type": "code",
   "execution_count": 14,
   "metadata": {
    "ExecuteTime": {
     "end_time": "2022-08-10T19:16:43.519816Z",
     "start_time": "2022-08-10T19:16:43.518386Z"
    }
   },
   "outputs": [],
   "source": [
    "# to_be_dummied = X_test[['Pollster']]\n",
    "\n",
    "# ohe.transform(to_be_dummied)\n"
   ]
  },
  {
   "cell_type": "code",
   "execution_count": 15,
   "metadata": {
    "ExecuteTime": {
     "end_time": "2022-08-10T19:16:43.523094Z",
     "start_time": "2022-08-10T19:16:43.520962Z"
    },
    "hidden": true
   },
   "outputs": [],
   "source": [
    "# So what categories do we have?"
   ]
  },
  {
   "cell_type": "markdown",
   "metadata": {
    "hidden": true
   },
   "source": [
    "We'll want to transform both train and test after we've fitted the encoder to the train."
   ]
  },
  {
   "cell_type": "code",
   "execution_count": 16,
   "metadata": {
    "ExecuteTime": {
     "end_time": "2022-08-10T19:16:43.526272Z",
     "start_time": "2022-08-10T19:16:43.524588Z"
    },
    "hidden": true
   },
   "outputs": [],
   "source": [
    "# test_to_be_dummied = X_test[['Pollster']]\n",
    "\n",
    "# ohe.transform(to_be_dummied)\n",
    "# ohe.transform(test_to_be_dummied)"
   ]
  },
  {
   "cell_type": "markdown",
   "metadata": {
    "hidden": true
   },
   "source": [
    "There are categories in the testing data that don't appear in the training data! What should \n",
    "we do about that?"
   ]
  },
  {
   "cell_type": "markdown",
   "metadata": {
    "heading_collapsed": true,
    "hidden": true
   },
   "source": [
    "### Approaches"
   ]
  },
  {
   "cell_type": "markdown",
   "metadata": {
    "hidden": true
   },
   "source": [
    "- **Strategy 1**: Divide up the categories proportionally when we do our train_test_split. If we're using `sklearn`'s tool, that means taking advantage of the `stratify` parameter:"
   ]
  },
  {
   "cell_type": "code",
   "execution_count": 17,
   "metadata": {
    "ExecuteTime": {
     "end_time": "2022-08-10T19:16:43.528995Z",
     "start_time": "2022-08-10T19:16:43.527522Z"
    },
    "hidden": true
   },
   "outputs": [],
   "source": [
    "# new_X_train, new_X_test = train_test_split(gun_poll,\n",
    "#                                            stratify=gun_poll['Pollster'],\n",
    "#                                            random_state=42)"
   ]
  },
  {
   "cell_type": "markdown",
   "metadata": {
    "hidden": true
   },
   "source": [
    "Unfortunately, in this case, we can't use this since some categories have only a single member."
   ]
  },
  {
   "cell_type": "markdown",
   "metadata": {
    "hidden": true
   },
   "source": [
    "- **Strategy 2**: Drop the categories with very few representatives.\n",
    "\n",
    "In the present case, let's try dropping the single-member categories."
   ]
  },
  {
   "cell_type": "code",
   "execution_count": 18,
   "metadata": {
    "ExecuteTime": {
     "end_time": "2022-08-10T19:16:43.535631Z",
     "start_time": "2022-08-10T19:16:43.531760Z"
    },
    "hidden": true
   },
   "outputs": [
    {
     "data": {
      "text/plain": [
       "YouGov                 12\n",
       "Morning Consult        11\n",
       "Quinnipiac              8\n",
       "NPR/Ipsos               7\n",
       "CNN/SSRS                5\n",
       "CBS News                4\n",
       "Rasmussen               2\n",
       "Suffolk                 2\n",
       "SurveyMonkey            1\n",
       "Marist                  1\n",
       "YouGov/Huffpost         1\n",
       "Harris Interactive      1\n",
       "Harvard/Harris          1\n",
       "ABC/Washington Post     1\n",
       "Name: Pollster, dtype: int64"
      ]
     },
     "execution_count": 18,
     "metadata": {},
     "output_type": "execute_result"
    }
   ],
   "source": [
    "# Code\n",
    "\n",
    "vc = gun_poll['Pollster'].value_counts()\n",
    "vc"
   ]
  },
  {
   "cell_type": "code",
   "execution_count": 19,
   "metadata": {
    "ExecuteTime": {
     "end_time": "2022-08-10T19:16:43.541665Z",
     "start_time": "2022-08-10T19:16:43.536722Z"
    }
   },
   "outputs": [
    {
     "data": {
      "text/plain": [
       "SurveyMonkey           1\n",
       "Marist                 1\n",
       "YouGov/Huffpost        1\n",
       "Harris Interactive     1\n",
       "Harvard/Harris         1\n",
       "ABC/Washington Post    1\n",
       "Name: Pollster, dtype: int64"
      ]
     },
     "execution_count": 19,
     "metadata": {},
     "output_type": "execute_result"
    }
   ],
   "source": [
    "vc_1 = vc[ vc ==1]\n",
    "vc_1"
   ]
  },
  {
   "cell_type": "code",
   "execution_count": 20,
   "metadata": {
    "ExecuteTime": {
     "end_time": "2022-08-10T19:16:43.545790Z",
     "start_time": "2022-08-10T19:16:43.543341Z"
    },
    "hidden": true
   },
   "outputs": [
    {
     "data": {
      "text/plain": [
       "Index(['SurveyMonkey', 'Marist', 'YouGov/Huffpost', 'Harris Interactive',\n",
       "       'Harvard/Harris', 'ABC/Washington Post'],\n",
       "      dtype='object')"
      ]
     },
     "execution_count": 20,
     "metadata": {},
     "output_type": "execute_result"
    }
   ],
   "source": [
    "bad_cols = vc_1.index\n",
    "bad_cols"
   ]
  },
  {
   "cell_type": "code",
   "execution_count": 21,
   "metadata": {
    "ExecuteTime": {
     "end_time": "2022-08-10T19:16:43.562540Z",
     "start_time": "2022-08-10T19:16:43.546888Z"
    },
    "hidden": true
   },
   "outputs": [
    {
     "data": {
      "text/html": [
       "<div>\n",
       "<style scoped>\n",
       "    .dataframe tbody tr th:only-of-type {\n",
       "        vertical-align: middle;\n",
       "    }\n",
       "\n",
       "    .dataframe tbody tr th {\n",
       "        vertical-align: top;\n",
       "    }\n",
       "\n",
       "    .dataframe thead th {\n",
       "        text-align: right;\n",
       "    }\n",
       "</style>\n",
       "<table border=\"1\" class=\"dataframe\">\n",
       "  <thead>\n",
       "    <tr style=\"text-align: right;\">\n",
       "      <th></th>\n",
       "      <th>Question</th>\n",
       "      <th>Start</th>\n",
       "      <th>End</th>\n",
       "      <th>Pollster</th>\n",
       "      <th>Population</th>\n",
       "      <th>Support</th>\n",
       "      <th>Republican Support</th>\n",
       "      <th>Democratic Support</th>\n",
       "      <th>URL</th>\n",
       "    </tr>\n",
       "  </thead>\n",
       "  <tbody>\n",
       "    <tr>\n",
       "      <th>0</th>\n",
       "      <td>age-21</td>\n",
       "      <td>2/20/18</td>\n",
       "      <td>2/23/18</td>\n",
       "      <td>CNN/SSRS</td>\n",
       "      <td>Registered Voters</td>\n",
       "      <td>72</td>\n",
       "      <td>61</td>\n",
       "      <td>86</td>\n",
       "      <td>http://cdn.cnn.com/cnn/2018/images/02/25/rel3a...</td>\n",
       "    </tr>\n",
       "    <tr>\n",
       "      <th>1</th>\n",
       "      <td>age-21</td>\n",
       "      <td>2/27/18</td>\n",
       "      <td>2/28/18</td>\n",
       "      <td>NPR/Ipsos</td>\n",
       "      <td>Adults</td>\n",
       "      <td>82</td>\n",
       "      <td>72</td>\n",
       "      <td>92</td>\n",
       "      <td>https://www.ipsos.com/en-us/npripsos-poll-majo...</td>\n",
       "    </tr>\n",
       "    <tr>\n",
       "      <th>2</th>\n",
       "      <td>age-21</td>\n",
       "      <td>3/1/18</td>\n",
       "      <td>3/4/18</td>\n",
       "      <td>Rasmussen</td>\n",
       "      <td>Adults</td>\n",
       "      <td>67</td>\n",
       "      <td>59</td>\n",
       "      <td>76</td>\n",
       "      <td>http://www.rasmussenreports.com/public_content...</td>\n",
       "    </tr>\n",
       "    <tr>\n",
       "      <th>3</th>\n",
       "      <td>age-21</td>\n",
       "      <td>2/22/18</td>\n",
       "      <td>2/26/18</td>\n",
       "      <td>NaN</td>\n",
       "      <td>Registered Voters</td>\n",
       "      <td>84</td>\n",
       "      <td>77</td>\n",
       "      <td>92</td>\n",
       "      <td>http://thehill.com/opinion/civil-rights/375993...</td>\n",
       "    </tr>\n",
       "    <tr>\n",
       "      <th>4</th>\n",
       "      <td>age-21</td>\n",
       "      <td>3/3/18</td>\n",
       "      <td>3/5/18</td>\n",
       "      <td>Quinnipiac</td>\n",
       "      <td>Registered Voters</td>\n",
       "      <td>78</td>\n",
       "      <td>63</td>\n",
       "      <td>93</td>\n",
       "      <td>https://poll.qu.edu/national/release-detail?Re...</td>\n",
       "    </tr>\n",
       "    <tr>\n",
       "      <th>5</th>\n",
       "      <td>age-21</td>\n",
       "      <td>3/4/18</td>\n",
       "      <td>3/6/18</td>\n",
       "      <td>YouGov</td>\n",
       "      <td>Registered Voters</td>\n",
       "      <td>72</td>\n",
       "      <td>65</td>\n",
       "      <td>80</td>\n",
       "      <td>https://d25d2506sfb94s.cloudfront.net/cumulus_...</td>\n",
       "    </tr>\n",
       "    <tr>\n",
       "      <th>6</th>\n",
       "      <td>age-21</td>\n",
       "      <td>3/1/18</td>\n",
       "      <td>3/5/18</td>\n",
       "      <td>Morning Consult</td>\n",
       "      <td>Registered Voters</td>\n",
       "      <td>76</td>\n",
       "      <td>72</td>\n",
       "      <td>86</td>\n",
       "      <td>https://morningconsult.com/wp-content/uploads/...</td>\n",
       "    </tr>\n",
       "    <tr>\n",
       "      <th>7</th>\n",
       "      <td>arm-teachers</td>\n",
       "      <td>2/23/18</td>\n",
       "      <td>2/25/18</td>\n",
       "      <td>NaN</td>\n",
       "      <td>Registered Voters</td>\n",
       "      <td>41</td>\n",
       "      <td>69</td>\n",
       "      <td>20</td>\n",
       "      <td>http://big.assets.huffingtonpost.com/tabsHPSaf...</td>\n",
       "    </tr>\n",
       "    <tr>\n",
       "      <th>8</th>\n",
       "      <td>arm-teachers</td>\n",
       "      <td>2/20/18</td>\n",
       "      <td>2/23/18</td>\n",
       "      <td>CBS News</td>\n",
       "      <td>Adults</td>\n",
       "      <td>44</td>\n",
       "      <td>68</td>\n",
       "      <td>20</td>\n",
       "      <td>https://drive.google.com/file/d/0ByVu4fDHYJgVb...</td>\n",
       "    </tr>\n",
       "    <tr>\n",
       "      <th>9</th>\n",
       "      <td>arm-teachers</td>\n",
       "      <td>2/27/18</td>\n",
       "      <td>2/28/18</td>\n",
       "      <td>Rasmussen</td>\n",
       "      <td>Adults</td>\n",
       "      <td>43</td>\n",
       "      <td>71</td>\n",
       "      <td>24</td>\n",
       "      <td>http://www.rasmussenreports.com/public_content...</td>\n",
       "    </tr>\n",
       "    <tr>\n",
       "      <th>10</th>\n",
       "      <td>arm-teachers</td>\n",
       "      <td>2/27/18</td>\n",
       "      <td>2/28/18</td>\n",
       "      <td>NPR/Ipsos</td>\n",
       "      <td>Adults</td>\n",
       "      <td>41</td>\n",
       "      <td>68</td>\n",
       "      <td>18</td>\n",
       "      <td>https://www.ipsos.com/en-us/npripsos-poll-majo...</td>\n",
       "    </tr>\n",
       "    <tr>\n",
       "      <th>11</th>\n",
       "      <td>arm-teachers</td>\n",
       "      <td>3/3/18</td>\n",
       "      <td>3/5/18</td>\n",
       "      <td>Quinnipiac</td>\n",
       "      <td>Registered Voters</td>\n",
       "      <td>40</td>\n",
       "      <td>77</td>\n",
       "      <td>10</td>\n",
       "      <td>https://poll.qu.edu/national/release-detail?Re...</td>\n",
       "    </tr>\n",
       "    <tr>\n",
       "      <th>12</th>\n",
       "      <td>arm-teachers</td>\n",
       "      <td>2/26/18</td>\n",
       "      <td>2/28/18</td>\n",
       "      <td>NaN</td>\n",
       "      <td>Registered Voters</td>\n",
       "      <td>43</td>\n",
       "      <td>80</td>\n",
       "      <td>11</td>\n",
       "      <td>https://www.nbcnews.com/politics/politics-news...</td>\n",
       "    </tr>\n",
       "    <tr>\n",
       "      <th>13</th>\n",
       "      <td>background-checks</td>\n",
       "      <td>2/16/18</td>\n",
       "      <td>2/19/18</td>\n",
       "      <td>Quinnipiac</td>\n",
       "      <td>Registered Voters</td>\n",
       "      <td>97</td>\n",
       "      <td>97</td>\n",
       "      <td>99</td>\n",
       "      <td>https://poll.qu.edu/images/polling/us/us022020...</td>\n",
       "    </tr>\n",
       "    <tr>\n",
       "      <th>14</th>\n",
       "      <td>background-checks</td>\n",
       "      <td>2/18/18</td>\n",
       "      <td>2/20/18</td>\n",
       "      <td>YouGov</td>\n",
       "      <td>Registered Voters</td>\n",
       "      <td>85</td>\n",
       "      <td>78</td>\n",
       "      <td>87</td>\n",
       "      <td>https://d25d2506sfb94s.cloudfront.net/cumulus_...</td>\n",
       "    </tr>\n",
       "    <tr>\n",
       "      <th>15</th>\n",
       "      <td>background-checks</td>\n",
       "      <td>2/25/18</td>\n",
       "      <td>2/27/18</td>\n",
       "      <td>YouGov</td>\n",
       "      <td>Registered Voters</td>\n",
       "      <td>83</td>\n",
       "      <td>76</td>\n",
       "      <td>91</td>\n",
       "      <td>https://d25d2506sfb94s.cloudfront.net/cumulus_...</td>\n",
       "    </tr>\n",
       "    <tr>\n",
       "      <th>16</th>\n",
       "      <td>background-checks</td>\n",
       "      <td>2/15/18</td>\n",
       "      <td>2/19/18</td>\n",
       "      <td>Morning Consult</td>\n",
       "      <td>Registered Voters</td>\n",
       "      <td>88</td>\n",
       "      <td>88</td>\n",
       "      <td>90</td>\n",
       "      <td>https://morningconsult.com/wp-content/uploads/...</td>\n",
       "    </tr>\n",
       "    <tr>\n",
       "      <th>17</th>\n",
       "      <td>background-checks</td>\n",
       "      <td>2/20/18</td>\n",
       "      <td>2/23/18</td>\n",
       "      <td>CBS News</td>\n",
       "      <td>Adults</td>\n",
       "      <td>75</td>\n",
       "      <td>66</td>\n",
       "      <td>86</td>\n",
       "      <td>https://drive.google.com/file/d/0ByVu4fDHYJgVb...</td>\n",
       "    </tr>\n",
       "    <tr>\n",
       "      <th>18</th>\n",
       "      <td>background-checks</td>\n",
       "      <td>2/27/18</td>\n",
       "      <td>2/28/18</td>\n",
       "      <td>NPR/Ipsos</td>\n",
       "      <td>Adults</td>\n",
       "      <td>94</td>\n",
       "      <td>89</td>\n",
       "      <td>99</td>\n",
       "      <td>https://www.ipsos.com/en-us/npripsos-poll-majo...</td>\n",
       "    </tr>\n",
       "    <tr>\n",
       "      <th>19</th>\n",
       "      <td>background-checks</td>\n",
       "      <td>3/1/18</td>\n",
       "      <td>3/5/18</td>\n",
       "      <td>Morning Consult</td>\n",
       "      <td>Registered Voters</td>\n",
       "      <td>90</td>\n",
       "      <td>91</td>\n",
       "      <td>91</td>\n",
       "      <td>https://morningconsult.com/wp-content/uploads/...</td>\n",
       "    </tr>\n",
       "    <tr>\n",
       "      <th>20</th>\n",
       "      <td>ban-assault-weapons</td>\n",
       "      <td>2/16/18</td>\n",
       "      <td>2/19/18</td>\n",
       "      <td>Quinnipiac</td>\n",
       "      <td>Registered Voters</td>\n",
       "      <td>67</td>\n",
       "      <td>43</td>\n",
       "      <td>91</td>\n",
       "      <td>https://poll.qu.edu/images/polling/us/us022020...</td>\n",
       "    </tr>\n",
       "    <tr>\n",
       "      <th>21</th>\n",
       "      <td>ban-assault-weapons</td>\n",
       "      <td>2/18/18</td>\n",
       "      <td>2/20/18</td>\n",
       "      <td>YouGov</td>\n",
       "      <td>Registered Voters</td>\n",
       "      <td>61</td>\n",
       "      <td>45</td>\n",
       "      <td>79</td>\n",
       "      <td>https://d25d2506sfb94s.cloudfront.net/cumulus_...</td>\n",
       "    </tr>\n",
       "    <tr>\n",
       "      <th>22</th>\n",
       "      <td>ban-assault-weapons</td>\n",
       "      <td>2/25/18</td>\n",
       "      <td>2/27/18</td>\n",
       "      <td>YouGov</td>\n",
       "      <td>Registered Voters</td>\n",
       "      <td>58</td>\n",
       "      <td>37</td>\n",
       "      <td>82</td>\n",
       "      <td>https://d25d2506sfb94s.cloudfront.net/cumulus_...</td>\n",
       "    </tr>\n",
       "    <tr>\n",
       "      <th>23</th>\n",
       "      <td>ban-assault-weapons</td>\n",
       "      <td>2/15/18</td>\n",
       "      <td>2/19/18</td>\n",
       "      <td>Morning Consult</td>\n",
       "      <td>Registered Voters</td>\n",
       "      <td>69</td>\n",
       "      <td>64</td>\n",
       "      <td>81</td>\n",
       "      <td>https://morningconsult.com/wp-content/uploads/...</td>\n",
       "    </tr>\n",
       "    <tr>\n",
       "      <th>24</th>\n",
       "      <td>ban-assault-weapons</td>\n",
       "      <td>2/15/18</td>\n",
       "      <td>2/18/18</td>\n",
       "      <td>NaN</td>\n",
       "      <td>Registered Voters</td>\n",
       "      <td>51</td>\n",
       "      <td>29</td>\n",
       "      <td>71</td>\n",
       "      <td>https://www.washingtonpost.com/page/2010-2019/...</td>\n",
       "    </tr>\n",
       "    <tr>\n",
       "      <th>25</th>\n",
       "      <td>ban-assault-weapons</td>\n",
       "      <td>2/20/18</td>\n",
       "      <td>2/23/18</td>\n",
       "      <td>CNN/SSRS</td>\n",
       "      <td>Registered Voters</td>\n",
       "      <td>57</td>\n",
       "      <td>34</td>\n",
       "      <td>80</td>\n",
       "      <td>http://cdn.cnn.com/cnn/2018/images/02/25/rel3a...</td>\n",
       "    </tr>\n",
       "    <tr>\n",
       "      <th>26</th>\n",
       "      <td>ban-assault-weapons</td>\n",
       "      <td>2/20/18</td>\n",
       "      <td>2/23/18</td>\n",
       "      <td>CBS News</td>\n",
       "      <td>Adults</td>\n",
       "      <td>53</td>\n",
       "      <td>39</td>\n",
       "      <td>66</td>\n",
       "      <td>https://drive.google.com/file/d/0ByVu4fDHYJgVb...</td>\n",
       "    </tr>\n",
       "    <tr>\n",
       "      <th>27</th>\n",
       "      <td>ban-assault-weapons</td>\n",
       "      <td>2/16/18</td>\n",
       "      <td>2/19/18</td>\n",
       "      <td>NaN</td>\n",
       "      <td>Registered Voters</td>\n",
       "      <td>61</td>\n",
       "      <td>43</td>\n",
       "      <td>76</td>\n",
       "      <td>http://harvardharrispoll.com/wp-content/upload...</td>\n",
       "    </tr>\n",
       "    <tr>\n",
       "      <th>28</th>\n",
       "      <td>ban-assault-weapons</td>\n",
       "      <td>2/20/18</td>\n",
       "      <td>2/24/18</td>\n",
       "      <td>Suffolk</td>\n",
       "      <td>Registered Voters</td>\n",
       "      <td>63</td>\n",
       "      <td>40</td>\n",
       "      <td>83</td>\n",
       "      <td>http://www.suffolk.edu/documents/SUPRC/3_1_201...</td>\n",
       "    </tr>\n",
       "    <tr>\n",
       "      <th>29</th>\n",
       "      <td>ban-assault-weapons</td>\n",
       "      <td>2/27/18</td>\n",
       "      <td>2/28/18</td>\n",
       "      <td>NPR/Ipsos</td>\n",
       "      <td>Adults</td>\n",
       "      <td>72</td>\n",
       "      <td>58</td>\n",
       "      <td>88</td>\n",
       "      <td>https://www.ipsos.com/en-us/npripsos-poll-majo...</td>\n",
       "    </tr>\n",
       "    <tr>\n",
       "      <th>30</th>\n",
       "      <td>ban-assault-weapons</td>\n",
       "      <td>3/3/18</td>\n",
       "      <td>3/5/18</td>\n",
       "      <td>Quinnipiac</td>\n",
       "      <td>Registered Voters</td>\n",
       "      <td>61</td>\n",
       "      <td>38</td>\n",
       "      <td>88</td>\n",
       "      <td>https://poll.qu.edu/national/release-detail?Re...</td>\n",
       "    </tr>\n",
       "    <tr>\n",
       "      <th>31</th>\n",
       "      <td>ban-assault-weapons</td>\n",
       "      <td>3/1/18</td>\n",
       "      <td>3/5/18</td>\n",
       "      <td>Morning Consult</td>\n",
       "      <td>Registered Voters</td>\n",
       "      <td>68</td>\n",
       "      <td>41</td>\n",
       "      <td>83</td>\n",
       "      <td>https://morningconsult.com/wp-content/uploads/...</td>\n",
       "    </tr>\n",
       "    <tr>\n",
       "      <th>32</th>\n",
       "      <td>ban-high-capacity-magazines</td>\n",
       "      <td>2/18/18</td>\n",
       "      <td>2/20/18</td>\n",
       "      <td>YouGov</td>\n",
       "      <td>Registered Voters</td>\n",
       "      <td>67</td>\n",
       "      <td>52</td>\n",
       "      <td>82</td>\n",
       "      <td>https://d25d2506sfb94s.cloudfront.net/cumulus_...</td>\n",
       "    </tr>\n",
       "    <tr>\n",
       "      <th>33</th>\n",
       "      <td>ban-high-capacity-magazines</td>\n",
       "      <td>2/25/18</td>\n",
       "      <td>2/27/18</td>\n",
       "      <td>YouGov</td>\n",
       "      <td>Registered Voters</td>\n",
       "      <td>64</td>\n",
       "      <td>44</td>\n",
       "      <td>82</td>\n",
       "      <td>https://d25d2506sfb94s.cloudfront.net/cumulus_...</td>\n",
       "    </tr>\n",
       "    <tr>\n",
       "      <th>34</th>\n",
       "      <td>ban-high-capacity-magazines</td>\n",
       "      <td>2/15/18</td>\n",
       "      <td>2/19/18</td>\n",
       "      <td>Morning Consult</td>\n",
       "      <td>Registered Voters</td>\n",
       "      <td>69</td>\n",
       "      <td>63</td>\n",
       "      <td>82</td>\n",
       "      <td>https://morningconsult.com/wp-content/uploads/...</td>\n",
       "    </tr>\n",
       "    <tr>\n",
       "      <th>35</th>\n",
       "      <td>ban-high-capacity-magazines</td>\n",
       "      <td>2/20/18</td>\n",
       "      <td>2/23/18</td>\n",
       "      <td>CNN/SSRS</td>\n",
       "      <td>Registered Voters</td>\n",
       "      <td>64</td>\n",
       "      <td>48</td>\n",
       "      <td>82</td>\n",
       "      <td>http://cdn.cnn.com/cnn/2018/images/02/25/rel3a...</td>\n",
       "    </tr>\n",
       "    <tr>\n",
       "      <th>36</th>\n",
       "      <td>ban-high-capacity-magazines</td>\n",
       "      <td>2/27/18</td>\n",
       "      <td>2/28/18</td>\n",
       "      <td>NPR/Ipsos</td>\n",
       "      <td>Adults</td>\n",
       "      <td>73</td>\n",
       "      <td>59</td>\n",
       "      <td>88</td>\n",
       "      <td>https://www.ipsos.com/en-us/npripsos-poll-majo...</td>\n",
       "    </tr>\n",
       "    <tr>\n",
       "      <th>37</th>\n",
       "      <td>ban-high-capacity-magazines</td>\n",
       "      <td>3/3/18</td>\n",
       "      <td>3/5/18</td>\n",
       "      <td>Quinnipiac</td>\n",
       "      <td>Registered Voters</td>\n",
       "      <td>63</td>\n",
       "      <td>39</td>\n",
       "      <td>87</td>\n",
       "      <td>https://poll.qu.edu/national/release-detail?Re...</td>\n",
       "    </tr>\n",
       "    <tr>\n",
       "      <th>38</th>\n",
       "      <td>ban-high-capacity-magazines</td>\n",
       "      <td>3/1/18</td>\n",
       "      <td>3/5/18</td>\n",
       "      <td>Morning Consult</td>\n",
       "      <td>Registered Voters</td>\n",
       "      <td>71</td>\n",
       "      <td>64</td>\n",
       "      <td>84</td>\n",
       "      <td>https://morningconsult.com/wp-content/uploads/...</td>\n",
       "    </tr>\n",
       "    <tr>\n",
       "      <th>39</th>\n",
       "      <td>mental-health-own-gun</td>\n",
       "      <td>2/18/18</td>\n",
       "      <td>2/20/18</td>\n",
       "      <td>YouGov</td>\n",
       "      <td>Registered Voters</td>\n",
       "      <td>87</td>\n",
       "      <td>87</td>\n",
       "      <td>84</td>\n",
       "      <td>https://d25d2506sfb94s.cloudfront.net/cumulus_...</td>\n",
       "    </tr>\n",
       "    <tr>\n",
       "      <th>40</th>\n",
       "      <td>mental-health-own-gun</td>\n",
       "      <td>2/25/18</td>\n",
       "      <td>2/27/18</td>\n",
       "      <td>YouGov</td>\n",
       "      <td>Registered Voters</td>\n",
       "      <td>84</td>\n",
       "      <td>81</td>\n",
       "      <td>86</td>\n",
       "      <td>https://d25d2506sfb94s.cloudfront.net/cumulus_...</td>\n",
       "    </tr>\n",
       "    <tr>\n",
       "      <th>41</th>\n",
       "      <td>mental-health-own-gun</td>\n",
       "      <td>2/15/18</td>\n",
       "      <td>2/19/18</td>\n",
       "      <td>Morning Consult</td>\n",
       "      <td>Registered Voters</td>\n",
       "      <td>88</td>\n",
       "      <td>89</td>\n",
       "      <td>90</td>\n",
       "      <td>https://morningconsult.com/wp-content/uploads/...</td>\n",
       "    </tr>\n",
       "    <tr>\n",
       "      <th>42</th>\n",
       "      <td>mental-health-own-gun</td>\n",
       "      <td>2/20/18</td>\n",
       "      <td>2/24/18</td>\n",
       "      <td>Suffolk</td>\n",
       "      <td>Registered Voters</td>\n",
       "      <td>76</td>\n",
       "      <td>84</td>\n",
       "      <td>78</td>\n",
       "      <td>http://www.suffolk.edu/documents/SUPRC/3_1_201...</td>\n",
       "    </tr>\n",
       "    <tr>\n",
       "      <th>43</th>\n",
       "      <td>mental-health-own-gun</td>\n",
       "      <td>2/27/18</td>\n",
       "      <td>2/28/18</td>\n",
       "      <td>NPR/Ipsos</td>\n",
       "      <td>Adults</td>\n",
       "      <td>92</td>\n",
       "      <td>88</td>\n",
       "      <td>96</td>\n",
       "      <td>https://www.ipsos.com/en-us/npripsos-poll-majo...</td>\n",
       "    </tr>\n",
       "    <tr>\n",
       "      <th>44</th>\n",
       "      <td>mental-health-own-gun</td>\n",
       "      <td>3/1/18</td>\n",
       "      <td>3/5/18</td>\n",
       "      <td>Morning Consult</td>\n",
       "      <td>Registered Voters</td>\n",
       "      <td>88</td>\n",
       "      <td>91</td>\n",
       "      <td>91</td>\n",
       "      <td>https://morningconsult.com/wp-content/uploads/...</td>\n",
       "    </tr>\n",
       "    <tr>\n",
       "      <th>45</th>\n",
       "      <td>repeal-2nd-amendment</td>\n",
       "      <td>2/20/18</td>\n",
       "      <td>2/23/18</td>\n",
       "      <td>CNN/SSRS</td>\n",
       "      <td>Registered Voters</td>\n",
       "      <td>10</td>\n",
       "      <td>5</td>\n",
       "      <td>15</td>\n",
       "      <td>http://cdn.cnn.com/cnn/2018/images/02/25/rel3a...</td>\n",
       "    </tr>\n",
       "    <tr>\n",
       "      <th>46</th>\n",
       "      <td>stricter-gun-laws</td>\n",
       "      <td>2/27/18</td>\n",
       "      <td>2/28/18</td>\n",
       "      <td>NPR/Ipsos</td>\n",
       "      <td>Adults</td>\n",
       "      <td>75</td>\n",
       "      <td>59</td>\n",
       "      <td>92</td>\n",
       "      <td>https://www.ipsos.com/en-us/npripsos-poll-majo...</td>\n",
       "    </tr>\n",
       "    <tr>\n",
       "      <th>47</th>\n",
       "      <td>stricter-gun-laws</td>\n",
       "      <td>2/25/18</td>\n",
       "      <td>2/27/18</td>\n",
       "      <td>YouGov</td>\n",
       "      <td>Registered Voters</td>\n",
       "      <td>63</td>\n",
       "      <td>43</td>\n",
       "      <td>87</td>\n",
       "      <td>https://d25d2506sfb94s.cloudfront.net/cumulus_...</td>\n",
       "    </tr>\n",
       "    <tr>\n",
       "      <th>48</th>\n",
       "      <td>stricter-gun-laws</td>\n",
       "      <td>2/20/18</td>\n",
       "      <td>2/23/18</td>\n",
       "      <td>CNN/SSRS</td>\n",
       "      <td>Registered Voters</td>\n",
       "      <td>70</td>\n",
       "      <td>49</td>\n",
       "      <td>93</td>\n",
       "      <td>http://cdn.cnn.com/cnn/2018/images/02/25/rel3a...</td>\n",
       "    </tr>\n",
       "    <tr>\n",
       "      <th>49</th>\n",
       "      <td>stricter-gun-laws</td>\n",
       "      <td>2/20/18</td>\n",
       "      <td>2/23/18</td>\n",
       "      <td>CBS News</td>\n",
       "      <td>Adults</td>\n",
       "      <td>65</td>\n",
       "      <td>43</td>\n",
       "      <td>85</td>\n",
       "      <td>https://drive.google.com/file/d/0ByVu4fDHYJgVb...</td>\n",
       "    </tr>\n",
       "    <tr>\n",
       "      <th>50</th>\n",
       "      <td>stricter-gun-laws</td>\n",
       "      <td>2/20/18</td>\n",
       "      <td>2/21/18</td>\n",
       "      <td>NaN</td>\n",
       "      <td>Registered Voters</td>\n",
       "      <td>73</td>\n",
       "      <td>55</td>\n",
       "      <td>93</td>\n",
       "      <td>http://maristpoll.marist.edu/wp-content/misc/u...</td>\n",
       "    </tr>\n",
       "    <tr>\n",
       "      <th>51</th>\n",
       "      <td>stricter-gun-laws</td>\n",
       "      <td>2/18/18</td>\n",
       "      <td>2/20/18</td>\n",
       "      <td>YouGov</td>\n",
       "      <td>Registered Voters</td>\n",
       "      <td>58</td>\n",
       "      <td>36</td>\n",
       "      <td>76</td>\n",
       "      <td>https://d25d2506sfb94s.cloudfront.net/cumulus_...</td>\n",
       "    </tr>\n",
       "    <tr>\n",
       "      <th>52</th>\n",
       "      <td>stricter-gun-laws</td>\n",
       "      <td>2/16/18</td>\n",
       "      <td>2/19/18</td>\n",
       "      <td>Quinnipiac</td>\n",
       "      <td>Registered Voters</td>\n",
       "      <td>66</td>\n",
       "      <td>34</td>\n",
       "      <td>86</td>\n",
       "      <td>https://poll.qu.edu/images/polling/us/us022020...</td>\n",
       "    </tr>\n",
       "    <tr>\n",
       "      <th>53</th>\n",
       "      <td>stricter-gun-laws</td>\n",
       "      <td>2/22/18</td>\n",
       "      <td>2/26/18</td>\n",
       "      <td>Morning Consult</td>\n",
       "      <td>Registered Voters</td>\n",
       "      <td>68</td>\n",
       "      <td>53</td>\n",
       "      <td>89</td>\n",
       "      <td>https://morningconsult.com/wp-content/uploads/...</td>\n",
       "    </tr>\n",
       "    <tr>\n",
       "      <th>54</th>\n",
       "      <td>stricter-gun-laws</td>\n",
       "      <td>3/3/18</td>\n",
       "      <td>3/5/18</td>\n",
       "      <td>Quinnipiac</td>\n",
       "      <td>Registered Voters</td>\n",
       "      <td>63</td>\n",
       "      <td>39</td>\n",
       "      <td>88</td>\n",
       "      <td>https://poll.qu.edu/national/release-detail?Re...</td>\n",
       "    </tr>\n",
       "    <tr>\n",
       "      <th>55</th>\n",
       "      <td>stricter-gun-laws</td>\n",
       "      <td>3/4/18</td>\n",
       "      <td>3/6/18</td>\n",
       "      <td>YouGov</td>\n",
       "      <td>Registered Voters</td>\n",
       "      <td>61</td>\n",
       "      <td>42</td>\n",
       "      <td>82</td>\n",
       "      <td>https://d25d2506sfb94s.cloudfront.net/cumulus_...</td>\n",
       "    </tr>\n",
       "    <tr>\n",
       "      <th>56</th>\n",
       "      <td>stricter-gun-laws</td>\n",
       "      <td>3/1/18</td>\n",
       "      <td>3/5/18</td>\n",
       "      <td>Morning Consult</td>\n",
       "      <td>Registered Voters</td>\n",
       "      <td>69</td>\n",
       "      <td>57</td>\n",
       "      <td>85</td>\n",
       "      <td>https://morningconsult.com/wp-content/uploads/...</td>\n",
       "    </tr>\n",
       "  </tbody>\n",
       "</table>\n",
       "</div>"
      ],
      "text/plain": [
       "                       Question    Start      End         Pollster  \\\n",
       "0                        age-21  2/20/18  2/23/18         CNN/SSRS   \n",
       "1                        age-21  2/27/18  2/28/18        NPR/Ipsos   \n",
       "2                        age-21   3/1/18   3/4/18        Rasmussen   \n",
       "3                        age-21  2/22/18  2/26/18              NaN   \n",
       "4                        age-21   3/3/18   3/5/18       Quinnipiac   \n",
       "5                        age-21   3/4/18   3/6/18           YouGov   \n",
       "6                        age-21   3/1/18   3/5/18  Morning Consult   \n",
       "7                  arm-teachers  2/23/18  2/25/18              NaN   \n",
       "8                  arm-teachers  2/20/18  2/23/18         CBS News   \n",
       "9                  arm-teachers  2/27/18  2/28/18        Rasmussen   \n",
       "10                 arm-teachers  2/27/18  2/28/18        NPR/Ipsos   \n",
       "11                 arm-teachers   3/3/18   3/5/18       Quinnipiac   \n",
       "12                 arm-teachers  2/26/18  2/28/18              NaN   \n",
       "13            background-checks  2/16/18  2/19/18       Quinnipiac   \n",
       "14            background-checks  2/18/18  2/20/18           YouGov   \n",
       "15            background-checks  2/25/18  2/27/18           YouGov   \n",
       "16            background-checks  2/15/18  2/19/18  Morning Consult   \n",
       "17            background-checks  2/20/18  2/23/18         CBS News   \n",
       "18            background-checks  2/27/18  2/28/18        NPR/Ipsos   \n",
       "19            background-checks   3/1/18   3/5/18  Morning Consult   \n",
       "20          ban-assault-weapons  2/16/18  2/19/18       Quinnipiac   \n",
       "21          ban-assault-weapons  2/18/18  2/20/18           YouGov   \n",
       "22          ban-assault-weapons  2/25/18  2/27/18           YouGov   \n",
       "23          ban-assault-weapons  2/15/18  2/19/18  Morning Consult   \n",
       "24          ban-assault-weapons  2/15/18  2/18/18              NaN   \n",
       "25          ban-assault-weapons  2/20/18  2/23/18         CNN/SSRS   \n",
       "26          ban-assault-weapons  2/20/18  2/23/18         CBS News   \n",
       "27          ban-assault-weapons  2/16/18  2/19/18              NaN   \n",
       "28          ban-assault-weapons  2/20/18  2/24/18          Suffolk   \n",
       "29          ban-assault-weapons  2/27/18  2/28/18        NPR/Ipsos   \n",
       "30          ban-assault-weapons   3/3/18   3/5/18       Quinnipiac   \n",
       "31          ban-assault-weapons   3/1/18   3/5/18  Morning Consult   \n",
       "32  ban-high-capacity-magazines  2/18/18  2/20/18           YouGov   \n",
       "33  ban-high-capacity-magazines  2/25/18  2/27/18           YouGov   \n",
       "34  ban-high-capacity-magazines  2/15/18  2/19/18  Morning Consult   \n",
       "35  ban-high-capacity-magazines  2/20/18  2/23/18         CNN/SSRS   \n",
       "36  ban-high-capacity-magazines  2/27/18  2/28/18        NPR/Ipsos   \n",
       "37  ban-high-capacity-magazines   3/3/18   3/5/18       Quinnipiac   \n",
       "38  ban-high-capacity-magazines   3/1/18   3/5/18  Morning Consult   \n",
       "39        mental-health-own-gun  2/18/18  2/20/18           YouGov   \n",
       "40        mental-health-own-gun  2/25/18  2/27/18           YouGov   \n",
       "41        mental-health-own-gun  2/15/18  2/19/18  Morning Consult   \n",
       "42        mental-health-own-gun  2/20/18  2/24/18          Suffolk   \n",
       "43        mental-health-own-gun  2/27/18  2/28/18        NPR/Ipsos   \n",
       "44        mental-health-own-gun   3/1/18   3/5/18  Morning Consult   \n",
       "45         repeal-2nd-amendment  2/20/18  2/23/18         CNN/SSRS   \n",
       "46            stricter-gun-laws  2/27/18  2/28/18        NPR/Ipsos   \n",
       "47            stricter-gun-laws  2/25/18  2/27/18           YouGov   \n",
       "48            stricter-gun-laws  2/20/18  2/23/18         CNN/SSRS   \n",
       "49            stricter-gun-laws  2/20/18  2/23/18         CBS News   \n",
       "50            stricter-gun-laws  2/20/18  2/21/18              NaN   \n",
       "51            stricter-gun-laws  2/18/18  2/20/18           YouGov   \n",
       "52            stricter-gun-laws  2/16/18  2/19/18       Quinnipiac   \n",
       "53            stricter-gun-laws  2/22/18  2/26/18  Morning Consult   \n",
       "54            stricter-gun-laws   3/3/18   3/5/18       Quinnipiac   \n",
       "55            stricter-gun-laws   3/4/18   3/6/18           YouGov   \n",
       "56            stricter-gun-laws   3/1/18   3/5/18  Morning Consult   \n",
       "\n",
       "           Population  Support  Republican Support  Democratic Support  \\\n",
       "0   Registered Voters       72                  61                  86   \n",
       "1              Adults       82                  72                  92   \n",
       "2              Adults       67                  59                  76   \n",
       "3   Registered Voters       84                  77                  92   \n",
       "4   Registered Voters       78                  63                  93   \n",
       "5   Registered Voters       72                  65                  80   \n",
       "6   Registered Voters       76                  72                  86   \n",
       "7   Registered Voters       41                  69                  20   \n",
       "8              Adults       44                  68                  20   \n",
       "9              Adults       43                  71                  24   \n",
       "10             Adults       41                  68                  18   \n",
       "11  Registered Voters       40                  77                  10   \n",
       "12  Registered Voters       43                  80                  11   \n",
       "13  Registered Voters       97                  97                  99   \n",
       "14  Registered Voters       85                  78                  87   \n",
       "15  Registered Voters       83                  76                  91   \n",
       "16  Registered Voters       88                  88                  90   \n",
       "17             Adults       75                  66                  86   \n",
       "18             Adults       94                  89                  99   \n",
       "19  Registered Voters       90                  91                  91   \n",
       "20  Registered Voters       67                  43                  91   \n",
       "21  Registered Voters       61                  45                  79   \n",
       "22  Registered Voters       58                  37                  82   \n",
       "23  Registered Voters       69                  64                  81   \n",
       "24  Registered Voters       51                  29                  71   \n",
       "25  Registered Voters       57                  34                  80   \n",
       "26             Adults       53                  39                  66   \n",
       "27  Registered Voters       61                  43                  76   \n",
       "28  Registered Voters       63                  40                  83   \n",
       "29             Adults       72                  58                  88   \n",
       "30  Registered Voters       61                  38                  88   \n",
       "31  Registered Voters       68                  41                  83   \n",
       "32  Registered Voters       67                  52                  82   \n",
       "33  Registered Voters       64                  44                  82   \n",
       "34  Registered Voters       69                  63                  82   \n",
       "35  Registered Voters       64                  48                  82   \n",
       "36             Adults       73                  59                  88   \n",
       "37  Registered Voters       63                  39                  87   \n",
       "38  Registered Voters       71                  64                  84   \n",
       "39  Registered Voters       87                  87                  84   \n",
       "40  Registered Voters       84                  81                  86   \n",
       "41  Registered Voters       88                  89                  90   \n",
       "42  Registered Voters       76                  84                  78   \n",
       "43             Adults       92                  88                  96   \n",
       "44  Registered Voters       88                  91                  91   \n",
       "45  Registered Voters       10                   5                  15   \n",
       "46             Adults       75                  59                  92   \n",
       "47  Registered Voters       63                  43                  87   \n",
       "48  Registered Voters       70                  49                  93   \n",
       "49             Adults       65                  43                  85   \n",
       "50  Registered Voters       73                  55                  93   \n",
       "51  Registered Voters       58                  36                  76   \n",
       "52  Registered Voters       66                  34                  86   \n",
       "53  Registered Voters       68                  53                  89   \n",
       "54  Registered Voters       63                  39                  88   \n",
       "55  Registered Voters       61                  42                  82   \n",
       "56  Registered Voters       69                  57                  85   \n",
       "\n",
       "                                                  URL  \n",
       "0   http://cdn.cnn.com/cnn/2018/images/02/25/rel3a...  \n",
       "1   https://www.ipsos.com/en-us/npripsos-poll-majo...  \n",
       "2   http://www.rasmussenreports.com/public_content...  \n",
       "3   http://thehill.com/opinion/civil-rights/375993...  \n",
       "4   https://poll.qu.edu/national/release-detail?Re...  \n",
       "5   https://d25d2506sfb94s.cloudfront.net/cumulus_...  \n",
       "6   https://morningconsult.com/wp-content/uploads/...  \n",
       "7   http://big.assets.huffingtonpost.com/tabsHPSaf...  \n",
       "8   https://drive.google.com/file/d/0ByVu4fDHYJgVb...  \n",
       "9   http://www.rasmussenreports.com/public_content...  \n",
       "10  https://www.ipsos.com/en-us/npripsos-poll-majo...  \n",
       "11  https://poll.qu.edu/national/release-detail?Re...  \n",
       "12  https://www.nbcnews.com/politics/politics-news...  \n",
       "13  https://poll.qu.edu/images/polling/us/us022020...  \n",
       "14  https://d25d2506sfb94s.cloudfront.net/cumulus_...  \n",
       "15  https://d25d2506sfb94s.cloudfront.net/cumulus_...  \n",
       "16  https://morningconsult.com/wp-content/uploads/...  \n",
       "17  https://drive.google.com/file/d/0ByVu4fDHYJgVb...  \n",
       "18  https://www.ipsos.com/en-us/npripsos-poll-majo...  \n",
       "19  https://morningconsult.com/wp-content/uploads/...  \n",
       "20  https://poll.qu.edu/images/polling/us/us022020...  \n",
       "21  https://d25d2506sfb94s.cloudfront.net/cumulus_...  \n",
       "22  https://d25d2506sfb94s.cloudfront.net/cumulus_...  \n",
       "23  https://morningconsult.com/wp-content/uploads/...  \n",
       "24  https://www.washingtonpost.com/page/2010-2019/...  \n",
       "25  http://cdn.cnn.com/cnn/2018/images/02/25/rel3a...  \n",
       "26  https://drive.google.com/file/d/0ByVu4fDHYJgVb...  \n",
       "27  http://harvardharrispoll.com/wp-content/upload...  \n",
       "28  http://www.suffolk.edu/documents/SUPRC/3_1_201...  \n",
       "29  https://www.ipsos.com/en-us/npripsos-poll-majo...  \n",
       "30  https://poll.qu.edu/national/release-detail?Re...  \n",
       "31  https://morningconsult.com/wp-content/uploads/...  \n",
       "32  https://d25d2506sfb94s.cloudfront.net/cumulus_...  \n",
       "33  https://d25d2506sfb94s.cloudfront.net/cumulus_...  \n",
       "34  https://morningconsult.com/wp-content/uploads/...  \n",
       "35  http://cdn.cnn.com/cnn/2018/images/02/25/rel3a...  \n",
       "36  https://www.ipsos.com/en-us/npripsos-poll-majo...  \n",
       "37  https://poll.qu.edu/national/release-detail?Re...  \n",
       "38  https://morningconsult.com/wp-content/uploads/...  \n",
       "39  https://d25d2506sfb94s.cloudfront.net/cumulus_...  \n",
       "40  https://d25d2506sfb94s.cloudfront.net/cumulus_...  \n",
       "41  https://morningconsult.com/wp-content/uploads/...  \n",
       "42  http://www.suffolk.edu/documents/SUPRC/3_1_201...  \n",
       "43  https://www.ipsos.com/en-us/npripsos-poll-majo...  \n",
       "44  https://morningconsult.com/wp-content/uploads/...  \n",
       "45  http://cdn.cnn.com/cnn/2018/images/02/25/rel3a...  \n",
       "46  https://www.ipsos.com/en-us/npripsos-poll-majo...  \n",
       "47  https://d25d2506sfb94s.cloudfront.net/cumulus_...  \n",
       "48  http://cdn.cnn.com/cnn/2018/images/02/25/rel3a...  \n",
       "49  https://drive.google.com/file/d/0ByVu4fDHYJgVb...  \n",
       "50  http://maristpoll.marist.edu/wp-content/misc/u...  \n",
       "51  https://d25d2506sfb94s.cloudfront.net/cumulus_...  \n",
       "52  https://poll.qu.edu/images/polling/us/us022020...  \n",
       "53  https://morningconsult.com/wp-content/uploads/...  \n",
       "54  https://poll.qu.edu/national/release-detail?Re...  \n",
       "55  https://d25d2506sfb94s.cloudfront.net/cumulus_...  \n",
       "56  https://morningconsult.com/wp-content/uploads/...  "
      ]
     },
     "execution_count": 21,
     "metadata": {},
     "output_type": "execute_result"
    }
   ],
   "source": [
    "# Remove bad columns\n",
    "\n",
    "gun_poll['Pollster'] = gun_poll['Pollster'].map(lambda x: np.nan if x in bad_cols else x)\n",
    "gun_poll"
   ]
  },
  {
   "cell_type": "code",
   "execution_count": 22,
   "metadata": {
    "ExecuteTime": {
     "end_time": "2022-08-10T19:16:43.569051Z",
     "start_time": "2022-08-10T19:16:43.564842Z"
    }
   },
   "outputs": [],
   "source": [
    "gun_poll.dropna(inplace=True)"
   ]
  },
  {
   "cell_type": "code",
   "execution_count": 23,
   "metadata": {
    "ExecuteTime": {
     "end_time": "2022-08-10T19:16:43.576875Z",
     "start_time": "2022-08-10T19:16:43.573617Z"
    },
    "hidden": true
   },
   "outputs": [
    {
     "data": {
      "text/plain": [
       "YouGov             12\n",
       "Morning Consult    11\n",
       "Quinnipiac          8\n",
       "NPR/Ipsos           7\n",
       "CNN/SSRS            5\n",
       "CBS News            4\n",
       "Suffolk             2\n",
       "Rasmussen           2\n",
       "Name: Pollster, dtype: int64"
      ]
     },
     "execution_count": 23,
     "metadata": {},
     "output_type": "execute_result"
    }
   ],
   "source": [
    "# Sniff test!\n",
    "gun_poll['Pollster'].value_counts()"
   ]
  },
  {
   "cell_type": "markdown",
   "metadata": {
    "hidden": true
   },
   "source": [
    "We could now split this carefully so that new categories don't show up in the testing data. In fact, now we can try the stratified split:"
   ]
  },
  {
   "cell_type": "code",
   "execution_count": 24,
   "metadata": {
    "ExecuteTime": {
     "end_time": "2022-08-10T19:16:43.582350Z",
     "start_time": "2022-08-10T19:16:43.578735Z"
    },
    "hidden": true
   },
   "outputs": [],
   "source": [
    "X_train3, X_test3 = train_test_split(gun_poll,\n",
    "                                     stratify=gun_poll['Pollster'],\n",
    "                                     test_size=0.3,\n",
    "                                     random_state=42)"
   ]
  },
  {
   "cell_type": "code",
   "execution_count": 25,
   "metadata": {
    "ExecuteTime": {
     "end_time": "2022-08-10T19:16:43.586627Z",
     "start_time": "2022-08-10T19:16:43.583461Z"
    },
    "hidden": true
   },
   "outputs": [
    {
     "data": {
      "text/plain": [
       "Morning Consult    8\n",
       "YouGov             8\n",
       "Quinnipiac         6\n",
       "NPR/Ipsos          5\n",
       "CNN/SSRS           3\n",
       "CBS News           3\n",
       "Suffolk            1\n",
       "Rasmussen          1\n",
       "Name: Pollster, dtype: int64"
      ]
     },
     "execution_count": 25,
     "metadata": {},
     "output_type": "execute_result"
    }
   ],
   "source": [
    "# Sniff Test\n",
    "X_train3.Pollster.value_counts()"
   ]
  },
  {
   "cell_type": "code",
   "execution_count": 26,
   "metadata": {
    "ExecuteTime": {
     "end_time": "2022-08-10T19:16:43.591472Z",
     "start_time": "2022-08-10T19:16:43.587982Z"
    }
   },
   "outputs": [
    {
     "data": {
      "text/plain": [
       "YouGov             4\n",
       "Morning Consult    3\n",
       "CNN/SSRS           2\n",
       "Quinnipiac         2\n",
       "NPR/Ipsos          2\n",
       "CBS News           1\n",
       "Suffolk            1\n",
       "Rasmussen          1\n",
       "Name: Pollster, dtype: int64"
      ]
     },
     "execution_count": 26,
     "metadata": {},
     "output_type": "execute_result"
    }
   ],
   "source": [
    "X_test3.Pollster.value_counts()"
   ]
  },
  {
   "cell_type": "markdown",
   "metadata": {
    "hidden": true
   },
   "source": [
    "Now every category that appears in the test data appears also in the training data."
   ]
  },
  {
   "cell_type": "markdown",
   "metadata": {
    "hidden": true
   },
   "source": [
    "- **Strategy 3**: Adjust the settings on the one-hot-encoder.\n",
    "\n",
    "For `sklearn`'s tool, we'll tweak the `handle_unknown` parameter:"
   ]
  },
  {
   "cell_type": "markdown",
   "metadata": {
    "hidden": true
   },
   "source": [
    "#### Exericse"
   ]
  },
  {
   "cell_type": "markdown",
   "metadata": {
    "hidden": true
   },
   "source": [
    "Fit a new encoder to our training data column that won't break when we try to use it to transform the test data. And then use the encoder to transform both train and test."
   ]
  },
  {
   "cell_type": "code",
   "execution_count": 27,
   "metadata": {
    "ExecuteTime": {
     "end_time": "2022-08-10T19:16:43.597303Z",
     "start_time": "2022-08-10T19:16:43.592843Z"
    },
    "hidden": true
   },
   "outputs": [
    {
     "data": {
      "text/plain": [
       "array(['x0_ABC/Washington Post', 'x0_CBS News', 'x0_CNN/SSRS',\n",
       "       'x0_Marist', 'x0_Morning Consult', 'x0_NPR/Ipsos', 'x0_Quinnipiac',\n",
       "       'x0_Rasmussen', 'x0_Suffolk', 'x0_YouGov', 'x0_YouGov/Huffpost'],\n",
       "      dtype=object)"
      ]
     },
     "execution_count": 27,
     "metadata": {},
     "output_type": "execute_result"
    }
   ],
   "source": [
    "ohe2 = OneHotEncoder(handle_unknown='ignore')\n",
    "ohe2.fit(to_be_dummied)\n",
    "test_to_be_dummied = X_test[['Pollster']]\n",
    "ohe2.transform(to_be_dummied)\n",
    "ohe2.transform(test_to_be_dummied)\n",
    "ohe2.get_feature_names()"
   ]
  },
  {
   "cell_type": "markdown",
   "metadata": {
    "heading_collapsed": true,
    "hidden": true
   },
   "source": [
    "## Leakage into Validation Data"
   ]
  },
  {
   "cell_type": "markdown",
   "metadata": {
    "hidden": true
   },
   "source": [
    "If we employ cross-validation, then our training data points will be serving both for training and for validation. So there's a sense in which we can't help but let some information about our validation data sneak into the model.\n",
    "\n",
    "But strictly speaking, cross-validation means building *multiple* models, and we still want each to be blind to its validation set.\n",
    "\n",
    "The dangers of data leakage, therefore, are still very much real in the case of validation data. And they are often more subtle as well. Consider the following line of code:"
   ]
  },
  {
   "cell_type": "code",
   "execution_count": 28,
   "metadata": {
    "ExecuteTime": {
     "end_time": "2022-08-10T19:16:43.599969Z",
     "start_time": "2022-08-10T19:16:43.598378Z"
    },
    "hidden": true
   },
   "outputs": [],
   "source": [
    "mse = make_scorer(mean_squared_error, greater_is_better=False)"
   ]
  },
  {
   "cell_type": "markdown",
   "metadata": {},
   "source": [
    "###### The following is using unscaled data,  and gives rull shitty results"
   ]
  },
  {
   "cell_type": "code",
   "execution_count": 29,
   "metadata": {
    "ExecuteTime": {
     "end_time": "2022-08-10T19:16:43.616585Z",
     "start_time": "2022-08-10T19:16:43.600971Z"
    }
   },
   "outputs": [
    {
     "data": {
      "text/plain": [
       "[16.55576858541048,\n",
       " -1.1433423616488099,\n",
       " 54.32724494040433,\n",
       " 80.29185875971856,\n",
       " 98.16945618977381]"
      ]
     },
     "execution_count": 29,
     "metadata": {},
     "output_type": "execute_result"
    }
   ],
   "source": [
    "# Using our non-scaled training data\n",
    "\n",
    "cv_results = cross_validate(estimator=LinearRegression(),\n",
    "                X=X_train2,\n",
    "                y=y_train2,\n",
    "                scoring=mse,\n",
    "                return_estimator=True)\n",
    "\n",
    "# Looking at model coefficients on the first predictor\n",
    "\n",
    "[model.coef_[0] for model in cv_results['estimator']]"
   ]
  },
  {
   "cell_type": "code",
   "execution_count": 30,
   "metadata": {
    "ExecuteTime": {
     "end_time": "2022-08-10T19:16:43.627976Z",
     "start_time": "2022-08-10T19:16:43.617719Z"
    },
    "hidden": true
   },
   "outputs": [
    {
     "data": {
      "text/plain": [
       "[0.7680116279314555,\n",
       " -0.05303892863219852,\n",
       " 2.5202065136668392,\n",
       " 3.7246885179367135,\n",
       " 4.554018949497536]"
      ]
     },
     "execution_count": 30,
     "metadata": {},
     "output_type": "execute_result"
    }
   ],
   "source": [
    "# Using our scaled training data\n",
    "\n",
    "cv_results = cross_validate(estimator=LinearRegression(),\n",
    "                X=X_train2_sc,\n",
    "                y=y_train2,\n",
    "                scoring=mse,\n",
    "                return_estimator=True)\n",
    "\n",
    "# Looking at model coefficients on the first predictor\n",
    "\n",
    "[model.coef_[0] for model in cv_results['estimator']]"
   ]
  },
  {
   "cell_type": "markdown",
   "metadata": {
    "hidden": true
   },
   "source": [
    "We've built five models here, and none of them saw any points from the test data, so we have no leaks, right?\n",
    "\n",
    "Wrong! We fit the `StandardScaler` to the whole training set, which means that information about *every* fold will affect every cross-validation. A better practice here would be to split our data into its cross-validation folds *first*. Then we can fit the scaler to only the training folds for each cross-validation.\n",
    "\n",
    "Of course, the more preprocessing steps we have, the more tedious it becomes to do this work! For such tasks it is often greatly beneficial to take advantage of `sklearn`'s `Pipeline`s, which we'll have more to say about later.\n",
    "\n",
    "For now, let's see if we can fix our leaky cross-validation scorer."
   ]
  },
  {
   "cell_type": "markdown",
   "metadata": {
    "hidden": true
   },
   "source": [
    "#### Exercise"
   ]
  },
  {
   "cell_type": "markdown",
   "metadata": {
    "hidden": true
   },
   "source": [
    "Go back to `X_train2` and do the following:\n",
    "\n",
    "- Split it into five validation folds (Use `KFold()`).\n",
    "- For each split:\n",
    "- (i) fit a `StandardScaler` to the four-fold chunk and transform all data points with it.\n",
    "- (ii) fit a `LinearRegression` to the four-fold chunk and print out the value of the first coefficient."
   ]
  },
  {
   "cell_type": "code",
   "execution_count": 31,
   "metadata": {
    "ExecuteTime": {
     "end_time": "2022-08-10T19:16:43.632448Z",
     "start_time": "2022-08-10T19:16:43.629183Z"
    }
   },
   "outputs": [
    {
     "name": "stdout",
     "output_type": "stream",
     "text": [
      "Train:  [  0   1   2   4   6   8  10  11  12  13  14  15  17  18  19  20  21  22\n",
      "  23  24  26  27  28  29  30  31  32  34  35  36  37  38  39  40  41  43\n",
      "  44  47  48  49  50  51  52  53  54  56  58  59  61  62  64  65  66  67\n",
      "  68  69  70  71  74  78  79  80  81  82  83  85  86  87  88  89  90  91\n",
      "  92  93  95  96  97  98  99 100 102 103 104 105 106 107 111 112 115 116\n",
      " 117 119 120 121 122 123 124 125 127 128 129 130 131 133 134 135 136 138\n",
      " 139 140 141 142 143 144 145 148 149 150 151 152 153 154 155 156 157 158\n",
      " 159 160 161 162 163 165 166 167 168 169 170 171 172 173 174 175 178 181\n",
      " 182 183 185 186 187 188 189 190 191 192 193 197 199 200 201 204 205 206\n",
      " 207 208 209 210 211 212 213 214 215 216 217 218 220 221 223 224 226 227\n",
      " 228 229 230 231 233 234 235 236 237 239 240 241 242 243 245 246 247 248\n",
      " 250 251 252 253 254 256 257 258 259 260 261 262 263 264 265 268 269 270\n",
      " 271 272 273 274 275 276 277 280 281 282 283 284 285 286 287 288 289 290\n",
      " 292 293 296 297 298 300 301 302 303 304 305 306 308 309 311 312 313 314\n",
      " 316 318 319 321 322 323 324 325 327 328 329 330]\n",
      "Val:  [  3   5   7   9  16  25  33  42  45  46  55  57  60  63  72  73  75  76\n",
      "  77  84  94 101 108 109 110 113 114 118 126 132 137 146 147 164 176 177\n",
      " 179 180 184 194 195 196 198 202 203 219 222 225 232 238 244 249 255 266\n",
      " 267 278 279 291 294 295 299 307 310 315 317 320 326]\n"
     ]
    }
   ],
   "source": [
    "for train_ind, val_ind in KFold(shuffle=True, random_state=42).split(X_train2):\n",
    "    print('Train: ', train_ind)\n",
    "    print('Val: ', val_ind)\n",
    "    break"
   ]
  },
  {
   "cell_type": "code",
   "execution_count": 32,
   "metadata": {
    "ExecuteTime": {
     "end_time": "2022-08-10T19:16:43.645655Z",
     "start_time": "2022-08-10T19:16:43.633384Z"
    },
    "hidden": true
   },
   "outputs": [
    {
     "name": "stdout",
     "output_type": "stream",
     "text": [
      "2.646422245737097\n",
      "0.013476735053361957\n",
      "2.8136676584915405\n",
      "1.0725196663501466\n",
      "4.508810333813431\n"
     ]
    }
   ],
   "source": [
    "# Code with shuffle and random_state\n",
    "train_score = []\n",
    "val_score = []\n",
    "\n",
    "for train_ind, val_ind in KFold(shuffle=True, random_state=42).split(X_train2):\n",
    "    \n",
    "    train = X_train2[train_ind, :]\n",
    "    val = X_train2[val_ind, :]\n",
    "    \n",
    "    target_train = y_train2[train_ind]\n",
    "    target_val = y_train2[val_ind]\n",
    "    \n",
    "    ss = StandardScaler().fit(train)\n",
    "    \n",
    "    train_sc = ss.transform(train)\n",
    "    val_sc = ss.transform(val)\n",
    "    \n",
    "    lr = LinearRegression().fit(train_sc, target_train)\n",
    "    \n",
    "    train_score.append(lr.score(train_sc, target_train))\n",
    "    val_score.append(lr.score(val_sc, target_val))\n",
    "    \n",
    "    print(lr.coef_[0])"
   ]
  },
  {
   "cell_type": "code",
   "execution_count": 33,
   "metadata": {
    "ExecuteTime": {
     "end_time": "2022-08-10T19:16:43.648720Z",
     "start_time": "2022-08-10T19:16:43.646747Z"
    }
   },
   "outputs": [
    {
     "name": "stdout",
     "output_type": "stream",
     "text": [
      "0.5228145509661335 [0.5218109244938269, 0.54477628609146, 0.5033992850553022, 0.5160106794845642, 0.5280755797055141]\n",
      "0.46059564116679425 [0.4527857072287562, 0.3121829335279114, 0.5714526098557587, 0.5030197399214723, 0.4635372153000724]\n"
     ]
    }
   ],
   "source": [
    "print(np.mean(train_score), train_score)\n",
    "print(np.mean(val_score), val_score)"
   ]
  },
  {
   "cell_type": "code",
   "execution_count": null,
   "metadata": {},
   "outputs": [],
   "source": []
  },
  {
   "cell_type": "code",
   "execution_count": 34,
   "metadata": {
    "ExecuteTime": {
     "end_time": "2022-08-10T19:16:43.660698Z",
     "start_time": "2022-08-10T19:16:43.649827Z"
    }
   },
   "outputs": [
    {
     "name": "stdout",
     "output_type": "stream",
     "text": [
      "0.7804849156410961\n",
      "-0.052632372933910786\n",
      "2.438099721585693\n",
      "3.7975009826724104\n",
      "4.560443723559545\n"
     ]
    }
   ],
   "source": [
    "# Code without shuffle and random_state\n",
    "\n",
    "for train_ind, val_ind in KFold().split(X_train2):\n",
    "    \n",
    "    train = X_train2[train_ind, :]\n",
    "    val = X_train2[val_ind, :]\n",
    "    \n",
    "    target_train = y_train2[train_ind]\n",
    "    target_val = y_train2[val_ind]\n",
    "    \n",
    "    ss = StandardScaler().fit(train)\n",
    "    \n",
    "    train_sc = ss.transform(train)\n",
    "    val_sc = ss.transform(val)\n",
    "    \n",
    "    lr = LinearRegression().fit(train_sc, target_train)\n",
    "    print(lr.coef_[0])"
   ]
  },
  {
   "cell_type": "code",
   "execution_count": null,
   "metadata": {},
   "outputs": [],
   "source": []
  },
  {
   "cell_type": "markdown",
   "metadata": {
    "heading_collapsed": true,
    "hidden": true
   },
   "source": [
    "### A Contrived But Illustrative Example\n",
    "\n",
    "This is only a slight difference in coefficients, but for other datasets the difference can be great."
   ]
  },
  {
   "cell_type": "code",
   "execution_count": 35,
   "metadata": {
    "ExecuteTime": {
     "end_time": "2022-08-10T19:16:43.664772Z",
     "start_time": "2022-08-10T19:16:43.662167Z"
    },
    "hidden": true
   },
   "outputs": [],
   "source": [
    "fake_preds = np.array([6, 5, 2, 250, 300]).reshape(-1, 1)\n",
    "fake_target = np.array([25, 30, 12, 400, 420]).reshape(-1, 1)"
   ]
  },
  {
   "cell_type": "code",
   "execution_count": 36,
   "metadata": {
    "ExecuteTime": {
     "end_time": "2022-08-10T19:16:43.668172Z",
     "start_time": "2022-08-10T19:16:43.666147Z"
    },
    "hidden": true
   },
   "outputs": [],
   "source": [
    "df = pd.DataFrame(np.hstack((fake_preds, fake_target)),\n",
    "                 columns=['pred', 'target'])"
   ]
  },
  {
   "cell_type": "code",
   "execution_count": 37,
   "metadata": {
    "ExecuteTime": {
     "end_time": "2022-08-10T19:16:43.672756Z",
     "start_time": "2022-08-10T19:16:43.669285Z"
    },
    "hidden": true
   },
   "outputs": [
    {
     "data": {
      "text/html": [
       "<div>\n",
       "<style scoped>\n",
       "    .dataframe tbody tr th:only-of-type {\n",
       "        vertical-align: middle;\n",
       "    }\n",
       "\n",
       "    .dataframe tbody tr th {\n",
       "        vertical-align: top;\n",
       "    }\n",
       "\n",
       "    .dataframe thead th {\n",
       "        text-align: right;\n",
       "    }\n",
       "</style>\n",
       "<table border=\"1\" class=\"dataframe\">\n",
       "  <thead>\n",
       "    <tr style=\"text-align: right;\">\n",
       "      <th></th>\n",
       "      <th>pred</th>\n",
       "      <th>target</th>\n",
       "    </tr>\n",
       "  </thead>\n",
       "  <tbody>\n",
       "    <tr>\n",
       "      <th>0</th>\n",
       "      <td>6</td>\n",
       "      <td>25</td>\n",
       "    </tr>\n",
       "    <tr>\n",
       "      <th>1</th>\n",
       "      <td>5</td>\n",
       "      <td>30</td>\n",
       "    </tr>\n",
       "    <tr>\n",
       "      <th>2</th>\n",
       "      <td>2</td>\n",
       "      <td>12</td>\n",
       "    </tr>\n",
       "    <tr>\n",
       "      <th>3</th>\n",
       "      <td>250</td>\n",
       "      <td>400</td>\n",
       "    </tr>\n",
       "    <tr>\n",
       "      <th>4</th>\n",
       "      <td>300</td>\n",
       "      <td>420</td>\n",
       "    </tr>\n",
       "  </tbody>\n",
       "</table>\n",
       "</div>"
      ],
      "text/plain": [
       "   pred  target\n",
       "0     6      25\n",
       "1     5      30\n",
       "2     2      12\n",
       "3   250     400\n",
       "4   300     420"
      ]
     },
     "execution_count": 37,
     "metadata": {},
     "output_type": "execute_result"
    }
   ],
   "source": [
    "df"
   ]
  },
  {
   "cell_type": "code",
   "execution_count": 38,
   "metadata": {
    "ExecuteTime": {
     "end_time": "2022-08-10T19:16:43.676800Z",
     "start_time": "2022-08-10T19:16:43.673801Z"
    },
    "hidden": true
   },
   "outputs": [],
   "source": [
    "small_train = df[['pred']][:3]\n",
    "small_val = df[['pred']][3:]\n",
    "small_train_y = df['target'][:3]\n",
    "small_val_y = df['target'][3:]"
   ]
  },
  {
   "cell_type": "code",
   "execution_count": 39,
   "metadata": {
    "ExecuteTime": {
     "end_time": "2022-08-10T19:16:43.681512Z",
     "start_time": "2022-08-10T19:16:43.677978Z"
    },
    "hidden": true
   },
   "outputs": [],
   "source": [
    "# Scaling the whole dataset\n",
    "\n",
    "ss = StandardScaler().fit(df[['pred']])"
   ]
  },
  {
   "cell_type": "code",
   "execution_count": 40,
   "metadata": {
    "ExecuteTime": {
     "end_time": "2022-08-10T19:16:43.686634Z",
     "start_time": "2022-08-10T19:16:43.682709Z"
    },
    "hidden": true
   },
   "outputs": [],
   "source": [
    "X_tr = ss.transform(small_train)\n",
    "X_va = ss.transform(small_val)"
   ]
  },
  {
   "cell_type": "code",
   "execution_count": 41,
   "metadata": {
    "ExecuteTime": {
     "end_time": "2022-08-10T19:16:43.690746Z",
     "start_time": "2022-08-10T19:16:43.687950Z"
    },
    "hidden": true
   },
   "outputs": [
    {
     "data": {
      "text/plain": [
       "array([518.77056848])"
      ]
     },
     "execution_count": 41,
     "metadata": {},
     "output_type": "execute_result"
    }
   ],
   "source": [
    "lr = LinearRegression().fit(X_tr, small_train_y)\n",
    "lr.coef_"
   ]
  },
  {
   "cell_type": "code",
   "execution_count": 42,
   "metadata": {
    "ExecuteTime": {
     "end_time": "2022-08-10T19:16:43.793352Z",
     "start_time": "2022-08-10T19:16:43.692255Z"
    },
    "hidden": true
   },
   "outputs": [
    {
     "data": {
      "image/png": "[encoded data removed]",
      "text/plain": [
       "<Figure size 432x288 with 1 Axes>"
      ]
     },
     "metadata": {},
     "output_type": "display_data"
    }
   ],
   "source": [
    "fig, ax = plt.subplots()\n",
    "\n",
    "X = np.linspace(0, 310, 600)\n",
    "y = lr.coef_ * X + lr.intercept_\n",
    "\n",
    "ax.scatter(df['pred'], df['target'])\n",
    "ax.plot(X, y)\n",
    "ax.set_title(f\"\"\"The best-fit line when scaling the whole dataset is\n",
    "    {round(lr.coef_[0])}X + {round(lr.intercept_)}\"\"\");"
   ]
  },
  {
   "cell_type": "code",
   "execution_count": 43,
   "metadata": {
    "ExecuteTime": {
     "end_time": "2022-08-10T19:16:43.797334Z",
     "start_time": "2022-08-10T19:16:43.794514Z"
    },
    "hidden": true
   },
   "outputs": [],
   "source": [
    "# Splitting before scaling\n",
    "\n",
    "ss2 = StandardScaler().fit(small_train)"
   ]
  },
  {
   "cell_type": "code",
   "execution_count": 44,
   "metadata": {
    "ExecuteTime": {
     "end_time": "2022-08-10T19:16:43.803211Z",
     "start_time": "2022-08-10T19:16:43.798635Z"
    },
    "hidden": true
   },
   "outputs": [],
   "source": [
    "X_tr2 = ss2.transform(small_train)\n",
    "X_va2 = ss2.transform(small_val)"
   ]
  },
  {
   "cell_type": "code",
   "execution_count": 45,
   "metadata": {
    "ExecuteTime": {
     "end_time": "2022-08-10T19:16:43.810287Z",
     "start_time": "2022-08-10T19:16:43.806297Z"
    },
    "hidden": true
   },
   "outputs": [
    {
     "data": {
      "text/plain": [
       "array([6.60257655])"
      ]
     },
     "execution_count": 45,
     "metadata": {},
     "output_type": "execute_result"
    }
   ],
   "source": [
    "lr2 = LinearRegression().fit(X_tr2, small_train_y)\n",
    "lr2.coef_"
   ]
  },
  {
   "cell_type": "code",
   "execution_count": 46,
   "metadata": {
    "ExecuteTime": {
     "end_time": "2022-08-10T19:16:43.885356Z",
     "start_time": "2022-08-10T19:16:43.811499Z"
    },
    "hidden": true
   },
   "outputs": [
    {
     "data": {
      "image/png": "[encoded data removed]",
      "text/plain": [
       "<Figure size 432x288 with 1 Axes>"
      ]
     },
     "metadata": {},
     "output_type": "display_data"
    }
   ],
   "source": [
    "fig, ax = plt.subplots()\n",
    "\n",
    "X = np.linspace(0, 310, 600)\n",
    "y = lr2.coef_ * X + lr2.intercept_\n",
    "\n",
    "ax.scatter(df['pred'], df['target'])\n",
    "ax.plot(X, y)\n",
    "ax.set_title(f\"\"\"The best-fit line when scaling after splitting is\n",
    "    {round(lr2.coef_[0])}X + {round(lr2.intercept_)}\"\"\");"
   ]
  },
  {
   "cell_type": "code",
   "execution_count": null,
   "metadata": {},
   "outputs": [],
   "source": []
  }
 ],
 "metadata": {
  "kernelspec": {
   "display_name": "Python (learn-env)",
   "language": "python",
   "name": "learn-env"
  },
  "language_info": {
   "codemirror_mode": {
    "name": "ipython",
    "version": 3
   },
   "file_extension": ".py",
   "mimetype": "text/x-python",
   "name": "python",
   "nbconvert_exporter": "python",
   "pygments_lexer": "ipython3",
   "version": "3.8.5"
  },
  "toc": {
   "base_numbering": 1,
   "nav_menu": {},
   "number_sections": true,
   "sideBar": false,
   "skip_h1_title": false,
   "title_cell": "Table of Contents",
   "title_sidebar": "Contents",
   "toc_cell": false,
   "toc_position": {
    "height": "47.6855px",
    "left": "880.732px",
    "top": "87.959px",
    "width": "150.518px"
   },
   "toc_section_display": false,
   "toc_window_display": true
  },
  "varInspector": {
   "cols": {
    "lenName": 16,
    "lenType": 16,
    "lenVar": 40
   },
   "kernels_config": {
    "python": {
     "delete_cmd_postfix": "",
     "delete_cmd_prefix": "del ",
     "library": "var_list.py",
     "varRefreshCmd": "print(var_dic_list())"
    },
    "r": {
     "delete_cmd_postfix": ") ",
     "delete_cmd_prefix": "rm(",
     "library": "var_list.r",
     "varRefreshCmd": "cat(var_dic_list()) "
    }
   },
   "types_to_exclude": [
    "module",
    "function",
    "builtin_function_or_method",
    "instance",
    "_Feature"
   ],
   "window_display": true
  }
 },
 "nbformat": 4,
 "nbformat_minor": 4
}
