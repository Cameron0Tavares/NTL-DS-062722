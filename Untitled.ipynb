{
 "cells": [
  {
   "cell_type": "markdown",
   "metadata": {},
   "source": [
    "### Everybody loves Friends\n",
    "\n",
    "[They should put that on the box!](https://www.youtube.com/watch?v=o0852DcPWto)\n",
    "\n",
    "We have learned Bayesian probablilites as a foundation for statistics during our Data Science course through FlatIron. This is something that we will continue to use over the course of our careers as Data Scientists, as it forms the basis for machine learning.\n"
   ]
  },
  {
   "cell_type": "markdown",
   "metadata": {},
   "source": [
    "# Bayes' Theorem\n",
    "\n",
    "$$P(A|B) = \\frac{P(B|A)}{P(B)}\\ P(A) $$\n",
    "\n",
    "\n",
    "Each factor, broken down (note, different approaches require **slightly** different groupings):\n",
    "\n",
    "- $P(A)$: the probability of event A, aka. *prior*\n",
    "- $P(A|B)$: *posterior*\n",
    "- $P(B|A)$: *likelihood*\n",
    "- $P(B)$: the probability of event B"
   ]
  },
  {
   "cell_type": "code",
   "execution_count": null,
   "metadata": {},
   "outputs": [],
   "source": [
    "\n",
    "CONDOM_EFFECTIVENESS = .97 #condoms are 97% effective when used properly\n",
    "CONDOM_USE_PERCENTAGE = .86 #but in practice are incorrectly used 14% of the time\n",
    "FERTILIZATION_CHANCE = .36 \n",
    "'''\n",
    "unproctected sex has about a 36% of resulting in pregnancy\n",
    "this percentage can be influenced by several different factors, with the largest of those by far\n",
    "being age and stress of the female partner. As either (or both, the 2020s are a wild ride) increase\n",
    "the chances of successful fertilization decrease. \n",
    "'''                           \n",
    "\n",
    "\n"
   ]
  },
  {
   "cell_type": "markdown",
   "metadata": {},
   "source": [
    "\n",
    "\n",
    "So the basic Bayesian calculation would look something like this:\n",
    "\n"
   ]
  },
  {
   "cell_type": "code",
   "execution_count": null,
   "metadata": {},
   "outputs": [],
   "source": []
  },
  {
   "cell_type": "code",
   "execution_count": null,
   "metadata": {},
   "outputs": [],
   "source": [
    "OVULATION_DATE = -14 #12-16 days prior to period\n",
    "MENSTRATION_DATE = 14 #12-16 days after ovulation\n",
    "\n",
    "SPERM_LIFE = 5 #sperm can only live for five days after ejaculation\n",
    "EGG_LIFE = 1 #egg life is only 12-24 hours\n",
    "\n",
    "cycle_length = 28 #28 +- 7 days is the 'standard' cycle length"
   ]
  },
  {
   "cell_type": "code",
   "execution_count": null,
   "metadata": {},
   "outputs": [],
   "source": []
  }
 ],
 "metadata": {
  "kernelspec": {
   "display_name": "Python (learn-env)",
   "language": "python",
   "name": "learn-env"
  },
  "language_info": {
   "codemirror_mode": {
    "name": "ipython",
    "version": 3
   },
   "file_extension": ".py",
   "mimetype": "text/x-python",
   "name": "python",
   "nbconvert_exporter": "python",
   "pygments_lexer": "ipython3",
   "version": "3.8.5"
  }
 },
 "nbformat": 4,
 "nbformat_minor": 4
}
