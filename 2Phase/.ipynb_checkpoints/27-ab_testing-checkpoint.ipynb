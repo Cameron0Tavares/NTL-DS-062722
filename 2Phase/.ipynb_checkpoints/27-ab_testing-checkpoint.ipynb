{
 "cells": [
  {
   "cell_type": "markdown",
   "metadata": {
    "toc": true
   },
   "source": [
    "<h1>Table of Contents<span class=\"tocSkip\"></span></h1>\n",
    "<div class=\"toc\"><ul class=\"toc-item\"><li><span><a href=\"#Objectives\" data-toc-modified-id=\"Objectives-1\"><span class=\"toc-item-num\">1&nbsp;&nbsp;</span>Objectives</a></span></li><li><span><a href=\"#Example-Together\" data-toc-modified-id=\"Example-Together-2\"><span class=\"toc-item-num\">2&nbsp;&nbsp;</span>Example Together</a></span><ul class=\"toc-item\"><li><span><a href=\"#Question\" data-toc-modified-id=\"Question-2.1\"><span class=\"toc-item-num\">2.1&nbsp;&nbsp;</span>Question</a></span></li><li><span><a href=\"#Considerations\" data-toc-modified-id=\"Considerations-2.2\"><span class=\"toc-item-num\">2.2&nbsp;&nbsp;</span>Considerations</a></span></li><li><span><a href=\"#Loading-the-Data\" data-toc-modified-id=\"Loading-the-Data-2.3\"><span class=\"toc-item-num\">2.3&nbsp;&nbsp;</span>Loading the Data</a></span></li><li><span><a href=\"#Some-Exploration-to-Better-Understand-our-Data\" data-toc-modified-id=\"Some-Exploration-to-Better-Understand-our-Data-2.4\"><span class=\"toc-item-num\">2.4&nbsp;&nbsp;</span>Some Exploration to Better Understand our Data</a></span></li><li><span><a href=\"#Experimental-Setup\" data-toc-modified-id=\"Experimental-Setup-2.5\"><span class=\"toc-item-num\">2.5&nbsp;&nbsp;</span>Experimental Setup</a></span><ul class=\"toc-item\"><li><span><a href=\"#What-Test-Would-Make-Sense?\" data-toc-modified-id=\"What-Test-Would-Make-Sense?-2.5.1\"><span class=\"toc-item-num\">2.5.1&nbsp;&nbsp;</span>What Test Would Make Sense?</a></span></li><li><span><a href=\"#The-Hypotheses\" data-toc-modified-id=\"The-Hypotheses-2.5.2\"><span class=\"toc-item-num\">2.5.2&nbsp;&nbsp;</span>The Hypotheses</a></span></li><li><span><a href=\"#Setting-a-Threshold\" data-toc-modified-id=\"Setting-a-Threshold-2.5.3\"><span class=\"toc-item-num\">2.5.3&nbsp;&nbsp;</span>Setting a Threshold</a></span></li></ul></li><li><span><a href=\"#$\\chi^2$-Test\" data-toc-modified-id=\"$\\chi^2$-Test-2.6\"><span class=\"toc-item-num\">2.6&nbsp;&nbsp;</span>$\\chi^2$ Test</a></span><ul class=\"toc-item\"><li><span><a href=\"#Setup-the-Data\" data-toc-modified-id=\"Setup-the-Data-2.6.1\"><span class=\"toc-item-num\">2.6.1&nbsp;&nbsp;</span>Setup the Data</a></span></li><li><span><a href=\"#Calculation\" data-toc-modified-id=\"Calculation-2.6.2\"><span class=\"toc-item-num\">2.6.2&nbsp;&nbsp;</span>Calculation</a></span></li></ul></li><li><span><a href=\"#Interpretation\" data-toc-modified-id=\"Interpretation-2.7\"><span class=\"toc-item-num\">2.7&nbsp;&nbsp;</span>Interpretation</a></span></li></ul></li><li><span><a href=\"#Exercise\" data-toc-modified-id=\"Exercise-3\"><span class=\"toc-item-num\">3&nbsp;&nbsp;</span>Exercise</a></span></li></ul></div>"
   ]
  },
  {
   "cell_type": "code",
   "execution_count": 1,
   "metadata": {
    "_cell_guid": "b1076dfc-b9ad-4769-8c92-a6c4dae69d19",
    "_uuid": "8f2839f25d086af736a60e9eeb907d3b93b6e0e5"
   },
   "outputs": [],
   "source": [
    "import numpy as np\n",
    "import pandas as pd\n",
    "\n",
    "from scipy import stats\n",
    "import seaborn as sns"
   ]
  },
  {
   "cell_type": "markdown",
   "metadata": {
    "heading_collapsed": true
   },
   "source": [
    "# Objectives"
   ]
  },
  {
   "cell_type": "markdown",
   "metadata": {
    "hidden": true
   },
   "source": [
    "- Conduct an A/B test in Python\n",
    "- Interpret the results of the A/B tests for a stakeholder"
   ]
  },
  {
   "cell_type": "markdown",
   "metadata": {
    "heading_collapsed": true
   },
   "source": [
    "# Example Together"
   ]
  },
  {
   "cell_type": "markdown",
   "metadata": {
    "heading_collapsed": true,
    "hidden": true
   },
   "source": [
    "## Question"
   ]
  },
  {
   "cell_type": "markdown",
   "metadata": {
    "hidden": true
   },
   "source": [
    "We have data about whether customers completed sales transactions, segregated by the type of ad banners to which the customers were exposed.\n",
    "\n",
    "The question we want to answer is whether there was any difference in sales \"conversions\" between desktop customers who saw the sneakers banner and desktop customers who saw the accessories banner in the month of May 2019."
   ]
  },
  {
   "cell_type": "markdown",
   "metadata": {
    "heading_collapsed": true,
    "hidden": true
   },
   "source": [
    "## Considerations"
   ]
  },
  {
   "cell_type": "markdown",
   "metadata": {
    "hidden": true
   },
   "source": [
    "What would we need to consider when designing our experiment?"
   ]
  },
  {
   "cell_type": "markdown",
   "metadata": {
    "hidden": true
   },
   "source": [
    "Might include:\n",
    "\n",
    "- Who is it that we're including in our test?\n",
    "- How big of an effect would make it \"worth\" us seeing?\n",
    "    - This can affect sample size\n",
    "    - This can give context of a statistically significant result\n",
    "- Other biases or \"gotchas\""
   ]
  },
  {
   "cell_type": "markdown",
   "metadata": {
    "heading_collapsed": true,
    "hidden": true
   },
   "source": [
    "## Loading the Data"
   ]
  },
  {
   "cell_type": "markdown",
   "metadata": {
    "hidden": true
   },
   "source": [
    "First let's download the data from [kaggle](https://www.kaggle.com/podsyp/how-to-do-product-analytics) via the release page of this repo: https://github.com/flatiron-school/ds-ab_testing/releases \n",
    "\n",
    "The code below will load it into our DataFrame:"
   ]
  },
  {
   "cell_type": "code",
   "execution_count": 2,
   "metadata": {
    "_cell_guid": "79c7e3d0-c299-4dcb-8224-4455121ee9b0",
    "_uuid": "d629ff2d2480ee46fbb7e2d37f6b5fab8052498a",
    "hidden": true
   },
   "outputs": [],
   "source": [
    "# This will download the data from online so it can take\n",
    "# some time (but relatively small download)\n",
    "\n",
    "df = pd.read_csv('https://github.com/flatiron-school/ds-ab_testing/\\\n",
    "releases/download/v1.2/products_small.csv')"
   ]
  },
  {
   "cell_type": "markdown",
   "metadata": {
    "hidden": true
   },
   "source": [
    "> Let's take a look while we're at it"
   ]
  },
  {
   "cell_type": "code",
   "execution_count": 5,
   "metadata": {
    "hidden": true
   },
   "outputs": [
    {
     "data": {
      "text/html": [
       "<div>\n",
       "<style scoped>\n",
       "    .dataframe tbody tr th:only-of-type {\n",
       "        vertical-align: middle;\n",
       "    }\n",
       "\n",
       "    .dataframe tbody tr th {\n",
       "        vertical-align: top;\n",
       "    }\n",
       "\n",
       "    .dataframe thead th {\n",
       "        text-align: right;\n",
       "    }\n",
       "</style>\n",
       "<table border=\"1\" class=\"dataframe\">\n",
       "  <thead>\n",
       "    <tr style=\"text-align: right;\">\n",
       "      <th></th>\n",
       "      <th>Unnamed: 0</th>\n",
       "      <th>order_id</th>\n",
       "      <th>user_id</th>\n",
       "      <th>page_id</th>\n",
       "      <th>product</th>\n",
       "      <th>site_version</th>\n",
       "      <th>time</th>\n",
       "      <th>title</th>\n",
       "      <th>target</th>\n",
       "    </tr>\n",
       "  </thead>\n",
       "  <tbody>\n",
       "    <tr>\n",
       "      <th>999995</th>\n",
       "      <td>3266597</td>\n",
       "      <td>fcb8441518d103768f9646ae13666a1a</td>\n",
       "      <td>50a29a0389927ad5fa764b79d4586516</td>\n",
       "      <td>e8525db41206d25802878776cae808d3</td>\n",
       "      <td>sports_nutrition</td>\n",
       "      <td>mobile</td>\n",
       "      <td>2019-02-24 12:14:22</td>\n",
       "      <td>banner_show</td>\n",
       "      <td>0</td>\n",
       "    </tr>\n",
       "    <tr>\n",
       "      <th>999996</th>\n",
       "      <td>3992311</td>\n",
       "      <td>9730ee6522e38d91d6ae1965174d7804</td>\n",
       "      <td>b2d591891493b1c1b2ab93fef7d91b73</td>\n",
       "      <td>a434b1c7f39603eb2a1540882d8d4a36</td>\n",
       "      <td>company</td>\n",
       "      <td>desktop</td>\n",
       "      <td>2019-03-04 09:11:42</td>\n",
       "      <td>banner_show</td>\n",
       "      <td>0</td>\n",
       "    </tr>\n",
       "    <tr>\n",
       "      <th>999997</th>\n",
       "      <td>2188188</td>\n",
       "      <td>f843ea262cc467796f935b9763d22ef2</td>\n",
       "      <td>f6814572fff90c5b8c352328c64afa93</td>\n",
       "      <td>e1fc79d05c7befb754465da0cdd852e6</td>\n",
       "      <td>accessories</td>\n",
       "      <td>desktop</td>\n",
       "      <td>2019-02-07 05:10:13</td>\n",
       "      <td>banner_show</td>\n",
       "      <td>0</td>\n",
       "    </tr>\n",
       "    <tr>\n",
       "      <th>999998</th>\n",
       "      <td>1338106</td>\n",
       "      <td>763b1441f0d9dc1fbe97563260337103</td>\n",
       "      <td>73cd85af2fce31b9631bcb755056abbf</td>\n",
       "      <td>7176f5e9847ab8fbbbf49719a1315351</td>\n",
       "      <td>clothes</td>\n",
       "      <td>mobile</td>\n",
       "      <td>2019-02-04 10:46:08</td>\n",
       "      <td>banner_show</td>\n",
       "      <td>0</td>\n",
       "    </tr>\n",
       "    <tr>\n",
       "      <th>999999</th>\n",
       "      <td>7650805</td>\n",
       "      <td>af3a19fcceb477d2992f1771af3a9b34</td>\n",
       "      <td>515cb969971fb5e08ae0316f58e3f434</td>\n",
       "      <td>ef38d906f15db1efde867c68f1336946</td>\n",
       "      <td>sneakers</td>\n",
       "      <td>desktop</td>\n",
       "      <td>2019-05-20 17:58:16</td>\n",
       "      <td>banner_show</td>\n",
       "      <td>0</td>\n",
       "    </tr>\n",
       "  </tbody>\n",
       "</table>\n",
       "</div>"
      ],
      "text/plain": [
       "        Unnamed: 0                          order_id  \\\n",
       "999995     3266597  fcb8441518d103768f9646ae13666a1a   \n",
       "999996     3992311  9730ee6522e38d91d6ae1965174d7804   \n",
       "999997     2188188  f843ea262cc467796f935b9763d22ef2   \n",
       "999998     1338106  763b1441f0d9dc1fbe97563260337103   \n",
       "999999     7650805  af3a19fcceb477d2992f1771af3a9b34   \n",
       "\n",
       "                                 user_id                           page_id  \\\n",
       "999995  50a29a0389927ad5fa764b79d4586516  e8525db41206d25802878776cae808d3   \n",
       "999996  b2d591891493b1c1b2ab93fef7d91b73  a434b1c7f39603eb2a1540882d8d4a36   \n",
       "999997  f6814572fff90c5b8c352328c64afa93  e1fc79d05c7befb754465da0cdd852e6   \n",
       "999998  73cd85af2fce31b9631bcb755056abbf  7176f5e9847ab8fbbbf49719a1315351   \n",
       "999999  515cb969971fb5e08ae0316f58e3f434  ef38d906f15db1efde867c68f1336946   \n",
       "\n",
       "                 product site_version                 time        title  \\\n",
       "999995  sports_nutrition       mobile  2019-02-24 12:14:22  banner_show   \n",
       "999996           company      desktop  2019-03-04 09:11:42  banner_show   \n",
       "999997       accessories      desktop  2019-02-07 05:10:13  banner_show   \n",
       "999998           clothes       mobile  2019-02-04 10:46:08  banner_show   \n",
       "999999          sneakers      desktop  2019-05-20 17:58:16  banner_show   \n",
       "\n",
       "        target  \n",
       "999995       0  \n",
       "999996       0  \n",
       "999997       0  \n",
       "999998       0  \n",
       "999999       0  "
      ]
     },
     "execution_count": 5,
     "metadata": {},
     "output_type": "execute_result"
    }
   ],
   "source": [
    "# Check it out\n",
    "df.tail()"
   ]
  },
  {
   "cell_type": "code",
   "execution_count": 4,
   "metadata": {},
   "outputs": [
    {
     "name": "stdout",
     "output_type": "stream",
     "text": [
      "<class 'pandas.core.frame.DataFrame'>\n",
      "RangeIndex: 1000000 entries, 0 to 999999\n",
      "Data columns (total 9 columns):\n",
      " #   Column        Non-Null Count    Dtype \n",
      "---  ------        --------------    ----- \n",
      " 0   Unnamed: 0    1000000 non-null  int64 \n",
      " 1   order_id      1000000 non-null  object\n",
      " 2   user_id       1000000 non-null  object\n",
      " 3   page_id       1000000 non-null  object\n",
      " 4   product       1000000 non-null  object\n",
      " 5   site_version  1000000 non-null  object\n",
      " 6   time          1000000 non-null  object\n",
      " 7   title         1000000 non-null  object\n",
      " 8   target        1000000 non-null  int64 \n",
      "dtypes: int64(2), object(7)\n",
      "memory usage: 68.7+ MB\n"
     ]
    }
   ],
   "source": [
    "df.info()"
   ]
  },
  {
   "cell_type": "code",
   "execution_count": 6,
   "metadata": {},
   "outputs": [
    {
     "data": {
      "text/html": [
       "<div>\n",
       "<style scoped>\n",
       "    .dataframe tbody tr th:only-of-type {\n",
       "        vertical-align: middle;\n",
       "    }\n",
       "\n",
       "    .dataframe tbody tr th {\n",
       "        vertical-align: top;\n",
       "    }\n",
       "\n",
       "    .dataframe thead th {\n",
       "        text-align: right;\n",
       "    }\n",
       "</style>\n",
       "<table border=\"1\" class=\"dataframe\">\n",
       "  <thead>\n",
       "    <tr style=\"text-align: right;\">\n",
       "      <th></th>\n",
       "      <th>Unnamed: 0</th>\n",
       "      <th>target</th>\n",
       "    </tr>\n",
       "  </thead>\n",
       "  <tbody>\n",
       "    <tr>\n",
       "      <th>count</th>\n",
       "      <td>1.000000e+06</td>\n",
       "      <td>1000000.000000</td>\n",
       "    </tr>\n",
       "    <tr>\n",
       "      <th>mean</th>\n",
       "      <td>4.239850e+06</td>\n",
       "      <td>0.029395</td>\n",
       "    </tr>\n",
       "    <tr>\n",
       "      <th>std</th>\n",
       "      <td>2.443943e+06</td>\n",
       "      <td>0.168911</td>\n",
       "    </tr>\n",
       "    <tr>\n",
       "      <th>min</th>\n",
       "      <td>4.000000e+00</td>\n",
       "      <td>0.000000</td>\n",
       "    </tr>\n",
       "    <tr>\n",
       "      <th>25%</th>\n",
       "      <td>2.125160e+06</td>\n",
       "      <td>0.000000</td>\n",
       "    </tr>\n",
       "    <tr>\n",
       "      <th>50%</th>\n",
       "      <td>4.244678e+06</td>\n",
       "      <td>0.000000</td>\n",
       "    </tr>\n",
       "    <tr>\n",
       "      <th>75%</th>\n",
       "      <td>6.355990e+06</td>\n",
       "      <td>0.000000</td>\n",
       "    </tr>\n",
       "    <tr>\n",
       "      <th>max</th>\n",
       "      <td>8.471211e+06</td>\n",
       "      <td>1.000000</td>\n",
       "    </tr>\n",
       "  </tbody>\n",
       "</table>\n",
       "</div>"
      ],
      "text/plain": [
       "         Unnamed: 0          target\n",
       "count  1.000000e+06  1000000.000000\n",
       "mean   4.239850e+06        0.029395\n",
       "std    2.443943e+06        0.168911\n",
       "min    4.000000e+00        0.000000\n",
       "25%    2.125160e+06        0.000000\n",
       "50%    4.244678e+06        0.000000\n",
       "75%    6.355990e+06        0.000000\n",
       "max    8.471211e+06        1.000000"
      ]
     },
     "execution_count": 6,
     "metadata": {},
     "output_type": "execute_result"
    }
   ],
   "source": [
    "df.describe()"
   ]
  },
  {
   "cell_type": "code",
   "execution_count": 7,
   "metadata": {},
   "outputs": [
    {
     "data": {
      "text/html": [
       "<div>\n",
       "<style scoped>\n",
       "    .dataframe tbody tr th:only-of-type {\n",
       "        vertical-align: middle;\n",
       "    }\n",
       "\n",
       "    .dataframe tbody tr th {\n",
       "        vertical-align: top;\n",
       "    }\n",
       "\n",
       "    .dataframe thead th {\n",
       "        text-align: right;\n",
       "    }\n",
       "</style>\n",
       "<table border=\"1\" class=\"dataframe\">\n",
       "  <thead>\n",
       "    <tr style=\"text-align: right;\">\n",
       "      <th></th>\n",
       "      <th>order_id</th>\n",
       "      <th>user_id</th>\n",
       "      <th>page_id</th>\n",
       "      <th>product</th>\n",
       "      <th>site_version</th>\n",
       "      <th>time</th>\n",
       "      <th>title</th>\n",
       "    </tr>\n",
       "  </thead>\n",
       "  <tbody>\n",
       "    <tr>\n",
       "      <th>count</th>\n",
       "      <td>1000000</td>\n",
       "      <td>1000000</td>\n",
       "      <td>1000000</td>\n",
       "      <td>1000000</td>\n",
       "      <td>1000000</td>\n",
       "      <td>1000000</td>\n",
       "      <td>1000000</td>\n",
       "    </tr>\n",
       "    <tr>\n",
       "      <th>unique</th>\n",
       "      <td>1000000</td>\n",
       "      <td>882589</td>\n",
       "      <td>959023</td>\n",
       "      <td>5</td>\n",
       "      <td>2</td>\n",
       "      <td>952092</td>\n",
       "      <td>3</td>\n",
       "    </tr>\n",
       "    <tr>\n",
       "      <th>top</th>\n",
       "      <td>fd8507fa6b74a1ef35673df10657069a</td>\n",
       "      <td>2a98f631f947487fc710b89d13d5a51a</td>\n",
       "      <td>a3d2de7675556553a5f08e4c88d2c228</td>\n",
       "      <td>clothes</td>\n",
       "      <td>mobile</td>\n",
       "      <td>2019-01-14 18:47:47</td>\n",
       "      <td>banner_show</td>\n",
       "    </tr>\n",
       "    <tr>\n",
       "      <th>freq</th>\n",
       "      <td>1</td>\n",
       "      <td>8</td>\n",
       "      <td>29395</td>\n",
       "      <td>210996</td>\n",
       "      <td>718521</td>\n",
       "      <td>5</td>\n",
       "      <td>872275</td>\n",
       "    </tr>\n",
       "  </tbody>\n",
       "</table>\n",
       "</div>"
      ],
      "text/plain": [
       "                                order_id                           user_id  \\\n",
       "count                            1000000                           1000000   \n",
       "unique                           1000000                            882589   \n",
       "top     fd8507fa6b74a1ef35673df10657069a  2a98f631f947487fc710b89d13d5a51a   \n",
       "freq                                   1                                 8   \n",
       "\n",
       "                                 page_id  product site_version  \\\n",
       "count                            1000000  1000000      1000000   \n",
       "unique                            959023        5            2   \n",
       "top     a3d2de7675556553a5f08e4c88d2c228  clothes       mobile   \n",
       "freq                               29395   210996       718521   \n",
       "\n",
       "                       time        title  \n",
       "count               1000000      1000000  \n",
       "unique               952092            3  \n",
       "top     2019-01-14 18:47:47  banner_show  \n",
       "freq                      5       872275  "
      ]
     },
     "execution_count": 7,
     "metadata": {},
     "output_type": "execute_result"
    }
   ],
   "source": [
    "df.describe(include=['object'])"
   ]
  },
  {
   "cell_type": "code",
   "execution_count": null,
   "metadata": {
    "hidden": true,
    "scrolled": true
   },
   "outputs": [],
   "source": [
    "# All the deets\n"
   ]
  },
  {
   "cell_type": "markdown",
   "metadata": {
    "heading_collapsed": true,
    "hidden": true
   },
   "source": [
    "## Some Exploration to Better Understand our Data"
   ]
  },
  {
   "cell_type": "markdown",
   "metadata": {
    "hidden": true
   },
   "source": [
    "Lets's look at the different banner types:"
   ]
  },
  {
   "cell_type": "code",
   "execution_count": 10,
   "metadata": {
    "hidden": true,
    "scrolled": true
   },
   "outputs": [
    {
     "data": {
      "text/plain": [
       "clothes             210996\n",
       "company             203020\n",
       "sneakers            201298\n",
       "sports_nutrition    193200\n",
       "accessories         191486\n",
       "Name: product, dtype: int64"
      ]
     },
     "execution_count": 10,
     "metadata": {},
     "output_type": "execute_result"
    }
   ],
   "source": [
    "# banner types\n",
    "df['product'].value_counts()"
   ]
  },
  {
   "cell_type": "code",
   "execution_count": 11,
   "metadata": {},
   "outputs": [
    {
     "data": {
      "text/plain": [
       "mobile     718521\n",
       "desktop    281479\n",
       "Name: site_version, dtype: int64"
      ]
     },
     "execution_count": 11,
     "metadata": {},
     "output_type": "execute_result"
    }
   ],
   "source": [
    "# site version\n",
    "df.site_version.value_counts()"
   ]
  },
  {
   "cell_type": "code",
   "execution_count": 12,
   "metadata": {
    "hidden": true
   },
   "outputs": [
    {
     "data": {
      "text/plain": [
       "product           target\n",
       "accessories       0         0.972014\n",
       "                  1         0.027986\n",
       "clothes           0         0.937079\n",
       "                  1         0.062921\n",
       "company           0         1.000000\n",
       "sneakers          0         0.960640\n",
       "                  1         0.039360\n",
       "sports_nutrition  0         0.985316\n",
       "                  1         0.014684\n",
       "Name: target, dtype: float64"
      ]
     },
     "execution_count": 12,
     "metadata": {},
     "output_type": "execute_result"
    }
   ],
   "source": [
    "# products and targets\n",
    "df.groupby('product')['target'].value_counts(normalize=True)"
   ]
  },
  {
   "cell_type": "markdown",
   "metadata": {
    "hidden": true
   },
   "source": [
    "Let's look at the range of time-stamps on these data:"
   ]
  },
  {
   "cell_type": "code",
   "execution_count": 13,
   "metadata": {
    "hidden": true
   },
   "outputs": [
    {
     "data": {
      "text/plain": [
       "'2019-01-01 00:00:25'"
      ]
     },
     "execution_count": 13,
     "metadata": {},
     "output_type": "execute_result"
    }
   ],
   "source": [
    "# Date range\n",
    "df['time'].min()"
   ]
  },
  {
   "cell_type": "code",
   "execution_count": 15,
   "metadata": {},
   "outputs": [
    {
     "data": {
      "text/plain": [
       "'2019-05-31 23:59:21'"
      ]
     },
     "execution_count": 15,
     "metadata": {},
     "output_type": "execute_result"
    }
   ],
   "source": [
    "df['time'].max()"
   ]
  },
  {
   "cell_type": "markdown",
   "metadata": {
    "hidden": true
   },
   "source": [
    "Let's check the counts of the different site_version values:"
   ]
  },
  {
   "cell_type": "code",
   "execution_count": null,
   "metadata": {
    "hidden": true,
    "scrolled": true
   },
   "outputs": [],
   "source": [
    "# Site types\n",
    "df.site_version.value_counts()"
   ]
  },
  {
   "cell_type": "code",
   "execution_count": 16,
   "metadata": {
    "hidden": true
   },
   "outputs": [
    {
     "data": {
      "text/plain": [
       "banner_show     872275\n",
       "banner_click     98330\n",
       "order            29395\n",
       "Name: title, dtype: int64"
      ]
     },
     "execution_count": 16,
     "metadata": {},
     "output_type": "execute_result"
    }
   ],
   "source": [
    "# action title\n",
    "df['title'].value_counts()"
   ]
  },
  {
   "cell_type": "code",
   "execution_count": 17,
   "metadata": {
    "hidden": true
   },
   "outputs": [
    {
     "data": {
      "text/plain": [
       "0    970605\n",
       "1     29395\n",
       "Name: target, dtype: int64"
      ]
     },
     "execution_count": 17,
     "metadata": {},
     "output_type": "execute_result"
    }
   ],
   "source": [
    "# double check\n",
    "df['target'].value_counts()"
   ]
  },
  {
   "cell_type": "code",
   "execution_count": 18,
   "metadata": {},
   "outputs": [
    {
     "data": {
      "text/plain": [
       "True"
      ]
     },
     "execution_count": 18,
     "metadata": {},
     "output_type": "execute_result"
    }
   ],
   "source": [
    "# triple check\n",
    "sum(df.target) == len(df['title'].loc[ df['title'] == 'order'])"
   ]
  },
  {
   "cell_type": "code",
   "execution_count": 19,
   "metadata": {},
   "outputs": [
    {
     "data": {
      "text/plain": [
       "(29395, 9)"
      ]
     },
     "execution_count": 19,
     "metadata": {},
     "output_type": "execute_result"
    }
   ],
   "source": [
    "# quadruple check\n",
    "order_filter = df['title'] == 'order'\n",
    "\n",
    "target_filer = df['target'] == 1\n",
    "\n",
    "df.loc[order_filter & target_filer].shape"
   ]
  },
  {
   "cell_type": "code",
   "execution_count": null,
   "metadata": {},
   "outputs": [],
   "source": [
    "# quintuple check\n",
    "df['target2'] = df['title'].apply(labda x: 1 if x == 'order' else 0)"
   ]
  },
  {
   "cell_type": "markdown",
   "metadata": {
    "heading_collapsed": true,
    "hidden": true
   },
   "source": [
    "## Experimental Setup"
   ]
  },
  {
   "cell_type": "markdown",
   "metadata": {
    "hidden": true
   },
   "source": [
    "We need to filter by site_version, time, and product:"
   ]
  },
  {
   "cell_type": "code",
   "execution_count": 20,
   "metadata": {},
   "outputs": [
    {
     "data": {
      "text/plain": [
       "False"
      ]
     },
     "execution_count": 20,
     "metadata": {},
     "output_type": "execute_result"
    }
   ],
   "source": [
    "'2019-05-01' < '2019-05-01'"
   ]
  },
  {
   "cell_type": "code",
   "execution_count": 25,
   "metadata": {
    "hidden": true
   },
   "outputs": [
    {
     "data": {
      "text/html": [
       "<div>\n",
       "<style scoped>\n",
       "    .dataframe tbody tr th:only-of-type {\n",
       "        vertical-align: middle;\n",
       "    }\n",
       "\n",
       "    .dataframe tbody tr th {\n",
       "        vertical-align: top;\n",
       "    }\n",
       "\n",
       "    .dataframe thead th {\n",
       "        text-align: right;\n",
       "    }\n",
       "</style>\n",
       "<table border=\"1\" class=\"dataframe\">\n",
       "  <thead>\n",
       "    <tr style=\"text-align: right;\">\n",
       "      <th></th>\n",
       "      <th>Unnamed: 0</th>\n",
       "      <th>order_id</th>\n",
       "      <th>user_id</th>\n",
       "      <th>page_id</th>\n",
       "      <th>product</th>\n",
       "      <th>site_version</th>\n",
       "      <th>time</th>\n",
       "      <th>title</th>\n",
       "      <th>target</th>\n",
       "    </tr>\n",
       "  </thead>\n",
       "  <tbody>\n",
       "    <tr>\n",
       "      <th>999904</th>\n",
       "      <td>5738290</td>\n",
       "      <td>ecfe9da2dbea255f05b2f526a4c663a7</td>\n",
       "      <td>cd7598ba5798ad6bd3f5a667ae4c217a</td>\n",
       "      <td>644ad50dd900d6735d8ceb15b71d50f8</td>\n",
       "      <td>accessories</td>\n",
       "      <td>desktop</td>\n",
       "      <td>2019-05-01 23:01:05</td>\n",
       "      <td>banner_show</td>\n",
       "      <td>0</td>\n",
       "    </tr>\n",
       "    <tr>\n",
       "      <th>999908</th>\n",
       "      <td>7885931</td>\n",
       "      <td>8c28b45ff7fbb5d5df0b7670183689db</td>\n",
       "      <td>2f28106a4db2babcfde1c4095c805632</td>\n",
       "      <td>a3d2de7675556553a5f08e4c88d2c228</td>\n",
       "      <td>sneakers</td>\n",
       "      <td>desktop</td>\n",
       "      <td>2019-05-26 11:19:09</td>\n",
       "      <td>order</td>\n",
       "      <td>1</td>\n",
       "    </tr>\n",
       "    <tr>\n",
       "      <th>999915</th>\n",
       "      <td>8099155</td>\n",
       "      <td>c613db2f19c7285f101196062c178490</td>\n",
       "      <td>97473368941b89c4716c4f389e9b8bd7</td>\n",
       "      <td>a3d2de7675556553a5f08e4c88d2c228</td>\n",
       "      <td>sneakers</td>\n",
       "      <td>desktop</td>\n",
       "      <td>2019-05-11 09:04:46</td>\n",
       "      <td>order</td>\n",
       "      <td>1</td>\n",
       "    </tr>\n",
       "    <tr>\n",
       "      <th>999930</th>\n",
       "      <td>6690689</td>\n",
       "      <td>6f7f32ecf6790e4eb06384b479f43162</td>\n",
       "      <td>73f403b4843c70c41c0db294ee479582</td>\n",
       "      <td>13f395d7c86ef276f7ce52a557fd3491</td>\n",
       "      <td>accessories</td>\n",
       "      <td>desktop</td>\n",
       "      <td>2019-05-09 09:17:24</td>\n",
       "      <td>banner_show</td>\n",
       "      <td>0</td>\n",
       "    </tr>\n",
       "    <tr>\n",
       "      <th>999999</th>\n",
       "      <td>7650805</td>\n",
       "      <td>af3a19fcceb477d2992f1771af3a9b34</td>\n",
       "      <td>515cb969971fb5e08ae0316f58e3f434</td>\n",
       "      <td>ef38d906f15db1efde867c68f1336946</td>\n",
       "      <td>sneakers</td>\n",
       "      <td>desktop</td>\n",
       "      <td>2019-05-20 17:58:16</td>\n",
       "      <td>banner_show</td>\n",
       "      <td>0</td>\n",
       "    </tr>\n",
       "  </tbody>\n",
       "</table>\n",
       "</div>"
      ],
      "text/plain": [
       "        Unnamed: 0                          order_id  \\\n",
       "999904     5738290  ecfe9da2dbea255f05b2f526a4c663a7   \n",
       "999908     7885931  8c28b45ff7fbb5d5df0b7670183689db   \n",
       "999915     8099155  c613db2f19c7285f101196062c178490   \n",
       "999930     6690689  6f7f32ecf6790e4eb06384b479f43162   \n",
       "999999     7650805  af3a19fcceb477d2992f1771af3a9b34   \n",
       "\n",
       "                                 user_id                           page_id  \\\n",
       "999904  cd7598ba5798ad6bd3f5a667ae4c217a  644ad50dd900d6735d8ceb15b71d50f8   \n",
       "999908  2f28106a4db2babcfde1c4095c805632  a3d2de7675556553a5f08e4c88d2c228   \n",
       "999915  97473368941b89c4716c4f389e9b8bd7  a3d2de7675556553a5f08e4c88d2c228   \n",
       "999930  73f403b4843c70c41c0db294ee479582  13f395d7c86ef276f7ce52a557fd3491   \n",
       "999999  515cb969971fb5e08ae0316f58e3f434  ef38d906f15db1efde867c68f1336946   \n",
       "\n",
       "            product site_version                 time        title  target  \n",
       "999904  accessories      desktop  2019-05-01 23:01:05  banner_show       0  \n",
       "999908     sneakers      desktop  2019-05-26 11:19:09        order       1  \n",
       "999915     sneakers      desktop  2019-05-11 09:04:46        order       1  \n",
       "999930  accessories      desktop  2019-05-09 09:17:24  banner_show       0  \n",
       "999999     sneakers      desktop  2019-05-20 17:58:16  banner_show       0  "
      ]
     },
     "execution_count": 25,
     "metadata": {},
     "output_type": "execute_result"
    }
   ],
   "source": [
    "time_filter = df['time'] > '2019-05-01'\n",
    "site_filter = df['site_version'] == 'desktop'\n",
    "product_filter = df['product'].isin(['sneakers', 'accessories'])\n",
    "\n",
    "df2 = df.loc[time_filter & site_filter & product_filter].copy()\n",
    "df2.tail()"
   ]
  },
  {
   "cell_type": "code",
   "execution_count": null,
   "metadata": {
    "hidden": true,
    "scrolled": true
   },
   "outputs": [],
   "source": [
    "# sniff test!"
   ]
  },
  {
   "cell_type": "markdown",
   "metadata": {
    "heading_collapsed": true,
    "hidden": true
   },
   "source": [
    "### What Test Would Make Sense?"
   ]
  },
  {
   "cell_type": "markdown",
   "metadata": {
    "hidden": true
   },
   "source": [
    "Since we're comparing the frequency of conversions of customers who saw the \"sneakers\" banner against those who saw the \"accessories\" banner, we can use a $\\chi^2$ test.\n",
    "\n",
    "Note there are other hypothesis tests we can use but this should be fine since it should fit our criteria."
   ]
  },
  {
   "cell_type": "markdown",
   "metadata": {
    "heading_collapsed": true,
    "hidden": true
   },
   "source": [
    "### The Hypotheses"
   ]
  },
  {
   "cell_type": "markdown",
   "metadata": {
    "hidden": true
   },
   "source": [
    "$H_0$: conversion frequencies for sneakers = conversion frequencies for accessories\n",
    "\n",
    "$H_1$: conversion frequencies for sneakers != conversion frequencies for accessories"
   ]
  },
  {
   "cell_type": "markdown",
   "metadata": {
    "heading_collapsed": true,
    "hidden": true
   },
   "source": [
    "### Setting a Threshold"
   ]
  },
  {
   "cell_type": "markdown",
   "metadata": {
    "hidden": true
   },
   "source": [
    "We'll set a false-positive rate of $\\alpha = 0.05$."
   ]
  },
  {
   "cell_type": "markdown",
   "metadata": {
    "heading_collapsed": true,
    "hidden": true
   },
   "source": [
    "## $\\chi^2$ Test"
   ]
  },
  {
   "cell_type": "markdown",
   "metadata": {
    "heading_collapsed": true,
    "hidden": true
   },
   "source": [
    "### Setup the Data"
   ]
  },
  {
   "cell_type": "markdown",
   "metadata": {
    "hidden": true
   },
   "source": [
    "We need our contingency table: the numbers of people who did or did not submit orders, both for the accessories banner and the sneakers banner. "
   ]
  },
  {
   "cell_type": "code",
   "execution_count": 36,
   "metadata": {
    "hidden": true
   },
   "outputs": [],
   "source": [
    "# Create the two product types\n",
    "df_A = df2.loc[ df2['product'] == 'accessories']\n",
    "df_S = df2.loc[ df2['product'] == 'sneakers']\n",
    "\n",
    "accessories_total = len(df_A)\n",
    "sneakers_total = len(df_S)"
   ]
  },
  {
   "cell_type": "code",
   "execution_count": 37,
   "metadata": {
    "hidden": true
   },
   "outputs": [
    {
     "data": {
      "text/plain": [
       "(496, 799)"
      ]
     },
     "execution_count": 37,
     "metadata": {},
     "output_type": "execute_result"
    }
   ],
   "source": [
    "# Get number of orders\n",
    "accessories_order = sum(df_A['target'])\n",
    "sneakers_order = sum(df_S['target'])\n",
    "accessories_order, sneakers_order"
   ]
  },
  {
   "cell_type": "markdown",
   "metadata": {
    "hidden": true
   },
   "source": [
    "To get the numbers of people who didn't submit orders, we get the total number of people who were shown banners and then subtract the numbers of people who did make orders."
   ]
  },
  {
   "cell_type": "code",
   "execution_count": 38,
   "metadata": {
    "hidden": true
   },
   "outputs": [
    {
     "data": {
      "text/plain": [
       "(12703, 13269)"
      ]
     },
     "execution_count": 38,
     "metadata": {},
     "output_type": "execute_result"
    }
   ],
   "source": [
    "# get conversion rates\n",
    "accessories_no_order = len(df_A['target'] == 0)\n",
    "sneakers_no_order = len(df_S['target'] == 0)\n",
    "accessories_no_order, sneakers_no_order"
   ]
  },
  {
   "cell_type": "code",
   "execution_count": 40,
   "metadata": {
    "hidden": true
   },
   "outputs": [
    {
     "data": {
      "text/plain": [
       "array([[  496, 12703],\n",
       "       [  799, 13269]])"
      ]
     },
     "execution_count": 40,
     "metadata": {},
     "output_type": "execute_result"
    }
   ],
   "source": [
    "# Create table\n",
    "contingency_table = np.array([\n",
    "    (accessories_order, accessories_no_order),\n",
    "    (sneakers_order, sneakers_no_order)\n",
    "])\n",
    "contingency_table"
   ]
  },
  {
   "cell_type": "markdown",
   "metadata": {
    "heading_collapsed": true,
    "hidden": true
   },
   "source": [
    "### Calculation\n"
   ]
  },
  {
   "cell_type": "code",
   "execution_count": 41,
   "metadata": {
    "hidden": true,
    "scrolled": true
   },
   "outputs": [
    {
     "data": {
      "text/plain": [
       "(55.16707172214907,\n",
       " 1.107079316095707e-13,\n",
       " 1,\n",
       " array([[  626.86415814, 12572.13584186],\n",
       "        [  668.13584186, 13399.86415814]]))"
      ]
     },
     "execution_count": 41,
     "metadata": {},
     "output_type": "execute_result"
    }
   ],
   "source": [
    "# Chi^2!\n",
    "\n",
    "stats.chi2_contingency(contingency_table)"
   ]
  },
  {
   "cell_type": "markdown",
   "metadata": {
    "hidden": true
   },
   "source": [
    "This extremely low $p$-value suggests that these two groups are genuinely performing differently. In particular, the desktop customers who saw the sneakers banner in May 2019 bought at a higher rate than the desktop customers who saw the accessories banner in May 2019."
   ]
  },
  {
   "cell_type": "markdown",
   "metadata": {
    "heading_collapsed": true,
    "hidden": true
   },
   "source": [
    "## Interpretation"
   ]
  },
  {
   "cell_type": "code",
   "execution_count": 42,
   "metadata": {
    "hidden": true
   },
   "outputs": [
    {
     "data": {
      "text/plain": [
       "array([[  496, 12703],\n",
       "       [  799, 13269]])"
      ]
     },
     "execution_count": 42,
     "metadata": {},
     "output_type": "execute_result"
    }
   ],
   "source": [
    "contingency_table"
   ]
  },
  {
   "cell_type": "code",
   "execution_count": 45,
   "metadata": {},
   "outputs": [
    {
     "data": {
      "text/plain": [
       "array([496, 799])"
      ]
     },
     "execution_count": 45,
     "metadata": {},
     "output_type": "execute_result"
    }
   ],
   "source": [
    "contingency_table[:, 0]"
   ]
  },
  {
   "cell_type": "code",
   "execution_count": 46,
   "metadata": {},
   "outputs": [
    {
     "data": {
      "text/plain": [
       "array([13199, 14068])"
      ]
     },
     "execution_count": 46,
     "metadata": {},
     "output_type": "execute_result"
    }
   ],
   "source": [
    "contingency_table.sum(axis=1)"
   ]
  },
  {
   "cell_type": "code",
   "execution_count": 43,
   "metadata": {
    "hidden": true
   },
   "outputs": [],
   "source": [
    "# Find the difference in conversion rate\n",
    "accessory_CR, sneaker_CR = contingency_table[:, 0] / contingency_table.sum(axis=1)"
   ]
  },
  {
   "cell_type": "code",
   "execution_count": 44,
   "metadata": {
    "hidden": true
   },
   "outputs": [
    {
     "name": "stdout",
     "output_type": "stream",
     "text": [
      "Conversion Rate for accessory banner:\n",
      "\t3.758%\n",
      "Conversion Rate for sneaker banner:\n",
      "\t5.680%\n",
      "\n",
      "Absolute difference of CR: 1.922%\n"
     ]
    }
   ],
   "source": [
    "print(f'Conversion Rate for accessory banner:\\n\\t{100*accessory_CR:.3f}%')\n",
    "print(f'Conversion Rate for sneaker banner:\\n\\t{100*sneaker_CR:.3f}%')\n",
    "print('')\n",
    "print(f'Absolute difference of CR: {100*(sneaker_CR-accessory_CR):.3f}%')"
   ]
  },
  {
   "cell_type": "markdown",
   "metadata": {
    "hidden": true
   },
   "source": [
    "\n",
    "So we can say:\n",
    "- There was a statistically significant difference at the $\\alpha$-level (confidence level)\n",
    "- The difference was about $2.1\\%$ in favor of the sneaker banner!"
   ]
  },
  {
   "cell_type": "markdown",
   "metadata": {
    "heading_collapsed": true
   },
   "source": [
    "# Exercise"
   ]
  },
  {
   "cell_type": "markdown",
   "metadata": {
    "hidden": true
   },
   "source": [
    "> The company is impressed with what you found and is now wondering if there is a difference in their other banner ads!\n",
    "\n",
    "With your group, look at the same month (May 2019) but compare different platforms ('mobile' vs 'desktop') and or different banner types ('accessories', 'sneakers', 'clothes', 'sports_nutrition'). Just don't repeat the same test we did above 😉"
   ]
  },
  {
   "cell_type": "markdown",
   "metadata": {
    "hidden": true
   },
   "source": [
    "Make sure you record what considerations you have for the experiment, what hypothesis test you performed ($H_0$ and $H_1$ too), and your overall conclusion/interpretation for the _business stakeholders_. Is there a follow-up you'd suggest? "
   ]
  },
  {
   "cell_type": "code",
   "execution_count": 47,
   "metadata": {
    "hidden": true
   },
   "outputs": [
    {
     "data": {
      "text/html": [
       "<div>\n",
       "<style scoped>\n",
       "    .dataframe tbody tr th:only-of-type {\n",
       "        vertical-align: middle;\n",
       "    }\n",
       "\n",
       "    .dataframe tbody tr th {\n",
       "        vertical-align: top;\n",
       "    }\n",
       "\n",
       "    .dataframe thead th {\n",
       "        text-align: right;\n",
       "    }\n",
       "</style>\n",
       "<table border=\"1\" class=\"dataframe\">\n",
       "  <thead>\n",
       "    <tr style=\"text-align: right;\">\n",
       "      <th></th>\n",
       "      <th>Unnamed: 0</th>\n",
       "      <th>order_id</th>\n",
       "      <th>user_id</th>\n",
       "      <th>page_id</th>\n",
       "      <th>product</th>\n",
       "      <th>site_version</th>\n",
       "      <th>time</th>\n",
       "      <th>title</th>\n",
       "      <th>target</th>\n",
       "    </tr>\n",
       "  </thead>\n",
       "  <tbody>\n",
       "    <tr>\n",
       "      <th>999928</th>\n",
       "      <td>2822488</td>\n",
       "      <td>e8133e39856b5c8ec7a6e4388e7701ed</td>\n",
       "      <td>ccf84b32dc627026ef6a01b285fece71</td>\n",
       "      <td>153c06e37bc12e62965a83e3c605f8d2</td>\n",
       "      <td>accessories</td>\n",
       "      <td>mobile</td>\n",
       "      <td>2019-05-23 08:52:37</td>\n",
       "      <td>banner_show</td>\n",
       "      <td>0</td>\n",
       "    </tr>\n",
       "    <tr>\n",
       "      <th>999929</th>\n",
       "      <td>8031203</td>\n",
       "      <td>996a9067bb945d7626ec5d29cbcd85f2</td>\n",
       "      <td>96feb346c04fc0e29f068d9a74a4d010</td>\n",
       "      <td>5904b24e5073b1b176fd35bc73008f4f</td>\n",
       "      <td>sneakers</td>\n",
       "      <td>mobile</td>\n",
       "      <td>2019-05-06 07:46:29</td>\n",
       "      <td>banner_show</td>\n",
       "      <td>0</td>\n",
       "    </tr>\n",
       "    <tr>\n",
       "      <th>999931</th>\n",
       "      <td>1290820</td>\n",
       "      <td>b03fea96c54dbc230a4f46816cd832f3</td>\n",
       "      <td>66c85dc7321448553b60e09b3ee81107</td>\n",
       "      <td>69eb14d56fca028c6b4e49542430c2b0</td>\n",
       "      <td>sneakers</td>\n",
       "      <td>mobile</td>\n",
       "      <td>2019-05-16 17:51:59</td>\n",
       "      <td>banner_show</td>\n",
       "      <td>0</td>\n",
       "    </tr>\n",
       "    <tr>\n",
       "      <th>999941</th>\n",
       "      <td>7844198</td>\n",
       "      <td>b1b9c704e45b53338ccebf75d3584a33</td>\n",
       "      <td>a51472c7cafe79b9f0dcdc3c14252407</td>\n",
       "      <td>ed3c1c305201a4ed1d69e950435ede73</td>\n",
       "      <td>accessories</td>\n",
       "      <td>mobile</td>\n",
       "      <td>2019-05-24 10:06:09</td>\n",
       "      <td>banner_show</td>\n",
       "      <td>0</td>\n",
       "    </tr>\n",
       "    <tr>\n",
       "      <th>999954</th>\n",
       "      <td>2385332</td>\n",
       "      <td>790b3a86be8def144804afdf71965595</td>\n",
       "      <td>1e3f776145210629e5645e621e032b48</td>\n",
       "      <td>45d39d405e9c25291a3abb02c788b99d</td>\n",
       "      <td>accessories</td>\n",
       "      <td>mobile</td>\n",
       "      <td>2019-05-21 23:34:26</td>\n",
       "      <td>banner_show</td>\n",
       "      <td>0</td>\n",
       "    </tr>\n",
       "  </tbody>\n",
       "</table>\n",
       "</div>"
      ],
      "text/plain": [
       "        Unnamed: 0                          order_id  \\\n",
       "999928     2822488  e8133e39856b5c8ec7a6e4388e7701ed   \n",
       "999929     8031203  996a9067bb945d7626ec5d29cbcd85f2   \n",
       "999931     1290820  b03fea96c54dbc230a4f46816cd832f3   \n",
       "999941     7844198  b1b9c704e45b53338ccebf75d3584a33   \n",
       "999954     2385332  790b3a86be8def144804afdf71965595   \n",
       "\n",
       "                                 user_id                           page_id  \\\n",
       "999928  ccf84b32dc627026ef6a01b285fece71  153c06e37bc12e62965a83e3c605f8d2   \n",
       "999929  96feb346c04fc0e29f068d9a74a4d010  5904b24e5073b1b176fd35bc73008f4f   \n",
       "999931  66c85dc7321448553b60e09b3ee81107  69eb14d56fca028c6b4e49542430c2b0   \n",
       "999941  a51472c7cafe79b9f0dcdc3c14252407  ed3c1c305201a4ed1d69e950435ede73   \n",
       "999954  1e3f776145210629e5645e621e032b48  45d39d405e9c25291a3abb02c788b99d   \n",
       "\n",
       "            product site_version                 time        title  target  \n",
       "999928  accessories       mobile  2019-05-23 08:52:37  banner_show       0  \n",
       "999929     sneakers       mobile  2019-05-06 07:46:29  banner_show       0  \n",
       "999931     sneakers       mobile  2019-05-16 17:51:59  banner_show       0  \n",
       "999941  accessories       mobile  2019-05-24 10:06:09  banner_show       0  \n",
       "999954  accessories       mobile  2019-05-21 23:34:26  banner_show       0  "
      ]
     },
     "execution_count": 47,
     "metadata": {},
     "output_type": "execute_result"
    }
   ],
   "source": [
    "\n",
    "time_filter = df['time'] > '2019-05-01'\n",
    "site_filter = df['site_version'] == 'mobile'\n",
    "product_filter = df['product'].isin(['sneakers', 'accessories'])\n",
    "\n",
    "df3 = df.loc[time_filter & site_filter & product_filter].copy()\n",
    "df3.tail()\n"
   ]
  },
  {
   "cell_type": "code",
   "execution_count": 48,
   "metadata": {},
   "outputs": [],
   "source": [
    "df3_A = df3.loc[ df3['product'] == 'accessories']\n",
    "df3_S = df3.loc[ df3['product'] == 'sneakers']\n",
    "\n",
    "accessories_total = len(df3_A)\n",
    "sneakers_total = len(df3_S)"
   ]
  },
  {
   "cell_type": "code",
   "execution_count": 49,
   "metadata": {},
   "outputs": [],
   "source": [
    "accessories_order = sum(df3_A['target'])\n",
    "sneakers_order = sum(df3_S['target'])\n",
    "\n",
    "\n",
    "accessories_no_order = len(df3_A['target'] == 0)\n",
    "sneakers_no_order = len(df3_S['target'] == 0)\n"
   ]
  },
  {
   "cell_type": "code",
   "execution_count": 50,
   "metadata": {},
   "outputs": [
    {
     "data": {
      "text/plain": [
       "array([[  615, 35462],\n",
       "       [  934, 37925]])"
      ]
     },
     "execution_count": 50,
     "metadata": {},
     "output_type": "execute_result"
    }
   ],
   "source": [
    "contingency_table3 = np.array([\n",
    "    (accessories_order, accessories_no_order),\n",
    "    (sneakers_order, sneakers_no_order)\n",
    "])\n",
    "contingency_table3"
   ]
  },
  {
   "cell_type": "code",
   "execution_count": 51,
   "metadata": {},
   "outputs": [
    {
     "data": {
      "text/plain": [
       "(44.7932153056255,\n",
       " 2.189801522979379e-11,\n",
       " 1,\n",
       " array([[  745.74667716, 35331.25332284],\n",
       "        [  803.25332284, 38055.74667716]]))"
      ]
     },
     "execution_count": 51,
     "metadata": {},
     "output_type": "execute_result"
    }
   ],
   "source": [
    "stats.chi2_contingency(contingency_table3)"
   ]
  },
  {
   "cell_type": "code",
   "execution_count": 52,
   "metadata": {},
   "outputs": [
    {
     "name": "stdout",
     "output_type": "stream",
     "text": [
      "Conversion Rate for accessory banner:\n",
      "\t1.705%\n",
      "Conversion Rate for sneaker banner:\n",
      "\t2.404%\n",
      "\n",
      "Absolute difference of CR: 0.699%\n"
     ]
    }
   ],
   "source": [
    "accessory_m_CR, sneaker_m_CR = contingency_table3[:, 0] / contingency_table3.sum(axis=1)\n",
    "\n",
    "print(f'Conversion Rate for accessory banner:\\n\\t{100*accessory_m_CR:.3f}%')\n",
    "print(f'Conversion Rate for sneaker banner:\\n\\t{100*sneaker_m_CR:.3f}%')\n",
    "print('')\n",
    "print(f'Absolute difference of CR: {100*(sneaker_m_CR-accessory_m_CR):.3f}%')"
   ]
  },
  {
   "cell_type": "code",
   "execution_count": 53,
   "metadata": {},
   "outputs": [
    {
     "data": {
      "text/html": [
       "<div>\n",
       "<style scoped>\n",
       "    .dataframe tbody tr th:only-of-type {\n",
       "        vertical-align: middle;\n",
       "    }\n",
       "\n",
       "    .dataframe tbody tr th {\n",
       "        vertical-align: top;\n",
       "    }\n",
       "\n",
       "    .dataframe thead th {\n",
       "        text-align: right;\n",
       "    }\n",
       "</style>\n",
       "<table border=\"1\" class=\"dataframe\">\n",
       "  <thead>\n",
       "    <tr style=\"text-align: right;\">\n",
       "      <th></th>\n",
       "      <th>Unnamed: 0</th>\n",
       "      <th>order_id</th>\n",
       "      <th>user_id</th>\n",
       "      <th>page_id</th>\n",
       "      <th>product</th>\n",
       "      <th>site_version</th>\n",
       "      <th>time</th>\n",
       "      <th>title</th>\n",
       "      <th>target</th>\n",
       "    </tr>\n",
       "  </thead>\n",
       "  <tbody>\n",
       "    <tr>\n",
       "      <th>999980</th>\n",
       "      <td>8159492</td>\n",
       "      <td>f49debd6ec37e7dc963cc8f9263a040f</td>\n",
       "      <td>10167ef9d0127d225909c4ece2cdfc28</td>\n",
       "      <td>6b668b223896c8683f14d20d332b607e</td>\n",
       "      <td>sports_nutrition</td>\n",
       "      <td>mobile</td>\n",
       "      <td>2019-05-21 16:50:47</td>\n",
       "      <td>banner_show</td>\n",
       "      <td>0</td>\n",
       "    </tr>\n",
       "    <tr>\n",
       "      <th>999985</th>\n",
       "      <td>8197096</td>\n",
       "      <td>9b90203a458a19bec09cd4fb6f9dc69f</td>\n",
       "      <td>bff8aee79342f86d1346d94651e84a64</td>\n",
       "      <td>876a5dd1c118fa00690f852d9ed6ad6d</td>\n",
       "      <td>company</td>\n",
       "      <td>desktop</td>\n",
       "      <td>2019-05-22 06:30:48</td>\n",
       "      <td>banner_show</td>\n",
       "      <td>0</td>\n",
       "    </tr>\n",
       "    <tr>\n",
       "      <th>999992</th>\n",
       "      <td>7735711</td>\n",
       "      <td>c40020044e86083b53c48ec23b1eda2a</td>\n",
       "      <td>fbb6f9203a0845ab8a824855582059c3</td>\n",
       "      <td>eeae53a3fe2725c7e1d57abed2b116cb</td>\n",
       "      <td>clothes</td>\n",
       "      <td>desktop</td>\n",
       "      <td>2019-05-02 16:00:12</td>\n",
       "      <td>banner_show</td>\n",
       "      <td>0</td>\n",
       "    </tr>\n",
       "    <tr>\n",
       "      <th>999994</th>\n",
       "      <td>6401235</td>\n",
       "      <td>f49e74785bb20dbc3baa646edf13bfc5</td>\n",
       "      <td>e43bfac12750d537c89e9332c376279a</td>\n",
       "      <td>f67fabd6264199d7f0bd7e24e8c0dabc</td>\n",
       "      <td>sports_nutrition</td>\n",
       "      <td>mobile</td>\n",
       "      <td>2019-05-16 17:15:10</td>\n",
       "      <td>banner_show</td>\n",
       "      <td>0</td>\n",
       "    </tr>\n",
       "    <tr>\n",
       "      <th>999999</th>\n",
       "      <td>7650805</td>\n",
       "      <td>af3a19fcceb477d2992f1771af3a9b34</td>\n",
       "      <td>515cb969971fb5e08ae0316f58e3f434</td>\n",
       "      <td>ef38d906f15db1efde867c68f1336946</td>\n",
       "      <td>sneakers</td>\n",
       "      <td>desktop</td>\n",
       "      <td>2019-05-20 17:58:16</td>\n",
       "      <td>banner_show</td>\n",
       "      <td>0</td>\n",
       "    </tr>\n",
       "  </tbody>\n",
       "</table>\n",
       "</div>"
      ],
      "text/plain": [
       "        Unnamed: 0                          order_id  \\\n",
       "999980     8159492  f49debd6ec37e7dc963cc8f9263a040f   \n",
       "999985     8197096  9b90203a458a19bec09cd4fb6f9dc69f   \n",
       "999992     7735711  c40020044e86083b53c48ec23b1eda2a   \n",
       "999994     6401235  f49e74785bb20dbc3baa646edf13bfc5   \n",
       "999999     7650805  af3a19fcceb477d2992f1771af3a9b34   \n",
       "\n",
       "                                 user_id                           page_id  \\\n",
       "999980  10167ef9d0127d225909c4ece2cdfc28  6b668b223896c8683f14d20d332b607e   \n",
       "999985  bff8aee79342f86d1346d94651e84a64  876a5dd1c118fa00690f852d9ed6ad6d   \n",
       "999992  fbb6f9203a0845ab8a824855582059c3  eeae53a3fe2725c7e1d57abed2b116cb   \n",
       "999994  e43bfac12750d537c89e9332c376279a  f67fabd6264199d7f0bd7e24e8c0dabc   \n",
       "999999  515cb969971fb5e08ae0316f58e3f434  ef38d906f15db1efde867c68f1336946   \n",
       "\n",
       "                 product site_version                 time        title  \\\n",
       "999980  sports_nutrition       mobile  2019-05-21 16:50:47  banner_show   \n",
       "999985           company      desktop  2019-05-22 06:30:48  banner_show   \n",
       "999992           clothes      desktop  2019-05-02 16:00:12  banner_show   \n",
       "999994  sports_nutrition       mobile  2019-05-16 17:15:10  banner_show   \n",
       "999999          sneakers      desktop  2019-05-20 17:58:16  banner_show   \n",
       "\n",
       "        target  \n",
       "999980       0  \n",
       "999985       0  \n",
       "999992       0  \n",
       "999994       0  \n",
       "999999       0  "
      ]
     },
     "execution_count": 53,
     "metadata": {},
     "output_type": "execute_result"
    }
   ],
   "source": [
    "time_filter = df['time'] > '2019-05-01'\n",
    "site_filter = df['site_version'] == 'mobile'\n",
    "product_filter = df['product'].isin(['sneakers', 'accessories'])\n",
    "\n",
    "df4 = df.loc[time_filter].copy()\n",
    "df4.tail()"
   ]
  },
  {
   "cell_type": "code",
   "execution_count": null,
   "metadata": {},
   "outputs": [],
   "source": [
    "clothes             \n",
    "company             \n",
    "sneakers            \n",
    "sports_nutrition   \n",
    "accessories"
   ]
  },
  {
   "cell_type": "code",
   "execution_count": 54,
   "metadata": {},
   "outputs": [],
   "source": [
    "df4_CL = df4.loc[ df4['product'] == 'clothes']\n",
    "df4_CO = df4.loc[ df4['product'] == 'company']\n",
    "df4_SK = df4.loc[ df4['product'] == 'sneakers']\n",
    "df4_SN = df4.loc[ df4['product'] == 'sports_nutrition']\n",
    "df4_AC = df4.loc[ df4['product'] == 'accessories']"
   ]
  },
  {
   "cell_type": "code",
   "execution_count": 55,
   "metadata": {},
   "outputs": [],
   "source": [
    "CL_order = sum(df4_CL['target'])\n",
    "CO_order = sum(df4_CO['target'])\n",
    "SK_order = sum(df4_SK['target'])\n",
    "SN_order = sum(df4_SN['target'])\n",
    "AC_order = sum(df4_AC['target'])\n",
    "\n",
    "CL_no_order = len(df4_CL['target'] == 0)\n",
    "CO_no_order = len(df4_CO['target'] == 0)\n",
    "SK_no_order = len(df4_SK['target'] == 0)\n",
    "SN_no_order = len(df4_SN['target'] == 0)\n",
    "AC_no_order = len(df4_AC['target'] == 0)"
   ]
  },
  {
   "cell_type": "code",
   "execution_count": 56,
   "metadata": {},
   "outputs": [],
   "source": [
    "contingency_table4 = np.array([\n",
    "    (CL_order, CL_no_order),\n",
    "    (CO_order, CO_no_order),\n",
    "    (SK_order, SK_no_order),\n",
    "    (SN_order, SN_no_order),\n",
    "    (AC_order, AC_no_order)\n",
    "])"
   ]
  },
  {
   "cell_type": "code",
   "execution_count": 58,
   "metadata": {},
   "outputs": [],
   "source": [
    "chi2, p, dof, expected = stats.chi2_contingency(contingency_table4)\n",
    "print(\"chi-squared p-value:\", p)"
   ]
  },
  {
   "cell_type": "code",
   "execution_count": 59,
   "metadata": {},
   "outputs": [
    {
     "data": {
      "text/plain": [
       "(3090.196921561548,\n",
       " 0.0,\n",
       " 4,\n",
       " array([[ 1341.70654188, 54812.29345812],\n",
       "        [ 1157.79951384, 47299.20048616],\n",
       "        [ 1264.60273787, 51662.39726213],\n",
       "        [ 1221.52304817, 49902.47695183],\n",
       "        [ 1177.36815824, 48098.63184176]]))"
      ]
     },
     "execution_count": 59,
     "metadata": {},
     "output_type": "execute_result"
    }
   ],
   "source": [
    "stats.chi2_contingency(contingency_table4)"
   ]
  },
  {
   "cell_type": "code",
   "execution_count": 77,
   "metadata": {},
   "outputs": [],
   "source": [
    "CL_row = (CL_order, CL_no_order)\n",
    "CO_row = (CO_order, CO_no_order)\n",
    "SK_row = (SK_order, SK_no_order)\n",
    "SN_row = (SN_order, SN_no_order)\n",
    "AC_row = (AC_order, AC_no_order)"
   ]
  },
  {
   "cell_type": "code",
   "execution_count": 63,
   "metadata": {},
   "outputs": [],
   "source": [
    "import itertools "
   ]
  },
  {
   "cell_type": "code",
   "execution_count": 99,
   "metadata": {},
   "outputs": [],
   "source": [
    "list_dict = {\n",
    "    'CL': CL_row,\n",
    "    'CO': CO_row,\n",
    "    'SK': SK_row,\n",
    "    'SN': SN_row,\n",
    "    'AC': AC_row,\n",
    "}\n",
    "prefix_list = ['CL','CO','SK','SN','AC']\n",
    "actual_list = [CL_row, CO_row, SK_row, SN_row, AC_row]\n",
    "prefix_codes = itertools.combinations(list_dict.keys(), 2)"
   ]
  },
  {
   "cell_type": "code",
   "execution_count": 100,
   "metadata": {},
   "outputs": [
    {
     "name": "stdout",
     "output_type": "stream",
     "text": [
      "The chi-squared p-value for CL & CO is: 0.0\n",
      "The chi-squared p-value for CL & SK is: 8.834194104780333e-38\n",
      "The chi-squared p-value for CL & SN is: 1.7051316925618514e-254\n",
      "The chi-squared p-value for CL & AC is: 4.852331552532055e-109\n",
      "The chi-squared p-value for CO & SK is: 0.0\n",
      "The chi-squared p-value for CO & SN is: 2.337984213686938e-129\n",
      "The chi-squared p-value for CO & AC is: 7.029886483025703e-242\n",
      "The chi-squared p-value for SK & SN is: 1.4476349622620293e-111\n",
      "The chi-squared p-value for SK & AC is: 4.869900144533299e-23\n",
      "The chi-squared p-value for SN & AC is: 2.5863073601283695e-37\n"
     ]
    }
   ],
   "source": [
    "for combo in prefix_codes:\n",
    "    \n",
    "    ct = np.array([list_dict[combo[0]], list_dict[combo[1]]])\n",
    "    chi2, p, dof, expect = stats.chi2_contingency(ct)\n",
    "    print(f'The chi-squared p-value for {combo[0]} & {combo[1]} is: {p}')"
   ]
  },
  {
   "cell_type": "code",
   "execution_count": 82,
   "metadata": {},
   "outputs": [
    {
     "name": "stdout",
     "output_type": "stream",
     "text": [
      "[[ 2703 53451]\n",
      " [    0 48457]]\n"
     ]
    }
   ],
   "source": [
    "\n",
    "ct_test = np.array([CL_row, CO_row])\n",
    "print(ct_test)"
   ]
  },
  {
   "cell_type": "code",
   "execution_count": 83,
   "metadata": {},
   "outputs": [
    {
     "data": {
      "text/plain": [
       "(2392.4562972685076,\n",
       " 0.0,\n",
       " 1,\n",
       " array([[ 1450.93978645, 54703.06021355],\n",
       "        [ 1252.06021355, 47204.93978645]]))"
      ]
     },
     "execution_count": 83,
     "metadata": {},
     "output_type": "execute_result"
    }
   ],
   "source": [
    "stats.chi2_contingency(ct_test)"
   ]
  },
  {
   "cell_type": "code",
   "execution_count": null,
   "metadata": {},
   "outputs": [],
   "source": []
  }
 ],
 "metadata": {
  "kernelspec": {
   "display_name": "Python (learn-env)",
   "language": "python",
   "name": "learn-env"
  },
  "language_info": {
   "codemirror_mode": {
    "name": "ipython",
    "version": 3
   },
   "file_extension": ".py",
   "mimetype": "text/x-python",
   "name": "python",
   "nbconvert_exporter": "python",
   "pygments_lexer": "ipython3",
   "version": "3.8.5"
  },
  "toc": {
   "base_numbering": 1,
   "nav_menu": {},
   "number_sections": true,
   "sideBar": true,
   "skip_h1_title": false,
   "title_cell": "Table of Contents",
   "title_sidebar": "TOC",
   "toc_cell": true,
   "toc_position": {
    "height": "calc(100% - 180px)",
    "left": "10px",
    "top": "150px",
    "width": "288px"
   },
   "toc_section_display": true,
   "toc_window_display": false
  },
  "varInspector": {
   "cols": {
    "lenName": 16,
    "lenType": 16,
    "lenVar": 40
   },
   "kernels_config": {
    "python": {
     "delete_cmd_postfix": "",
     "delete_cmd_prefix": "del ",
     "library": "var_list.py",
     "varRefreshCmd": "print(var_dic_list())"
    },
    "r": {
     "delete_cmd_postfix": ") ",
     "delete_cmd_prefix": "rm(",
     "library": "var_list.r",
     "varRefreshCmd": "cat(var_dic_list()) "
    }
   },
   "types_to_exclude": [
    "module",
    "function",
    "builtin_function_or_method",
    "instance",
    "_Feature"
   ],
   "window_display": true
  }
 },
 "nbformat": 4,
 "nbformat_minor": 4
}
